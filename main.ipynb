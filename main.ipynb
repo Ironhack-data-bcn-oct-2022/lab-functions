{
 "cells": [
  {
   "cell_type": "markdown",
   "metadata": {},
   "source": [
    "# Functions"
   ]
  },
  {
   "cell_type": "markdown",
   "metadata": {},
   "source": [
    "On this lab we will put to practice some of the concepts we have learned on this past few days.\n",
    "\n",
    "`NOTE: On this lab you should try to write all the functions yourself using only the most basic of python syntax and without functions such as len, count, sum, max, min, in, etc. Give it a try. 🧑🏻‍💻👩🏻‍💻`\n",
    "\n",
    "The cell after each exercise contains a few tests to check if your function works as expected."
   ]
  },
  {
   "cell_type": "code",
   "execution_count": 203,
   "metadata": {},
   "outputs": [],
   "source": [
    "from mod.testing import *\n",
    "import unittest"
   ]
  },
  {
   "cell_type": "markdown",
   "metadata": {},
   "source": [
    "## 1. Write a function that returns the greater of two numbers"
   ]
  },
  {
   "cell_type": "code",
   "execution_count": 204,
   "metadata": {},
   "outputs": [],
   "source": [
    "def greater(a,b):\n",
    "    if a > b:\n",
    "        return a\n",
    "    elif b > a:\n",
    "        return b"
   ]
  },
  {
   "cell_type": "code",
   "execution_count": 205,
   "metadata": {},
   "outputs": [
    {
     "name": "stderr",
     "output_type": "stream",
     "text": [
      "....................................................................................................\n",
      "----------------------------------------------------------------------\n",
      "Ran 100 tests in 0.031s\n",
      "\n",
      "OK\n"
     ]
    }
   ],
   "source": [
    "# This will test your function \n",
    "test_greater(greater)"
   ]
  },
  {
   "cell_type": "markdown",
   "metadata": {},
   "source": [
    "## 2. Now write a function that returns the largest element on a list"
   ]
  },
  {
   "cell_type": "code",
   "execution_count": 206,
   "metadata": {},
   "outputs": [],
   "source": [
    "def greatest(arr):\n",
    "    largest_element = 0\n",
    "    for element in arr:\n",
    "        if element > largest_element:\n",
    "            largest_element = element\n",
    "    return largest_element\n",
    "\n"
   ]
  },
  {
   "cell_type": "code",
   "execution_count": 207,
   "metadata": {},
   "outputs": [
    {
     "name": "stderr",
     "output_type": "stream",
     "text": [
      "....................................................................................................\n",
      "----------------------------------------------------------------------\n",
      "Ran 100 tests in 0.027s\n",
      "\n",
      "OK\n"
     ]
    }
   ],
   "source": [
    "# This will test your function \n",
    "test_greatest(greatest)"
   ]
  },
  {
   "cell_type": "markdown",
   "metadata": {},
   "source": [
    "## 3. Write a function that sums all the elements on a list"
   ]
  },
  {
   "cell_type": "code",
   "execution_count": 208,
   "metadata": {},
   "outputs": [],
   "source": [
    "def sum_all(arr):\n",
    "    total = 0\n",
    "    for i in arr:\n",
    "        total += i\n",
    "    return total"
   ]
  },
  {
   "cell_type": "code",
   "execution_count": 209,
   "metadata": {},
   "outputs": [
    {
     "name": "stderr",
     "output_type": "stream",
     "text": [
      "....................................................................................................\n",
      "----------------------------------------------------------------------\n",
      "Ran 100 tests in 0.026s\n",
      "\n",
      "OK\n"
     ]
    }
   ],
   "source": [
    "# This will test your function \n",
    "test_sum(sum_all)"
   ]
  },
  {
   "cell_type": "markdown",
   "metadata": {},
   "source": [
    "## 4. Write another function that multiplies all the elements on a list"
   ]
  },
  {
   "cell_type": "code",
   "execution_count": 210,
   "metadata": {},
   "outputs": [],
   "source": [
    "def mult_all(arr):\n",
    "    total = 1\n",
    "    for i in arr:\n",
    "        total *= i\n",
    "    return total"
   ]
  },
  {
   "cell_type": "code",
   "execution_count": 211,
   "metadata": {},
   "outputs": [
    {
     "name": "stderr",
     "output_type": "stream",
     "text": [
      "....................................................................................................\n",
      "----------------------------------------------------------------------\n",
      "Ran 100 tests in 0.044s\n",
      "\n",
      "OK\n"
     ]
    }
   ],
   "source": [
    "# This will test your function \n",
    "test_mult(mult_all)"
   ]
  },
  {
   "cell_type": "markdown",
   "metadata": {},
   "source": [
    "## 5. Now combine those two ideas and write a function that receives a list and either \"+\" or \"*\" and outputs acordingly"
   ]
  },
  {
   "cell_type": "code",
   "execution_count": 212,
   "metadata": {},
   "outputs": [],
   "source": [
    "def oper_all(arr, oper):\n",
    "    if oper == '+':\n",
    "        total = 0\n",
    "        for i in arr:\n",
    "            total += i\n",
    "        return total\n",
    "    elif oper == '*':\n",
    "        total = 1\n",
    "        for i in arr:\n",
    "            total *= i\n",
    "        return total"
   ]
  },
  {
   "cell_type": "code",
   "execution_count": 213,
   "metadata": {},
   "outputs": [
    {
     "name": "stderr",
     "output_type": "stream",
     "text": [
      "....................................................................................................\n",
      "----------------------------------------------------------------------\n",
      "Ran 100 tests in 0.026s\n",
      "\n",
      "OK\n"
     ]
    }
   ],
   "source": [
    "# This will test your function \n",
    "test_operations(oper_all)"
   ]
  },
  {
   "cell_type": "markdown",
   "metadata": {},
   "source": [
    "## 6. Write a function that returns the factorial of a number."
   ]
  },
  {
   "cell_type": "code",
   "execution_count": 214,
   "metadata": {},
   "outputs": [],
   "source": [
    "def factorial(n):\n",
    "   fact = 1\n",
    "   for i in range(1,n+1):\n",
    "      fact=fact*i\n",
    "   return fact\n"
   ]
  },
  {
   "cell_type": "code",
   "execution_count": 215,
   "metadata": {},
   "outputs": [
    {
     "name": "stderr",
     "output_type": "stream",
     "text": [
      "....................................................................................................\n",
      "----------------------------------------------------------------------\n",
      "Ran 100 tests in 0.025s\n",
      "\n",
      "OK\n"
     ]
    }
   ],
   "source": [
    "# This will test your function \n",
    "test_factorial(factorial)"
   ]
  },
  {
   "cell_type": "markdown",
   "metadata": {},
   "source": [
    "## 7. Write a function that takes a list and returns a list of the unique values.\n",
    "\n",
    "`NOTE: You cannot use set. 🤔`"
   ]
  },
  {
   "cell_type": "code",
   "execution_count": 216,
   "metadata": {},
   "outputs": [],
   "source": [
    "def unique(arr):\n",
    "    list_ = []\n",
    "    for i in arr:\n",
    "        if i not in list_:\n",
    "            list_.append(i)\n",
    "    return list_\n"
   ]
  },
  {
   "cell_type": "code",
   "execution_count": 217,
   "metadata": {},
   "outputs": [
    {
     "name": "stderr",
     "output_type": "stream",
     "text": [
      "....................................................................................................\n",
      "----------------------------------------------------------------------\n",
      "Ran 100 tests in 0.084s\n",
      "\n",
      "OK\n"
     ]
    }
   ],
   "source": [
    "# This will test your function \n",
    "test_unique(unique)"
   ]
  },
  {
   "cell_type": "markdown",
   "metadata": {},
   "source": [
    "## 8. Write a function that returns the mode of a list, i.e.: the element that appears the most times.\n",
    "`NOTE: You should not use count... 🧐`"
   ]
  },
  {
   "cell_type": "code",
   "execution_count": 218,
   "metadata": {},
   "outputs": [],
   "source": [
    "def mode_counter(arr):\n",
    "    counts = {}\n",
    "    for i in arr:\n",
    "        if i in counts:\n",
    "            counts[i] += 1\n",
    "        else:\n",
    "            counts[i] = 1 \n",
    "    \n",
    "    largest_element = 0\n",
    "    for k, v in counts.items():\n",
    "        if v > largest_element:\n",
    "            largest_element = v\n",
    "            largest_element_2 = k\n",
    "    return largest_element_2"
   ]
  },
  {
   "cell_type": "code",
   "execution_count": 219,
   "metadata": {},
   "outputs": [
    {
     "name": "stderr",
     "output_type": "stream",
     "text": [
      "....................................................................................................\n",
      "----------------------------------------------------------------------\n",
      "Ran 100 tests in 0.026s\n",
      "\n",
      "OK\n"
     ]
    }
   ],
   "source": [
    "# This will test your function \n",
    "test_mode(mode_counter)"
   ]
  },
  {
   "cell_type": "markdown",
   "metadata": {},
   "source": [
    "## 9. Write a function that calculates the standard deviation of a list.\n",
    "`NOTE: Do not use any libraries or already built functions. 😉`"
   ]
  },
  {
   "cell_type": "code",
   "execution_count": 220,
   "metadata": {},
   "outputs": [],
   "source": [
    "from statistics import stdev\n",
    "def st_dev(arr):\n",
    "\n",
    "    counter = 0\n",
    "    for char in arr:\n",
    "        counter += 1\n",
    "\n",
    "    total = 0\n",
    "    for i in arr:\n",
    "        total += i\n",
    "\n",
    "    n = counter\n",
    "    mean = total / n\n",
    "\n",
    "    x = [(x - mean)**2 for x in arr]\n",
    "\n",
    "    total_2 = 0\n",
    "    for i in x:\n",
    "        total_2 += i\n",
    "\n",
    "    var = total_2 / n\n",
    "    std_dev = var ** 0.5\n",
    "    return std_dev"
   ]
  },
  {
   "cell_type": "code",
   "execution_count": 221,
   "metadata": {},
   "outputs": [
    {
     "name": "stderr",
     "output_type": "stream",
     "text": [
      "....FFFF..FFFF.FFF.F.FFF.FF..FFFF.FF....FFFFFF.F.F..F..F....FFFF.F....F.F...FF.F..FFFFF.F.F.F..F.F.F\n",
      "======================================================================\n",
      "FAIL: runTest (mod.testing.test_stdev.<locals>.TestKnown)\n",
      "----------------------------------------------------------------------\n",
      "Traceback (most recent call last):\n",
      "  File \"/Users/marcdalmau/Desktop/lab-functions/mod/testing.py\", line 142, in runTest\n",
      "    self.assertAlmostEqual(fn(self.input), self.output, delta=5, msg=f\"Should be {self.output}\")\n",
      "AssertionError: 581.8567094492239 != 587.424843106745 within 5 delta (5.568133657521116 difference) : Should be 587.424843106745\n",
      "\n",
      "======================================================================\n",
      "FAIL: runTest (mod.testing.test_stdev.<locals>.TestKnown)\n",
      "----------------------------------------------------------------------\n",
      "Traceback (most recent call last):\n",
      "  File \"/Users/marcdalmau/Desktop/lab-functions/mod/testing.py\", line 142, in runTest\n",
      "    self.assertAlmostEqual(fn(self.input), self.output, delta=5, msg=f\"Should be {self.output}\")\n",
      "AssertionError: 676.0777765908298 != 693.6411631080546 within 5 delta (17.563386517224785 difference) : Should be 693.6411631080546\n",
      "\n",
      "======================================================================\n",
      "FAIL: runTest (mod.testing.test_stdev.<locals>.TestKnown)\n",
      "----------------------------------------------------------------------\n",
      "Traceback (most recent call last):\n",
      "  File \"/Users/marcdalmau/Desktop/lab-functions/mod/testing.py\", line 142, in runTest\n",
      "    self.assertAlmostEqual(fn(self.input), self.output, delta=5, msg=f\"Should be {self.output}\")\n",
      "AssertionError: 585.2642735097716 != 590.8650161788026 within 5 delta (5.600742669031092 difference) : Should be 590.8650161788026\n",
      "\n",
      "======================================================================\n",
      "FAIL: runTest (mod.testing.test_stdev.<locals>.TestKnown)\n",
      "----------------------------------------------------------------------\n",
      "Traceback (most recent call last):\n",
      "  File \"/Users/marcdalmau/Desktop/lab-functions/mod/testing.py\", line 142, in runTest\n",
      "    self.assertAlmostEqual(fn(self.input), self.output, delta=5, msg=f\"Should be {self.output}\")\n",
      "AssertionError: 609.6509019284907 != 636.7595997539321 within 5 delta (27.108697825441368 difference) : Should be 636.7595997539321\n",
      "\n",
      "======================================================================\n",
      "FAIL: runTest (mod.testing.test_stdev.<locals>.TestKnown)\n",
      "----------------------------------------------------------------------\n",
      "Traceback (most recent call last):\n",
      "  File \"/Users/marcdalmau/Desktop/lab-functions/mod/testing.py\", line 142, in runTest\n",
      "    self.assertAlmostEqual(fn(self.input), self.output, delta=5, msg=f\"Should be {self.output}\")\n",
      "AssertionError: 678.2823076631802 != 708.4427651653672 within 5 delta (30.160457502187 difference) : Should be 708.4427651653672\n",
      "\n",
      "======================================================================\n",
      "FAIL: runTest (mod.testing.test_stdev.<locals>.TestKnown)\n",
      "----------------------------------------------------------------------\n",
      "Traceback (most recent call last):\n",
      "  File \"/Users/marcdalmau/Desktop/lab-functions/mod/testing.py\", line 142, in runTest\n",
      "    self.assertAlmostEqual(fn(self.input), self.output, delta=5, msg=f\"Should be {self.output}\")\n",
      "AssertionError: 390.83187632990683 != 399.23782458543445 within 5 delta (8.405948255527619 difference) : Should be 399.23782458543445\n",
      "\n",
      "======================================================================\n",
      "FAIL: runTest (mod.testing.test_stdev.<locals>.TestKnown)\n",
      "----------------------------------------------------------------------\n",
      "Traceback (most recent call last):\n",
      "  File \"/Users/marcdalmau/Desktop/lab-functions/mod/testing.py\", line 142, in runTest\n",
      "    self.assertAlmostEqual(fn(self.input), self.output, delta=5, msg=f\"Should be {self.output}\")\n",
      "AssertionError: 529.4242024682756 != 545.7179768837725 within 5 delta (16.293774415496955 difference) : Should be 545.7179768837725\n",
      "\n",
      "======================================================================\n",
      "FAIL: runTest (mod.testing.test_stdev.<locals>.TestKnown)\n",
      "----------------------------------------------------------------------\n",
      "Traceback (most recent call last):\n",
      "  File \"/Users/marcdalmau/Desktop/lab-functions/mod/testing.py\", line 142, in runTest\n",
      "    self.assertAlmostEqual(fn(self.input), self.output, delta=5, msg=f\"Should be {self.output}\")\n",
      "AssertionError: 602.3062469350231 != 610.3912563063539 within 5 delta (8.085009371330784 difference) : Should be 610.3912563063539\n",
      "\n",
      "======================================================================\n",
      "FAIL: runTest (mod.testing.test_stdev.<locals>.TestKnown)\n",
      "----------------------------------------------------------------------\n",
      "Traceback (most recent call last):\n",
      "  File \"/Users/marcdalmau/Desktop/lab-functions/mod/testing.py\", line 142, in runTest\n",
      "    self.assertAlmostEqual(fn(self.input), self.output, delta=5, msg=f\"Should be {self.output}\")\n",
      "AssertionError: 518.4508210790596 != 526.01984657577 within 5 delta (7.569025496710424 difference) : Should be 526.01984657577\n",
      "\n",
      "======================================================================\n",
      "FAIL: runTest (mod.testing.test_stdev.<locals>.TestKnown)\n",
      "----------------------------------------------------------------------\n",
      "Traceback (most recent call last):\n",
      "  File \"/Users/marcdalmau/Desktop/lab-functions/mod/testing.py\", line 142, in runTest\n",
      "    self.assertAlmostEqual(fn(self.input), self.output, delta=5, msg=f\"Should be {self.output}\")\n",
      "AssertionError: 517.0360553954388 != 526.8852462140715 within 5 delta (9.849190818632678 difference) : Should be 526.8852462140715\n",
      "\n",
      "======================================================================\n",
      "FAIL: runTest (mod.testing.test_stdev.<locals>.TestKnown)\n",
      "----------------------------------------------------------------------\n",
      "Traceback (most recent call last):\n",
      "  File \"/Users/marcdalmau/Desktop/lab-functions/mod/testing.py\", line 142, in runTest\n",
      "    self.assertAlmostEqual(fn(self.input), self.output, delta=5, msg=f\"Should be {self.output}\")\n",
      "AssertionError: 568.4862147747199 != 593.7644862666638 within 5 delta (25.278271491943883 difference) : Should be 593.7644862666638\n",
      "\n",
      "======================================================================\n",
      "FAIL: runTest (mod.testing.test_stdev.<locals>.TestKnown)\n",
      "----------------------------------------------------------------------\n",
      "Traceback (most recent call last):\n",
      "  File \"/Users/marcdalmau/Desktop/lab-functions/mod/testing.py\", line 142, in runTest\n",
      "    self.assertAlmostEqual(fn(self.input), self.output, delta=5, msg=f\"Should be {self.output}\")\n",
      "AssertionError: 558.8506856834739 != 568.4043809031429 within 5 delta (9.553695219668953 difference) : Should be 568.4043809031429\n",
      "\n",
      "======================================================================\n",
      "FAIL: runTest (mod.testing.test_stdev.<locals>.TestKnown)\n",
      "----------------------------------------------------------------------\n",
      "Traceback (most recent call last):\n",
      "  File \"/Users/marcdalmau/Desktop/lab-functions/mod/testing.py\", line 142, in runTest\n",
      "    self.assertAlmostEqual(fn(self.input), self.output, delta=5, msg=f\"Should be {self.output}\")\n",
      "AssertionError: 621.5192780741008 != 646.8977745897962 within 5 delta (25.37849651569536 difference) : Should be 646.8977745897962\n",
      "\n",
      "======================================================================\n",
      "FAIL: runTest (mod.testing.test_stdev.<locals>.TestKnown)\n",
      "----------------------------------------------------------------------\n",
      "Traceback (most recent call last):\n",
      "  File \"/Users/marcdalmau/Desktop/lab-functions/mod/testing.py\", line 142, in runTest\n",
      "    self.assertAlmostEqual(fn(self.input), self.output, delta=5, msg=f\"Should be {self.output}\")\n",
      "AssertionError: 572.1893938892426 != 585.6545160085527 within 5 delta (13.465122119310081 difference) : Should be 585.6545160085527\n",
      "\n",
      "======================================================================\n",
      "FAIL: runTest (mod.testing.test_stdev.<locals>.TestKnown)\n",
      "----------------------------------------------------------------------\n",
      "Traceback (most recent call last):\n",
      "  File \"/Users/marcdalmau/Desktop/lab-functions/mod/testing.py\", line 142, in runTest\n",
      "    self.assertAlmostEqual(fn(self.input), self.output, delta=5, msg=f\"Should be {self.output}\")\n",
      "AssertionError: 555.33295692275 != 561.0878562961359 within 5 delta (5.754899373385911 difference) : Should be 561.0878562961359\n",
      "\n",
      "======================================================================\n",
      "FAIL: runTest (mod.testing.test_stdev.<locals>.TestKnown)\n",
      "----------------------------------------------------------------------\n",
      "Traceback (most recent call last):\n",
      "  File \"/Users/marcdalmau/Desktop/lab-functions/mod/testing.py\", line 142, in runTest\n",
      "    self.assertAlmostEqual(fn(self.input), self.output, delta=5, msg=f\"Should be {self.output}\")\n",
      "AssertionError: 595.9952741272425 != 614.3378668988933 within 5 delta (18.342592771650743 difference) : Should be 614.3378668988933\n",
      "\n",
      "======================================================================\n",
      "FAIL: runTest (mod.testing.test_stdev.<locals>.TestKnown)\n",
      "----------------------------------------------------------------------\n",
      "Traceback (most recent call last):\n",
      "  File \"/Users/marcdalmau/Desktop/lab-functions/mod/testing.py\", line 142, in runTest\n",
      "    self.assertAlmostEqual(fn(self.input), self.output, delta=5, msg=f\"Should be {self.output}\")\n",
      "AssertionError: 628.1172773986293 != 633.4179391154156 within 5 delta (5.300661716786294 difference) : Should be 633.4179391154156\n",
      "\n",
      "======================================================================\n",
      "FAIL: runTest (mod.testing.test_stdev.<locals>.TestKnown)\n",
      "----------------------------------------------------------------------\n",
      "Traceback (most recent call last):\n",
      "  File \"/Users/marcdalmau/Desktop/lab-functions/mod/testing.py\", line 142, in runTest\n",
      "    self.assertAlmostEqual(fn(self.input), self.output, delta=5, msg=f\"Should be {self.output}\")\n",
      "AssertionError: 537.263461906726 != 551.2206812826277 within 5 delta (13.957219375901673 difference) : Should be 551.2206812826277\n",
      "\n",
      "======================================================================\n",
      "FAIL: runTest (mod.testing.test_stdev.<locals>.TestKnown)\n",
      "----------------------------------------------------------------------\n",
      "Traceback (most recent call last):\n",
      "  File \"/Users/marcdalmau/Desktop/lab-functions/mod/testing.py\", line 142, in runTest\n",
      "    self.assertAlmostEqual(fn(self.input), self.output, delta=5, msg=f\"Should be {self.output}\")\n",
      "AssertionError: 557.7401995351553 != 568.785632188978 within 5 delta (11.045432653822672 difference) : Should be 568.785632188978\n",
      "\n",
      "======================================================================\n",
      "FAIL: runTest (mod.testing.test_stdev.<locals>.TestKnown)\n",
      "----------------------------------------------------------------------\n",
      "Traceback (most recent call last):\n",
      "  File \"/Users/marcdalmau/Desktop/lab-functions/mod/testing.py\", line 142, in runTest\n",
      "    self.assertAlmostEqual(fn(self.input), self.output, delta=5, msg=f\"Should be {self.output}\")\n",
      "AssertionError: 637.7793667954924 != 650.4098873314131 within 5 delta (12.63052053592071 difference) : Should be 650.4098873314131\n",
      "\n",
      "======================================================================\n",
      "FAIL: runTest (mod.testing.test_stdev.<locals>.TestKnown)\n",
      "----------------------------------------------------------------------\n",
      "Traceback (most recent call last):\n",
      "  File \"/Users/marcdalmau/Desktop/lab-functions/mod/testing.py\", line 142, in runTest\n",
      "    self.assertAlmostEqual(fn(self.input), self.output, delta=5, msg=f\"Should be {self.output}\")\n",
      "AssertionError: 542.1856375818157 != 547.6902014229339 within 5 delta (5.50456384111817 difference) : Should be 547.6902014229339\n",
      "\n",
      "======================================================================\n",
      "FAIL: runTest (mod.testing.test_stdev.<locals>.TestKnown)\n",
      "----------------------------------------------------------------------\n",
      "Traceback (most recent call last):\n",
      "  File \"/Users/marcdalmau/Desktop/lab-functions/mod/testing.py\", line 142, in runTest\n",
      "    self.assertAlmostEqual(fn(self.input), self.output, delta=5, msg=f\"Should be {self.output}\")\n",
      "AssertionError: 545.0432453240351 != 553.2398442917348 within 5 delta (8.196598967699742 difference) : Should be 553.2398442917348\n",
      "\n",
      "======================================================================\n",
      "FAIL: runTest (mod.testing.test_stdev.<locals>.TestKnown)\n",
      "----------------------------------------------------------------------\n",
      "Traceback (most recent call last):\n",
      "  File \"/Users/marcdalmau/Desktop/lab-functions/mod/testing.py\", line 142, in runTest\n",
      "    self.assertAlmostEqual(fn(self.input), self.output, delta=5, msg=f\"Should be {self.output}\")\n",
      "AssertionError: 518.1850341256844 != 527.6938095276053 within 5 delta (9.508775401920843 difference) : Should be 527.6938095276053\n",
      "\n",
      "======================================================================\n",
      "FAIL: runTest (mod.testing.test_stdev.<locals>.TestKnown)\n",
      "----------------------------------------------------------------------\n",
      "Traceback (most recent call last):\n",
      "  File \"/Users/marcdalmau/Desktop/lab-functions/mod/testing.py\", line 142, in runTest\n",
      "    self.assertAlmostEqual(fn(self.input), self.output, delta=5, msg=f\"Should be {self.output}\")\n",
      "AssertionError: 587.1892724863364 != 592.808436617934 within 5 delta (5.619164131597586 difference) : Should be 592.808436617934\n",
      "\n",
      "======================================================================\n",
      "FAIL: runTest (mod.testing.test_stdev.<locals>.TestKnown)\n",
      "----------------------------------------------------------------------\n",
      "Traceback (most recent call last):\n",
      "  File \"/Users/marcdalmau/Desktop/lab-functions/mod/testing.py\", line 142, in runTest\n",
      "    self.assertAlmostEqual(fn(self.input), self.output, delta=5, msg=f\"Should be {self.output}\")\n",
      "AssertionError: 501.1425148129633 != 510.33855735354064 within 5 delta (9.19604254057731 difference) : Should be 510.33855735354064\n",
      "\n",
      "======================================================================\n",
      "FAIL: runTest (mod.testing.test_stdev.<locals>.TestKnown)\n",
      "----------------------------------------------------------------------\n",
      "Traceback (most recent call last):\n",
      "  File \"/Users/marcdalmau/Desktop/lab-functions/mod/testing.py\", line 142, in runTest\n",
      "    self.assertAlmostEqual(fn(self.input), self.output, delta=5, msg=f\"Should be {self.output}\")\n",
      "AssertionError: 590.2426193067093 != 595.489323549258 within 5 delta (5.246704242548617 difference) : Should be 595.489323549258\n",
      "\n",
      "======================================================================\n",
      "FAIL: runTest (mod.testing.test_stdev.<locals>.TestKnown)\n",
      "----------------------------------------------------------------------\n",
      "Traceback (most recent call last):\n",
      "  File \"/Users/marcdalmau/Desktop/lab-functions/mod/testing.py\", line 142, in runTest\n",
      "    self.assertAlmostEqual(fn(self.input), self.output, delta=5, msg=f\"Should be {self.output}\")\n",
      "AssertionError: 565.1344645393732 != 575.5047692400033 within 5 delta (10.370304700630072 difference) : Should be 575.5047692400033\n",
      "\n",
      "======================================================================\n",
      "FAIL: runTest (mod.testing.test_stdev.<locals>.TestKnown)\n",
      "----------------------------------------------------------------------\n",
      "Traceback (most recent call last):\n",
      "  File \"/Users/marcdalmau/Desktop/lab-functions/mod/testing.py\", line 142, in runTest\n",
      "    self.assertAlmostEqual(fn(self.input), self.output, delta=5, msg=f\"Should be {self.output}\")\n",
      "AssertionError: 597.1883975951159 != 618.1487184288568 within 5 delta (20.960320833740866 difference) : Should be 618.1487184288568\n",
      "\n",
      "======================================================================\n",
      "FAIL: runTest (mod.testing.test_stdev.<locals>.TestKnown)\n",
      "----------------------------------------------------------------------\n",
      "Traceback (most recent call last):\n",
      "  File \"/Users/marcdalmau/Desktop/lab-functions/mod/testing.py\", line 142, in runTest\n",
      "    self.assertAlmostEqual(fn(self.input), self.output, delta=5, msg=f\"Should be {self.output}\")\n",
      "AssertionError: 667.7749121772496 != 680.4955773326016 within 5 delta (12.72066515535198 difference) : Should be 680.4955773326016\n",
      "\n",
      "======================================================================\n",
      "FAIL: runTest (mod.testing.test_stdev.<locals>.TestKnown)\n",
      "----------------------------------------------------------------------\n",
      "Traceback (most recent call last):\n",
      "  File \"/Users/marcdalmau/Desktop/lab-functions/mod/testing.py\", line 142, in runTest\n",
      "    self.assertAlmostEqual(fn(self.input), self.output, delta=5, msg=f\"Should be {self.output}\")\n",
      "AssertionError: 619.347051951124 != 624.4869496420434 within 5 delta (5.139897690919497 difference) : Should be 624.4869496420434\n",
      "\n",
      "======================================================================\n",
      "FAIL: runTest (mod.testing.test_stdev.<locals>.TestKnown)\n",
      "----------------------------------------------------------------------\n",
      "Traceback (most recent call last):\n",
      "  File \"/Users/marcdalmau/Desktop/lab-functions/mod/testing.py\", line 142, in runTest\n",
      "    self.assertAlmostEqual(fn(self.input), self.output, delta=5, msg=f\"Should be {self.output}\")\n",
      "AssertionError: 630.6206289045738 != 637.0230329350705 within 5 delta (6.402404030496768 difference) : Should be 637.0230329350705\n",
      "\n",
      "======================================================================\n",
      "FAIL: runTest (mod.testing.test_stdev.<locals>.TestKnown)\n",
      "----------------------------------------------------------------------\n",
      "Traceback (most recent call last):\n",
      "  File \"/Users/marcdalmau/Desktop/lab-functions/mod/testing.py\", line 142, in runTest\n",
      "    self.assertAlmostEqual(fn(self.input), self.output, delta=5, msg=f\"Should be {self.output}\")\n",
      "AssertionError: 576.6649508171494 != 583.0371326662075 within 5 delta (6.372181849058165 difference) : Should be 583.0371326662075\n",
      "\n",
      "======================================================================\n",
      "FAIL: runTest (mod.testing.test_stdev.<locals>.TestKnown)\n",
      "----------------------------------------------------------------------\n",
      "Traceback (most recent call last):\n",
      "  File \"/Users/marcdalmau/Desktop/lab-functions/mod/testing.py\", line 142, in runTest\n",
      "    self.assertAlmostEqual(fn(self.input), self.output, delta=5, msg=f\"Should be {self.output}\")\n",
      "AssertionError: 609.8188794584378 != 628.5869131257357 within 5 delta (18.768033667297914 difference) : Should be 628.5869131257357\n",
      "\n",
      "======================================================================\n",
      "FAIL: runTest (mod.testing.test_stdev.<locals>.TestKnown)\n",
      "----------------------------------------------------------------------\n",
      "Traceback (most recent call last):\n",
      "  File \"/Users/marcdalmau/Desktop/lab-functions/mod/testing.py\", line 142, in runTest\n",
      "    self.assertAlmostEqual(fn(self.input), self.output, delta=5, msg=f\"Should be {self.output}\")\n",
      "AssertionError: 574.5665092517306 != 581.2091173192041 within 5 delta (6.642608067473475 difference) : Should be 581.2091173192041\n",
      "\n",
      "======================================================================\n",
      "FAIL: runTest (mod.testing.test_stdev.<locals>.TestKnown)\n",
      "----------------------------------------------------------------------\n",
      "Traceback (most recent call last):\n",
      "  File \"/Users/marcdalmau/Desktop/lab-functions/mod/testing.py\", line 142, in runTest\n",
      "    self.assertAlmostEqual(fn(self.input), self.output, delta=5, msg=f\"Should be {self.output}\")\n",
      "AssertionError: 562.9982491506637 != 571.4648633274187 within 5 delta (8.466614176755002 difference) : Should be 571.4648633274187\n",
      "\n",
      "======================================================================\n",
      "FAIL: runTest (mod.testing.test_stdev.<locals>.TestKnown)\n",
      "----------------------------------------------------------------------\n",
      "Traceback (most recent call last):\n",
      "  File \"/Users/marcdalmau/Desktop/lab-functions/mod/testing.py\", line 142, in runTest\n",
      "    self.assertAlmostEqual(fn(self.input), self.output, delta=5, msg=f\"Should be {self.output}\")\n",
      "AssertionError: 422.82293991741756 != 430.581806163407 within 5 delta (7.758866245989452 difference) : Should be 430.581806163407\n",
      "\n",
      "======================================================================\n",
      "FAIL: runTest (mod.testing.test_stdev.<locals>.TestKnown)\n",
      "----------------------------------------------------------------------\n",
      "Traceback (most recent call last):\n",
      "  File \"/Users/marcdalmau/Desktop/lab-functions/mod/testing.py\", line 142, in runTest\n",
      "    self.assertAlmostEqual(fn(self.input), self.output, delta=5, msg=f\"Should be {self.output}\")\n",
      "AssertionError: 429.09875676300385 != 448.17903450484715 within 5 delta (19.080277741843304 difference) : Should be 448.17903450484715\n",
      "\n",
      "======================================================================\n",
      "FAIL: runTest (mod.testing.test_stdev.<locals>.TestKnown)\n",
      "----------------------------------------------------------------------\n",
      "Traceback (most recent call last):\n",
      "  File \"/Users/marcdalmau/Desktop/lab-functions/mod/testing.py\", line 142, in runTest\n",
      "    self.assertAlmostEqual(fn(self.input), self.output, delta=5, msg=f\"Should be {self.output}\")\n",
      "AssertionError: 583.1821545780515 != 588.7629722100171 within 5 delta (5.580817631965601 difference) : Should be 588.7629722100171\n",
      "\n",
      "======================================================================\n",
      "FAIL: runTest (mod.testing.test_stdev.<locals>.TestKnown)\n",
      "----------------------------------------------------------------------\n",
      "Traceback (most recent call last):\n",
      "  File \"/Users/marcdalmau/Desktop/lab-functions/mod/testing.py\", line 142, in runTest\n",
      "    self.assertAlmostEqual(fn(self.input), self.output, delta=5, msg=f\"Should be {self.output}\")\n",
      "AssertionError: 591.535079602216 != 603.7329624925245 within 5 delta (12.197882890308506 difference) : Should be 603.7329624925245\n",
      "\n",
      "======================================================================\n",
      "FAIL: runTest (mod.testing.test_stdev.<locals>.TestKnown)\n",
      "----------------------------------------------------------------------\n",
      "Traceback (most recent call last):\n",
      "  File \"/Users/marcdalmau/Desktop/lab-functions/mod/testing.py\", line 142, in runTest\n",
      "    self.assertAlmostEqual(fn(self.input), self.output, delta=5, msg=f\"Should be {self.output}\")\n",
      "AssertionError: 537.8861919169864 != 543.701346776506 within 5 delta (5.81515485951968 difference) : Should be 543.701346776506\n",
      "\n",
      "======================================================================\n",
      "FAIL: runTest (mod.testing.test_stdev.<locals>.TestKnown)\n",
      "----------------------------------------------------------------------\n",
      "Traceback (most recent call last):\n",
      "  File \"/Users/marcdalmau/Desktop/lab-functions/mod/testing.py\", line 142, in runTest\n",
      "    self.assertAlmostEqual(fn(self.input), self.output, delta=5, msg=f\"Should be {self.output}\")\n",
      "AssertionError: 630.6321847338156 != 640.1159076470576 within 5 delta (9.48372291324199 difference) : Should be 640.1159076470576\n",
      "\n",
      "======================================================================\n",
      "FAIL: runTest (mod.testing.test_stdev.<locals>.TestKnown)\n",
      "----------------------------------------------------------------------\n",
      "Traceback (most recent call last):\n",
      "  File \"/Users/marcdalmau/Desktop/lab-functions/mod/testing.py\", line 142, in runTest\n",
      "    self.assertAlmostEqual(fn(self.input), self.output, delta=5, msg=f\"Should be {self.output}\")\n",
      "AssertionError: 540.60353068879 != 547.0014283063745 within 5 delta (6.397897617584476 difference) : Should be 547.0014283063745\n",
      "\n",
      "======================================================================\n",
      "FAIL: runTest (mod.testing.test_stdev.<locals>.TestKnown)\n",
      "----------------------------------------------------------------------\n",
      "Traceback (most recent call last):\n",
      "  File \"/Users/marcdalmau/Desktop/lab-functions/mod/testing.py\", line 142, in runTest\n",
      "    self.assertAlmostEqual(fn(self.input), self.output, delta=5, msg=f\"Should be {self.output}\")\n",
      "AssertionError: 565.9887061602424 != 572.2429148737348 within 5 delta (6.254208713492403 difference) : Should be 572.2429148737348\n",
      "\n",
      "======================================================================\n",
      "FAIL: runTest (mod.testing.test_stdev.<locals>.TestKnown)\n",
      "----------------------------------------------------------------------\n",
      "Traceback (most recent call last):\n",
      "  File \"/Users/marcdalmau/Desktop/lab-functions/mod/testing.py\", line 142, in runTest\n",
      "    self.assertAlmostEqual(fn(self.input), self.output, delta=5, msg=f\"Should be {self.output}\")\n",
      "AssertionError: 572.0041103811225 != 577.5847704395785 within 5 delta (5.580660058456033 difference) : Should be 577.5847704395785\n",
      "\n",
      "======================================================================\n",
      "FAIL: runTest (mod.testing.test_stdev.<locals>.TestKnown)\n",
      "----------------------------------------------------------------------\n",
      "Traceback (most recent call last):\n",
      "  File \"/Users/marcdalmau/Desktop/lab-functions/mod/testing.py\", line 142, in runTest\n",
      "    self.assertAlmostEqual(fn(self.input), self.output, delta=5, msg=f\"Should be {self.output}\")\n",
      "AssertionError: 535.5157167070231 != 546.1210178649474 within 5 delta (10.60530115792426 difference) : Should be 546.1210178649474\n",
      "\n",
      "======================================================================\n",
      "FAIL: runTest (mod.testing.test_stdev.<locals>.TestKnown)\n",
      "----------------------------------------------------------------------\n",
      "Traceback (most recent call last):\n",
      "  File \"/Users/marcdalmau/Desktop/lab-functions/mod/testing.py\", line 142, in runTest\n",
      "    self.assertAlmostEqual(fn(self.input), self.output, delta=5, msg=f\"Should be {self.output}\")\n",
      "AssertionError: 559.4429247075904 != 565.0096580816032 within 5 delta (5.56673337401287 difference) : Should be 565.0096580816032\n",
      "\n",
      "======================================================================\n",
      "FAIL: runTest (mod.testing.test_stdev.<locals>.TestKnown)\n",
      "----------------------------------------------------------------------\n",
      "Traceback (most recent call last):\n",
      "  File \"/Users/marcdalmau/Desktop/lab-functions/mod/testing.py\", line 142, in runTest\n",
      "    self.assertAlmostEqual(fn(self.input), self.output, delta=5, msg=f\"Should be {self.output}\")\n",
      "AssertionError: 559.1452455428961 != 564.7090168622157 within 5 delta (5.563771319319585 difference) : Should be 564.7090168622157\n",
      "\n",
      "======================================================================\n",
      "FAIL: runTest (mod.testing.test_stdev.<locals>.TestKnown)\n",
      "----------------------------------------------------------------------\n",
      "Traceback (most recent call last):\n",
      "  File \"/Users/marcdalmau/Desktop/lab-functions/mod/testing.py\", line 142, in runTest\n",
      "    self.assertAlmostEqual(fn(self.input), self.output, delta=5, msg=f\"Should be {self.output}\")\n",
      "AssertionError: 575.9785449003231 != 581.0090207162536 within 5 delta (5.030475815930572 difference) : Should be 581.0090207162536\n",
      "\n",
      "======================================================================\n",
      "FAIL: runTest (mod.testing.test_stdev.<locals>.TestKnown)\n",
      "----------------------------------------------------------------------\n",
      "Traceback (most recent call last):\n",
      "  File \"/Users/marcdalmau/Desktop/lab-functions/mod/testing.py\", line 142, in runTest\n",
      "    self.assertAlmostEqual(fn(self.input), self.output, delta=5, msg=f\"Should be {self.output}\")\n",
      "AssertionError: 588.4310438219022 != 609.0839960840494 within 5 delta (20.65295226214721 difference) : Should be 609.0839960840494\n",
      "\n",
      "======================================================================\n",
      "FAIL: runTest (mod.testing.test_stdev.<locals>.TestKnown)\n",
      "----------------------------------------------------------------------\n",
      "Traceback (most recent call last):\n",
      "  File \"/Users/marcdalmau/Desktop/lab-functions/mod/testing.py\", line 142, in runTest\n",
      "    self.assertAlmostEqual(fn(self.input), self.output, delta=5, msg=f\"Should be {self.output}\")\n",
      "AssertionError: 613.631834046362 != 622.5904368851487 within 5 delta (8.95860283878676 difference) : Should be 622.5904368851487\n",
      "\n",
      "======================================================================\n",
      "FAIL: runTest (mod.testing.test_stdev.<locals>.TestKnown)\n",
      "----------------------------------------------------------------------\n",
      "Traceback (most recent call last):\n",
      "  File \"/Users/marcdalmau/Desktop/lab-functions/mod/testing.py\", line 142, in runTest\n",
      "    self.assertAlmostEqual(fn(self.input), self.output, delta=5, msg=f\"Should be {self.output}\")\n",
      "AssertionError: 532.3129040120837 != 547.7454593470347 within 5 delta (15.432555334951076 difference) : Should be 547.7454593470347\n",
      "\n",
      "======================================================================\n",
      "FAIL: runTest (mod.testing.test_stdev.<locals>.TestKnown)\n",
      "----------------------------------------------------------------------\n",
      "Traceback (most recent call last):\n",
      "  File \"/Users/marcdalmau/Desktop/lab-functions/mod/testing.py\", line 142, in runTest\n",
      "    self.assertAlmostEqual(fn(self.input), self.output, delta=5, msg=f\"Should be {self.output}\")\n",
      "AssertionError: 566.5190235257952 != 574.1236459874602 within 5 delta (7.604622461665031 difference) : Should be 574.1236459874602\n",
      "\n",
      "======================================================================\n",
      "FAIL: runTest (mod.testing.test_stdev.<locals>.TestKnown)\n",
      "----------------------------------------------------------------------\n",
      "Traceback (most recent call last):\n",
      "  File \"/Users/marcdalmau/Desktop/lab-functions/mod/testing.py\", line 142, in runTest\n",
      "    self.assertAlmostEqual(fn(self.input), self.output, delta=5, msg=f\"Should be {self.output}\")\n",
      "AssertionError: 555.6817770193526 != 560.8995607599073 within 5 delta (5.217783740554751 difference) : Should be 560.8995607599073\n",
      "\n",
      "======================================================================\n",
      "FAIL: runTest (mod.testing.test_stdev.<locals>.TestKnown)\n",
      "----------------------------------------------------------------------\n",
      "Traceback (most recent call last):\n",
      "  File \"/Users/marcdalmau/Desktop/lab-functions/mod/testing.py\", line 142, in runTest\n",
      "    self.assertAlmostEqual(fn(self.input), self.output, delta=5, msg=f\"Should be {self.output}\")\n",
      "AssertionError: 553.0961239369243 != 580.0921086736611 within 5 delta (26.995984736736773 difference) : Should be 580.0921086736611\n",
      "\n",
      "----------------------------------------------------------------------\n",
      "Ran 100 tests in 0.035s\n",
      "\n",
      "FAILED (failures=54)\n"
     ]
    }
   ],
   "source": [
    "# This will test your function \n",
    "test_stdev(st_dev)"
   ]
  },
  {
   "cell_type": "markdown",
   "metadata": {},
   "source": [
    "## 10. Write a function to check if a string is a pangram, i.e.: if it contains all the letters of the alphabet at least once. Mind that the strings may contain characters that are not letters."
   ]
  },
  {
   "cell_type": "code",
   "execution_count": 222,
   "metadata": {},
   "outputs": [],
   "source": [
    "def pangram(string):\n",
    "\n",
    "    alphabet = \"abcdefghijklmnopqrstuvwxyz\"\n",
    "    for char in alphabet:\n",
    "        if char not in string.lower():\n",
    "            return False\n",
    "    return True"
   ]
  },
  {
   "cell_type": "code",
   "execution_count": 223,
   "metadata": {},
   "outputs": [
    {
     "name": "stderr",
     "output_type": "stream",
     "text": [
      "..............................\n",
      "----------------------------------------------------------------------\n",
      "Ran 30 tests in 0.008s\n",
      "\n",
      "OK\n"
     ]
    }
   ],
   "source": [
    "# This will test your function \n",
    "test_pangram(pangram)"
   ]
  },
  {
   "cell_type": "markdown",
   "metadata": {},
   "source": [
    "## 11. Write a function that receives a string of comma separated words and returns a string of comma separated words sorted alphabetically.\n",
    "\n",
    "`NOTE: You may use sorted but not split and definitely no join! 🤪`"
   ]
  },
  {
   "cell_type": "code",
   "execution_count": 224,
   "metadata": {},
   "outputs": [],
   "source": [
    "def sort_alpha(string):\n",
    "    string+=\",\"\n",
    "    newlist=[]\n",
    "    word=\"\"\n",
    "    newword=\"\"\n",
    "    for letter in string.lower():\n",
    "        if letter ==\",\":\n",
    "            newlist.append(word)\n",
    "            word=\"\"\n",
    "        else:\n",
    "            word+=letter\n",
    "            \n",
    "    newlist.sort()\n",
    "    \n",
    "    for elem in newlist:\n",
    "        newword+=\",\"+elem\n",
    "    \n",
    "    newword2=newword[1:]\n",
    "    return newword2\n"
   ]
  },
  {
   "cell_type": "code",
   "execution_count": 225,
   "metadata": {},
   "outputs": [
    {
     "name": "stderr",
     "output_type": "stream",
     "text": [
      "....................................................................................................\n",
      "----------------------------------------------------------------------\n",
      "Ran 100 tests in 0.028s\n",
      "\n",
      "OK\n"
     ]
    }
   ],
   "source": [
    "# This will test your function \n",
    "test_alpha(sort_alpha)"
   ]
  },
  {
   "cell_type": "markdown",
   "metadata": {},
   "source": [
    "## 12. Write a function to check if a given password is strong (at least 8 characters, at least one lower case, at least one upper case, at least one number and at least one special character). It should output True if strong and False if not.\n",
    "`Valid special characters: # @ ! $ % & ( ) ^ * [ ] { }`"
   ]
  },
  {
   "cell_type": "code",
   "execution_count": 226,
   "metadata": {},
   "outputs": [],
   "source": [
    "def check_pass(string):\n",
    "    count_lower = 0\n",
    "    count_upper = 0\n",
    "    count_special = 0\n",
    "    count_number = 0\n",
    "    \n",
    "    lower = \"abcdefghijklmnopqrstuvwxyz\"\n",
    "    upper = 'ABCDEFGHIJKLMNOPQRSTUVWXYZ'\n",
    "    special = \"#@!$%&()^*[]{}\"\n",
    "    number = '1234567890'\n",
    "    \n",
    "    for i in string:\n",
    "        if i in lower:\n",
    "            count_lower += 1\n",
    "        elif i in upper:\n",
    "            count_upper += 1\n",
    "        elif i in special:\n",
    "            count_special += 1\n",
    "        elif i in number:\n",
    "            count_number += 1\n",
    "        else:\n",
    "            return False\n",
    "            \n",
    "    return count_lower >= 1 and count_upper >= 1 and count_special >= 1 and count_number >= 1 and len(string) >= 8"
   ]
  },
  {
   "cell_type": "code",
   "execution_count": 227,
   "metadata": {},
   "outputs": [
    {
     "name": "stderr",
     "output_type": "stream",
     "text": [
      "....................................................................................................\n",
      "----------------------------------------------------------------------\n",
      "Ran 100 tests in 0.024s\n",
      "\n",
      "OK\n"
     ]
    }
   ],
   "source": [
    "# This will test your function \n",
    "test_pass(check_pass)"
   ]
  }
 ],
 "metadata": {
  "kernelspec": {
   "display_name": "Python 3.9.12 ('base')",
   "language": "python",
   "name": "python3"
  },
  "language_info": {
   "codemirror_mode": {
    "name": "ipython",
    "version": 3
   },
   "file_extension": ".py",
   "mimetype": "text/x-python",
   "name": "python",
   "nbconvert_exporter": "python",
   "pygments_lexer": "ipython3",
   "version": "3.9.12"
  },
  "vscode": {
   "interpreter": {
    "hash": "1f2ec5f3a5f415eabd5a31ec32ae902623010d32d5f6d2aaf67d0fa0a75ee3c0"
   }
  }
 },
 "nbformat": 4,
 "nbformat_minor": 4
}
