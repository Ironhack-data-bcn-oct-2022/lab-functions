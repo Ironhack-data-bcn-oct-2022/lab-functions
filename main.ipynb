{
 "cells": [
  {
   "cell_type": "markdown",
   "metadata": {},
   "source": [
    "# Functions"
   ]
  },
  {
   "cell_type": "markdown",
   "metadata": {},
   "source": [
    "On this lab we will put to practice some of the concepts we have learned on this past few days.\n",
    "\n",
    "`NOTE: On this lab you should try to write all the functions yourself using only the most basic of python syntax and without functions such as len, count, sum, max, min, in, etc. Give it a try. 🧑🏻‍💻👩🏻‍💻`\n",
    "\n",
    "The cell after each exercise contains a few tests to check if your function works as expected."
   ]
  },
  {
   "cell_type": "code",
   "execution_count": 1,
   "metadata": {},
   "outputs": [],
   "source": [
    "from mod.testing import *\n",
    "import unittest"
   ]
  },
  {
   "cell_type": "markdown",
   "metadata": {},
   "source": [
    "## 1. Write a function that returns the greater of two numbers"
   ]
  },
  {
   "cell_type": "code",
   "execution_count": 6,
   "metadata": {},
   "outputs": [],
   "source": [
    "def greater(a,b):\n",
    "    if a>b:\n",
    "        return a\n",
    "    elif a<b:\n",
    "        return b\n",
    "    else:\n",
    "        return \"none\"\n"
   ]
  },
  {
   "cell_type": "code",
   "execution_count": 7,
   "metadata": {},
   "outputs": [
    {
     "name": "stderr",
     "output_type": "stream",
     "text": [
      "....................................................................................................\n",
      "----------------------------------------------------------------------\n",
      "Ran 100 tests in 0.057s\n",
      "\n",
      "OK\n"
     ]
    }
   ],
   "source": [
    "# This will test your function \n",
    "test_greater(greater)"
   ]
  },
  {
   "cell_type": "markdown",
   "metadata": {},
   "source": [
    "## 2. Now write a function that returns the largest element on a list"
   ]
  },
  {
   "cell_type": "code",
   "execution_count": 10,
   "metadata": {},
   "outputs": [],
   "source": [
    "def greatest(arr):\n",
    "    max = arr[0]\n",
    "    for x in arr:\n",
    "        if x>max:\n",
    "            max=x\n",
    "    return max\n",
    "        \n",
    "        "
   ]
  },
  {
   "cell_type": "code",
   "execution_count": 11,
   "metadata": {},
   "outputs": [
    {
     "name": "stderr",
     "output_type": "stream",
     "text": [
      "....................................................................................................\n",
      "----------------------------------------------------------------------\n",
      "Ran 100 tests in 0.059s\n",
      "\n",
      "OK\n"
     ]
    }
   ],
   "source": [
    "# This will test your function \n",
    "test_greater(greater)"
   ]
  },
  {
   "cell_type": "markdown",
   "metadata": {},
   "source": [
    "## 3. Write a function that sums all the elements on a list"
   ]
  },
  {
   "cell_type": "code",
   "execution_count": 31,
   "metadata": {},
   "outputs": [],
   "source": [
    "def sum_all(arr):\n",
    "    suma=0\n",
    "    for elem in arr:\n",
    "        suma+=elem\n",
    "    return suma\n",
    "    pass"
   ]
  },
  {
   "cell_type": "code",
   "execution_count": 32,
   "metadata": {},
   "outputs": [
    {
     "name": "stderr",
     "output_type": "stream",
     "text": [
      "....................................................................................................\n",
      "----------------------------------------------------------------------\n",
      "Ran 100 tests in 0.046s\n",
      "\n",
      "OK\n"
     ]
    }
   ],
   "source": [
    "# This will test your function \n",
    "test_sum(sum_all)"
   ]
  },
  {
   "cell_type": "markdown",
   "metadata": {},
   "source": [
    "## 4. Write another function that multiplies all the elements on a list"
   ]
  },
  {
   "cell_type": "code",
   "execution_count": 30,
   "metadata": {},
   "outputs": [],
   "source": [
    "def mult_all(arr):\n",
    "    mult=1\n",
    "    for elem in arr:\n",
    "        mult*=elem\n",
    "    return mult"
   ]
  },
  {
   "cell_type": "code",
   "execution_count": 33,
   "metadata": {},
   "outputs": [
    {
     "name": "stderr",
     "output_type": "stream",
     "text": [
      "....................................................................................................\n",
      "----------------------------------------------------------------------\n",
      "Ran 100 tests in 0.049s\n",
      "\n",
      "OK\n"
     ]
    }
   ],
   "source": [
    "# This will test your function \n",
    "test_mult(mult_all)"
   ]
  },
  {
   "cell_type": "markdown",
   "metadata": {},
   "source": [
    "## 5. Now combine those two ideas and write a function that receives a list and either \"+\" or \"*\" and outputs acordingly"
   ]
  },
  {
   "cell_type": "code",
   "execution_count": 41,
   "metadata": {},
   "outputs": [],
   "source": [
    "def oper_all(arr, oper):\n",
    "    if oper == \"+\":\n",
    "        sol= sum_all(arr)\n",
    "    elif oper == \"*\":\n",
    "        sol=mult_all(arr)\n",
    "    return sol"
   ]
  },
  {
   "cell_type": "code",
   "execution_count": 42,
   "metadata": {},
   "outputs": [
    {
     "name": "stderr",
     "output_type": "stream",
     "text": [
      "....................................................................................................\n",
      "----------------------------------------------------------------------\n",
      "Ran 100 tests in 0.053s\n",
      "\n",
      "OK\n"
     ]
    }
   ],
   "source": [
    "# This will test your function \n",
    "test_operations(oper_all)"
   ]
  },
  {
   "cell_type": "markdown",
   "metadata": {},
   "source": [
    "## 6. Write a function that returns the factorial of a number."
   ]
  },
  {
   "cell_type": "code",
   "execution_count": 43,
   "metadata": {},
   "outputs": [],
   "source": [
    "def factorial(n):\n",
    "    fact=1\n",
    "    for i in range (1,n+1):\n",
    "        fact*=i\n",
    "    return fact"
   ]
  },
  {
   "cell_type": "code",
   "execution_count": 44,
   "metadata": {},
   "outputs": [
    {
     "name": "stderr",
     "output_type": "stream",
     "text": [
      "....................................................................................................\n",
      "----------------------------------------------------------------------\n",
      "Ran 100 tests in 0.058s\n",
      "\n",
      "OK\n"
     ]
    }
   ],
   "source": [
    "# This will test your function \n",
    "test_factorial(factorial)"
   ]
  },
  {
   "cell_type": "markdown",
   "metadata": {},
   "source": [
    "## 7. Write a function that takes a list and returns a list of the unique values.\n",
    "\n",
    "`NOTE: You cannot use set. 🤔`"
   ]
  },
  {
   "cell_type": "code",
   "execution_count": 45,
   "metadata": {},
   "outputs": [],
   "source": [
    "def unique(arr):\n",
    "    lista=[]\n",
    "    for item in arr:\n",
    "        if item not in lista:\n",
    "            lista.append(item)\n",
    "            \n",
    "    return lista"
   ]
  },
  {
   "cell_type": "code",
   "execution_count": 46,
   "metadata": {},
   "outputs": [
    {
     "name": "stderr",
     "output_type": "stream",
     "text": [
      "....................................................................................................\n",
      "----------------------------------------------------------------------\n",
      "Ran 100 tests in 0.093s\n",
      "\n",
      "OK\n"
     ]
    }
   ],
   "source": [
    "# This will test your function \n",
    "test_unique(unique)"
   ]
  },
  {
   "cell_type": "markdown",
   "metadata": {},
   "source": [
    "## 8. Write a function that returns the mode of a list, i.e.: the element that appears the most times.\n",
    "`NOTE: You should not use count... 🧐`"
   ]
  },
  {
   "cell_type": "code",
   "execution_count": 85,
   "metadata": {},
   "outputs": [],
   "source": [
    "def mode_counter(arr):\n",
    "    dictionary={}\n",
    "    maximum =0\n",
    "    for values in arr:\n",
    "        if values in dictionary:\n",
    "            dictionary[values]+=1\n",
    "        else:\n",
    "            dictionary[values]=1\n",
    "            \n",
    "    if not maximum or dictionary[values]>maximum[0]:\n",
    "        maximum=(values,dictionary[values])\n",
    "        mode=maximum[0]\n",
    "    \n",
    "    return mode"
   ]
  },
  {
   "cell_type": "code",
   "execution_count": 86,
   "metadata": {},
   "outputs": [
    {
     "name": "stderr",
     "output_type": "stream",
     "text": [
      "....................................................................................................\n",
      "----------------------------------------------------------------------\n",
      "Ran 100 tests in 0.045s\n",
      "\n",
      "OK\n"
     ]
    }
   ],
   "source": [
    "# This will test your function \n",
    "test_mode(mode_counter)"
   ]
  },
  {
   "cell_type": "code",
   "execution_count": null,
   "metadata": {},
   "outputs": [],
   "source": []
  },
  {
   "cell_type": "markdown",
   "metadata": {},
   "source": [
    "## 9. Write a function that calculates the standard deviation of a list.\n",
    "`NOTE: Do not use any libraries or already built functions. 😉`"
   ]
  },
  {
   "cell_type": "code",
   "execution_count": 106,
   "metadata": {},
   "outputs": [],
   "source": [
    "from statistics import stdev\n",
    "def st_dev(arr):\n",
    "    \n",
    "    suma=0\n",
    "    nelem=0\n",
    "    \n",
    "    for item in arr:\n",
    "        \n",
    "        suma+=item\n",
    "        nelem+=1\n",
    "        \n",
    "    aver= float(suma/nelem)\n",
    "    \n",
    "    prevarian=0\n",
    "\n",
    "    for elem in arr:\n",
    "        prevarian+= (elem - aver)**2\n",
    "    \n",
    "    varian=prevarian/(nelem-1)\n",
    "        \n",
    "    dev=varian**0.5\n",
    "    return dev\n",
    "    \n",
    "        "
   ]
  },
  {
   "cell_type": "code",
   "execution_count": 107,
   "metadata": {},
   "outputs": [
    {
     "data": {
      "text/plain": [
       "1.5811388300841898"
      ]
     },
     "execution_count": 107,
     "metadata": {},
     "output_type": "execute_result"
    }
   ],
   "source": [
    "st_dev([2,3,4,5,6])"
   ]
  },
  {
   "cell_type": "code",
   "execution_count": 108,
   "metadata": {},
   "outputs": [
    {
     "name": "stderr",
     "output_type": "stream",
     "text": [
      "....................................................................................................\n",
      "----------------------------------------------------------------------\n",
      "Ran 100 tests in 0.036s\n",
      "\n",
      "OK\n"
     ]
    }
   ],
   "source": [
    "# This will test your function \n",
    "test_stdev(st_dev)"
   ]
  },
  {
   "cell_type": "markdown",
   "metadata": {},
   "source": [
    "## 10. Write a function to check if a string is a pangram, i.e.: if it contains all the letters of the alphabet at least once. Mind that the strings may contain characters that are not letters."
   ]
  },
  {
   "cell_type": "code",
   "execution_count": 67,
   "metadata": {},
   "outputs": [],
   "source": [
    "def pangram(string):\n",
    "    b=string.lower()\n",
    "    alfa= \"abcdefghijklmnopqrstuvwxyz\"\n",
    "    for i in alfa:\n",
    "        if i not in b:\n",
    "            return False\n",
    "    return True"
   ]
  },
  {
   "cell_type": "code",
   "execution_count": 68,
   "metadata": {},
   "outputs": [
    {
     "name": "stderr",
     "output_type": "stream",
     "text": [
      "..............................\n",
      "----------------------------------------------------------------------\n",
      "Ran 30 tests in 0.024s\n",
      "\n",
      "OK\n"
     ]
    }
   ],
   "source": [
    "# This will test your function \n",
    "test_pangram(pangram)"
   ]
  },
  {
   "cell_type": "markdown",
   "metadata": {},
   "source": [
    "## 11. Write a function that receives a string of comma separated words and returns a string of comma separated words sorted alphabetically.\n",
    "\n",
    "`NOTE: You may use sorted but not split and definitely no join! 🤪`"
   ]
  },
  {
   "cell_type": "code",
   "execution_count": 155,
   "metadata": {},
   "outputs": [],
   "source": [
    "def sort_alpha(string):\n",
    "    string+=\",\"\n",
    "    newlist=[]\n",
    "    word=\"\"\n",
    "    newword=\"\"\n",
    "    for letter in string.lower():\n",
    "        if letter ==\",\":\n",
    "            \n",
    "            newlist.append(word)\n",
    "            word=\"\"\n",
    "        else:\n",
    "            word+=letter\n",
    "            \n",
    "    newlist.sort()\n",
    "    \n",
    "    for elem in newlist:\n",
    "        newword+=\",\"+elem\n",
    "    \n",
    "    newword2=newword[1:]\n",
    "    return newword2\n",
    "    \n",
    "            \n",
    "    \n",
    "    pass"
   ]
  },
  {
   "cell_type": "code",
   "execution_count": 156,
   "metadata": {},
   "outputs": [
    {
     "data": {
      "text/plain": [
       "'bernat,el,hola,soc'"
      ]
     },
     "execution_count": 156,
     "metadata": {},
     "output_type": "execute_result"
    }
   ],
   "source": [
    "sort_alpha(\"hola,soc,el,bernat\")"
   ]
  },
  {
   "cell_type": "code",
   "execution_count": 157,
   "metadata": {},
   "outputs": [
    {
     "name": "stderr",
     "output_type": "stream",
     "text": [
      "....................................................................................................\n",
      "----------------------------------------------------------------------\n",
      "Ran 100 tests in 0.048s\n",
      "\n",
      "OK\n"
     ]
    }
   ],
   "source": [
    "# This will test your function \n",
    "test_alpha(sort_alpha)"
   ]
  },
  {
   "cell_type": "markdown",
   "metadata": {},
   "source": [
    "## 12. Write a function to check if a given password is strong (at least 8 characters, at least one lower case, at least one upper case, at least one number and at least one special character). It should output True if strong and False if not.\n",
    "`Valid special characters: # @ ! $ % & ( ) ^ * [ ] { }`"
   ]
  },
  {
   "cell_type": "code",
   "execution_count": 188,
   "metadata": {},
   "outputs": [],
   "source": [
    "def check_pass(string):\n",
    "    valid_special = \"#@!$%&()^*[]{}\"\n",
    "    minus = \"abcdefghijklmnopqrstuvwxyz\"\n",
    "    mayus=\"ABCDEFGHIJKLMNOPQRSTUVWXYZ\"\n",
    "    num=\"0123456789\"\n",
    "    count=0\n",
    "    isminus=False\n",
    "    ismayus=False\n",
    "    isnum=False\n",
    "    isspecial=False\n",
    "    islong=False\n",
    "    for letter in string:\n",
    "        count+=1\n",
    "        if letter in minus:\n",
    "            isminus = True\n",
    "        elif letter in mayus:\n",
    "            ismayus = True\n",
    "        elif letter in num:\n",
    "            isnum = True\n",
    "        elif letter in valid_special:\n",
    "            isspecial = True\n",
    "    \n",
    "    if count >=8:\n",
    "        islong= True\n",
    "    \n",
    "    if isminus==True and ismayus==True and isnum==True and isspecial==True and count >=8:\n",
    "        return True\n",
    "    \n",
    "    else:   \n",
    "        return False\n",
    "        \n",
    "        \n",
    "    "
   ]
  },
  {
   "cell_type": "code",
   "execution_count": 189,
   "metadata": {},
   "outputs": [
    {
     "data": {
      "text/plain": [
       "True"
      ]
     },
     "execution_count": 189,
     "metadata": {},
     "output_type": "execute_result"
    }
   ],
   "source": []
  },
  {
   "cell_type": "code",
   "execution_count": 184,
   "metadata": {},
   "outputs": [
    {
     "name": "stderr",
     "output_type": "stream",
     "text": [
      "EEE.E..EEEEEEEEEEEEEEE.E.EEE.EEEEEEEEE..E..EE.EE.EEE.EEEEE..EE.EE.EEEEEE.EEEE.E.EE.E.EEEEE.E.EEE.EE.\n",
      "======================================================================\n",
      "ERROR: runTest (mod.testing.test_pass.<locals>.TestKnown)\n",
      "----------------------------------------------------------------------\n",
      "Traceback (most recent call last):\n",
      "  File \"/Users/bernat/github_repo/lab-functions/mod/testing.py\", line 202, in runTest\n",
      "    self.assertEqual(fn(self.input), self.output, f\"Should be {self.output}\")\n",
      "  File \"/var/folders/7s/v9wty4qj3t1cw493y3p29dbc0000gn/T/ipykernel_23585/3032062949.py\", line 19, in check_pass\n",
      "    if isminus==True and ismayus==True and isnum==True and isspecial==True and count >=8:\n",
      "UnboundLocalError: local variable 'isnum' referenced before assignment\n",
      "\n",
      "======================================================================\n",
      "ERROR: runTest (mod.testing.test_pass.<locals>.TestKnown)\n",
      "----------------------------------------------------------------------\n",
      "Traceback (most recent call last):\n",
      "  File \"/Users/bernat/github_repo/lab-functions/mod/testing.py\", line 202, in runTest\n",
      "    self.assertEqual(fn(self.input), self.output, f\"Should be {self.output}\")\n",
      "  File \"/var/folders/7s/v9wty4qj3t1cw493y3p29dbc0000gn/T/ipykernel_23585/3032062949.py\", line 19, in check_pass\n",
      "    if isminus==True and ismayus==True and isnum==True and isspecial==True and count >=8:\n",
      "UnboundLocalError: local variable 'isnum' referenced before assignment\n",
      "\n",
      "======================================================================\n",
      "ERROR: runTest (mod.testing.test_pass.<locals>.TestKnown)\n",
      "----------------------------------------------------------------------\n",
      "Traceback (most recent call last):\n",
      "  File \"/Users/bernat/github_repo/lab-functions/mod/testing.py\", line 202, in runTest\n",
      "    self.assertEqual(fn(self.input), self.output, f\"Should be {self.output}\")\n",
      "  File \"/var/folders/7s/v9wty4qj3t1cw493y3p29dbc0000gn/T/ipykernel_23585/3032062949.py\", line 19, in check_pass\n",
      "    if isminus==True and ismayus==True and isnum==True and isspecial==True and count >=8:\n",
      "UnboundLocalError: local variable 'isnum' referenced before assignment\n",
      "\n",
      "======================================================================\n",
      "ERROR: runTest (mod.testing.test_pass.<locals>.TestKnown)\n",
      "----------------------------------------------------------------------\n",
      "Traceback (most recent call last):\n",
      "  File \"/Users/bernat/github_repo/lab-functions/mod/testing.py\", line 202, in runTest\n",
      "    self.assertEqual(fn(self.input), self.output, f\"Should be {self.output}\")\n",
      "  File \"/var/folders/7s/v9wty4qj3t1cw493y3p29dbc0000gn/T/ipykernel_23585/3032062949.py\", line 19, in check_pass\n",
      "    if isminus==True and ismayus==True and isnum==True and isspecial==True and count >=8:\n",
      "UnboundLocalError: local variable 'ismayus' referenced before assignment\n",
      "\n",
      "======================================================================\n",
      "ERROR: runTest (mod.testing.test_pass.<locals>.TestKnown)\n",
      "----------------------------------------------------------------------\n",
      "Traceback (most recent call last):\n",
      "  File \"/Users/bernat/github_repo/lab-functions/mod/testing.py\", line 202, in runTest\n",
      "    self.assertEqual(fn(self.input), self.output, f\"Should be {self.output}\")\n",
      "  File \"/var/folders/7s/v9wty4qj3t1cw493y3p29dbc0000gn/T/ipykernel_23585/3032062949.py\", line 19, in check_pass\n",
      "    if isminus==True and ismayus==True and isnum==True and isspecial==True and count >=8:\n",
      "UnboundLocalError: local variable 'isnum' referenced before assignment\n",
      "\n",
      "======================================================================\n",
      "ERROR: runTest (mod.testing.test_pass.<locals>.TestKnown)\n",
      "----------------------------------------------------------------------\n",
      "Traceback (most recent call last):\n",
      "  File \"/Users/bernat/github_repo/lab-functions/mod/testing.py\", line 202, in runTest\n",
      "    self.assertEqual(fn(self.input), self.output, f\"Should be {self.output}\")\n",
      "  File \"/var/folders/7s/v9wty4qj3t1cw493y3p29dbc0000gn/T/ipykernel_23585/3032062949.py\", line 19, in check_pass\n",
      "    if isminus==True and ismayus==True and isnum==True and isspecial==True and count >=8:\n",
      "UnboundLocalError: local variable 'isspecial' referenced before assignment\n",
      "\n",
      "======================================================================\n",
      "ERROR: runTest (mod.testing.test_pass.<locals>.TestKnown)\n",
      "----------------------------------------------------------------------\n",
      "Traceback (most recent call last):\n",
      "  File \"/Users/bernat/github_repo/lab-functions/mod/testing.py\", line 202, in runTest\n",
      "    self.assertEqual(fn(self.input), self.output, f\"Should be {self.output}\")\n",
      "  File \"/var/folders/7s/v9wty4qj3t1cw493y3p29dbc0000gn/T/ipykernel_23585/3032062949.py\", line 19, in check_pass\n",
      "    if isminus==True and ismayus==True and isnum==True and isspecial==True and count >=8:\n",
      "UnboundLocalError: local variable 'isspecial' referenced before assignment\n",
      "\n",
      "======================================================================\n",
      "ERROR: runTest (mod.testing.test_pass.<locals>.TestKnown)\n",
      "----------------------------------------------------------------------\n",
      "Traceback (most recent call last):\n",
      "  File \"/Users/bernat/github_repo/lab-functions/mod/testing.py\", line 202, in runTest\n",
      "    self.assertEqual(fn(self.input), self.output, f\"Should be {self.output}\")\n",
      "  File \"/var/folders/7s/v9wty4qj3t1cw493y3p29dbc0000gn/T/ipykernel_23585/3032062949.py\", line 19, in check_pass\n",
      "    if isminus==True and ismayus==True and isnum==True and isspecial==True and count >=8:\n",
      "UnboundLocalError: local variable 'isnum' referenced before assignment\n",
      "\n",
      "======================================================================\n",
      "ERROR: runTest (mod.testing.test_pass.<locals>.TestKnown)\n",
      "----------------------------------------------------------------------\n",
      "Traceback (most recent call last):\n",
      "  File \"/Users/bernat/github_repo/lab-functions/mod/testing.py\", line 202, in runTest\n",
      "    self.assertEqual(fn(self.input), self.output, f\"Should be {self.output}\")\n",
      "  File \"/var/folders/7s/v9wty4qj3t1cw493y3p29dbc0000gn/T/ipykernel_23585/3032062949.py\", line 19, in check_pass\n",
      "    if isminus==True and ismayus==True and isnum==True and isspecial==True and count >=8:\n",
      "UnboundLocalError: local variable 'isnum' referenced before assignment\n",
      "\n",
      "======================================================================\n",
      "ERROR: runTest (mod.testing.test_pass.<locals>.TestKnown)\n",
      "----------------------------------------------------------------------\n",
      "Traceback (most recent call last):\n",
      "  File \"/Users/bernat/github_repo/lab-functions/mod/testing.py\", line 202, in runTest\n",
      "    self.assertEqual(fn(self.input), self.output, f\"Should be {self.output}\")\n",
      "  File \"/var/folders/7s/v9wty4qj3t1cw493y3p29dbc0000gn/T/ipykernel_23585/3032062949.py\", line 19, in check_pass\n",
      "    if isminus==True and ismayus==True and isnum==True and isspecial==True and count >=8:\n",
      "UnboundLocalError: local variable 'isnum' referenced before assignment\n",
      "\n",
      "======================================================================\n",
      "ERROR: runTest (mod.testing.test_pass.<locals>.TestKnown)\n",
      "----------------------------------------------------------------------\n",
      "Traceback (most recent call last):\n",
      "  File \"/Users/bernat/github_repo/lab-functions/mod/testing.py\", line 202, in runTest\n",
      "    self.assertEqual(fn(self.input), self.output, f\"Should be {self.output}\")\n",
      "  File \"/var/folders/7s/v9wty4qj3t1cw493y3p29dbc0000gn/T/ipykernel_23585/3032062949.py\", line 19, in check_pass\n",
      "    if isminus==True and ismayus==True and isnum==True and isspecial==True and count >=8:\n",
      "UnboundLocalError: local variable 'ismayus' referenced before assignment\n",
      "\n",
      "======================================================================\n",
      "ERROR: runTest (mod.testing.test_pass.<locals>.TestKnown)\n",
      "----------------------------------------------------------------------\n",
      "Traceback (most recent call last):\n",
      "  File \"/Users/bernat/github_repo/lab-functions/mod/testing.py\", line 202, in runTest\n",
      "    self.assertEqual(fn(self.input), self.output, f\"Should be {self.output}\")\n",
      "  File \"/var/folders/7s/v9wty4qj3t1cw493y3p29dbc0000gn/T/ipykernel_23585/3032062949.py\", line 19, in check_pass\n",
      "    if isminus==True and ismayus==True and isnum==True and isspecial==True and count >=8:\n",
      "UnboundLocalError: local variable 'ismayus' referenced before assignment\n",
      "\n",
      "======================================================================\n",
      "ERROR: runTest (mod.testing.test_pass.<locals>.TestKnown)\n",
      "----------------------------------------------------------------------\n",
      "Traceback (most recent call last):\n",
      "  File \"/Users/bernat/github_repo/lab-functions/mod/testing.py\", line 202, in runTest\n",
      "    self.assertEqual(fn(self.input), self.output, f\"Should be {self.output}\")\n",
      "  File \"/var/folders/7s/v9wty4qj3t1cw493y3p29dbc0000gn/T/ipykernel_23585/3032062949.py\", line 19, in check_pass\n",
      "    if isminus==True and ismayus==True and isnum==True and isspecial==True and count >=8:\n",
      "UnboundLocalError: local variable 'isnum' referenced before assignment\n",
      "\n"
     ]
    },
    {
     "name": "stderr",
     "output_type": "stream",
     "text": [
      "======================================================================\n",
      "ERROR: runTest (mod.testing.test_pass.<locals>.TestKnown)\n",
      "----------------------------------------------------------------------\n",
      "Traceback (most recent call last):\n",
      "  File \"/Users/bernat/github_repo/lab-functions/mod/testing.py\", line 202, in runTest\n",
      "    self.assertEqual(fn(self.input), self.output, f\"Should be {self.output}\")\n",
      "  File \"/var/folders/7s/v9wty4qj3t1cw493y3p29dbc0000gn/T/ipykernel_23585/3032062949.py\", line 19, in check_pass\n",
      "    if isminus==True and ismayus==True and isnum==True and isspecial==True and count >=8:\n",
      "UnboundLocalError: local variable 'isnum' referenced before assignment\n",
      "\n",
      "======================================================================\n",
      "ERROR: runTest (mod.testing.test_pass.<locals>.TestKnown)\n",
      "----------------------------------------------------------------------\n",
      "Traceback (most recent call last):\n",
      "  File \"/Users/bernat/github_repo/lab-functions/mod/testing.py\", line 202, in runTest\n",
      "    self.assertEqual(fn(self.input), self.output, f\"Should be {self.output}\")\n",
      "  File \"/var/folders/7s/v9wty4qj3t1cw493y3p29dbc0000gn/T/ipykernel_23585/3032062949.py\", line 19, in check_pass\n",
      "    if isminus==True and ismayus==True and isnum==True and isspecial==True and count >=8:\n",
      "UnboundLocalError: local variable 'isnum' referenced before assignment\n",
      "\n",
      "======================================================================\n",
      "ERROR: runTest (mod.testing.test_pass.<locals>.TestKnown)\n",
      "----------------------------------------------------------------------\n",
      "Traceback (most recent call last):\n",
      "  File \"/Users/bernat/github_repo/lab-functions/mod/testing.py\", line 202, in runTest\n",
      "    self.assertEqual(fn(self.input), self.output, f\"Should be {self.output}\")\n",
      "  File \"/var/folders/7s/v9wty4qj3t1cw493y3p29dbc0000gn/T/ipykernel_23585/3032062949.py\", line 19, in check_pass\n",
      "    if isminus==True and ismayus==True and isnum==True and isspecial==True and count >=8:\n",
      "UnboundLocalError: local variable 'isnum' referenced before assignment\n",
      "\n",
      "======================================================================\n",
      "ERROR: runTest (mod.testing.test_pass.<locals>.TestKnown)\n",
      "----------------------------------------------------------------------\n",
      "Traceback (most recent call last):\n",
      "  File \"/Users/bernat/github_repo/lab-functions/mod/testing.py\", line 202, in runTest\n",
      "    self.assertEqual(fn(self.input), self.output, f\"Should be {self.output}\")\n",
      "  File \"/var/folders/7s/v9wty4qj3t1cw493y3p29dbc0000gn/T/ipykernel_23585/3032062949.py\", line 19, in check_pass\n",
      "    if isminus==True and ismayus==True and isnum==True and isspecial==True and count >=8:\n",
      "UnboundLocalError: local variable 'isspecial' referenced before assignment\n",
      "\n",
      "======================================================================\n",
      "ERROR: runTest (mod.testing.test_pass.<locals>.TestKnown)\n",
      "----------------------------------------------------------------------\n",
      "Traceback (most recent call last):\n",
      "  File \"/Users/bernat/github_repo/lab-functions/mod/testing.py\", line 202, in runTest\n",
      "    self.assertEqual(fn(self.input), self.output, f\"Should be {self.output}\")\n",
      "  File \"/var/folders/7s/v9wty4qj3t1cw493y3p29dbc0000gn/T/ipykernel_23585/3032062949.py\", line 19, in check_pass\n",
      "    if isminus==True and ismayus==True and isnum==True and isspecial==True and count >=8:\n",
      "UnboundLocalError: local variable 'isnum' referenced before assignment\n",
      "\n",
      "======================================================================\n",
      "ERROR: runTest (mod.testing.test_pass.<locals>.TestKnown)\n",
      "----------------------------------------------------------------------\n",
      "Traceback (most recent call last):\n",
      "  File \"/Users/bernat/github_repo/lab-functions/mod/testing.py\", line 202, in runTest\n",
      "    self.assertEqual(fn(self.input), self.output, f\"Should be {self.output}\")\n",
      "  File \"/var/folders/7s/v9wty4qj3t1cw493y3p29dbc0000gn/T/ipykernel_23585/3032062949.py\", line 19, in check_pass\n",
      "    if isminus==True and ismayus==True and isnum==True and isspecial==True and count >=8:\n",
      "UnboundLocalError: local variable 'isnum' referenced before assignment\n",
      "\n",
      "======================================================================\n",
      "ERROR: runTest (mod.testing.test_pass.<locals>.TestKnown)\n",
      "----------------------------------------------------------------------\n",
      "Traceback (most recent call last):\n",
      "  File \"/Users/bernat/github_repo/lab-functions/mod/testing.py\", line 202, in runTest\n",
      "    self.assertEqual(fn(self.input), self.output, f\"Should be {self.output}\")\n",
      "  File \"/var/folders/7s/v9wty4qj3t1cw493y3p29dbc0000gn/T/ipykernel_23585/3032062949.py\", line 19, in check_pass\n",
      "    if isminus==True and ismayus==True and isnum==True and isspecial==True and count >=8:\n",
      "UnboundLocalError: local variable 'isminus' referenced before assignment\n",
      "\n",
      "======================================================================\n",
      "ERROR: runTest (mod.testing.test_pass.<locals>.TestKnown)\n",
      "----------------------------------------------------------------------\n",
      "Traceback (most recent call last):\n",
      "  File \"/Users/bernat/github_repo/lab-functions/mod/testing.py\", line 202, in runTest\n",
      "    self.assertEqual(fn(self.input), self.output, f\"Should be {self.output}\")\n",
      "  File \"/var/folders/7s/v9wty4qj3t1cw493y3p29dbc0000gn/T/ipykernel_23585/3032062949.py\", line 19, in check_pass\n",
      "    if isminus==True and ismayus==True and isnum==True and isspecial==True and count >=8:\n",
      "UnboundLocalError: local variable 'isnum' referenced before assignment\n",
      "\n",
      "======================================================================\n",
      "ERROR: runTest (mod.testing.test_pass.<locals>.TestKnown)\n",
      "----------------------------------------------------------------------\n",
      "Traceback (most recent call last):\n",
      "  File \"/Users/bernat/github_repo/lab-functions/mod/testing.py\", line 202, in runTest\n",
      "    self.assertEqual(fn(self.input), self.output, f\"Should be {self.output}\")\n",
      "  File \"/var/folders/7s/v9wty4qj3t1cw493y3p29dbc0000gn/T/ipykernel_23585/3032062949.py\", line 19, in check_pass\n",
      "    if isminus==True and ismayus==True and isnum==True and isspecial==True and count >=8:\n",
      "UnboundLocalError: local variable 'isnum' referenced before assignment\n",
      "\n",
      "======================================================================\n",
      "ERROR: runTest (mod.testing.test_pass.<locals>.TestKnown)\n",
      "----------------------------------------------------------------------\n",
      "Traceback (most recent call last):\n",
      "  File \"/Users/bernat/github_repo/lab-functions/mod/testing.py\", line 202, in runTest\n",
      "    self.assertEqual(fn(self.input), self.output, f\"Should be {self.output}\")\n",
      "  File \"/var/folders/7s/v9wty4qj3t1cw493y3p29dbc0000gn/T/ipykernel_23585/3032062949.py\", line 19, in check_pass\n",
      "    if isminus==True and ismayus==True and isnum==True and isspecial==True and count >=8:\n",
      "UnboundLocalError: local variable 'isnum' referenced before assignment\n",
      "\n",
      "======================================================================\n",
      "ERROR: runTest (mod.testing.test_pass.<locals>.TestKnown)\n",
      "----------------------------------------------------------------------\n",
      "Traceback (most recent call last):\n",
      "  File \"/Users/bernat/github_repo/lab-functions/mod/testing.py\", line 202, in runTest\n",
      "    self.assertEqual(fn(self.input), self.output, f\"Should be {self.output}\")\n",
      "  File \"/var/folders/7s/v9wty4qj3t1cw493y3p29dbc0000gn/T/ipykernel_23585/3032062949.py\", line 19, in check_pass\n",
      "    if isminus==True and ismayus==True and isnum==True and isspecial==True and count >=8:\n",
      "UnboundLocalError: local variable 'ismayus' referenced before assignment\n",
      "\n",
      "======================================================================\n",
      "ERROR: runTest (mod.testing.test_pass.<locals>.TestKnown)\n",
      "----------------------------------------------------------------------\n",
      "Traceback (most recent call last):\n",
      "  File \"/Users/bernat/github_repo/lab-functions/mod/testing.py\", line 202, in runTest\n",
      "    self.assertEqual(fn(self.input), self.output, f\"Should be {self.output}\")\n",
      "  File \"/var/folders/7s/v9wty4qj3t1cw493y3p29dbc0000gn/T/ipykernel_23585/3032062949.py\", line 19, in check_pass\n",
      "    if isminus==True and ismayus==True and isnum==True and isspecial==True and count >=8:\n",
      "UnboundLocalError: local variable 'ismayus' referenced before assignment\n",
      "\n",
      "======================================================================\n",
      "ERROR: runTest (mod.testing.test_pass.<locals>.TestKnown)\n",
      "----------------------------------------------------------------------\n",
      "Traceback (most recent call last):\n",
      "  File \"/Users/bernat/github_repo/lab-functions/mod/testing.py\", line 202, in runTest\n",
      "    self.assertEqual(fn(self.input), self.output, f\"Should be {self.output}\")\n",
      "  File \"/var/folders/7s/v9wty4qj3t1cw493y3p29dbc0000gn/T/ipykernel_23585/3032062949.py\", line 19, in check_pass\n",
      "    if isminus==True and ismayus==True and isnum==True and isspecial==True and count >=8:\n",
      "UnboundLocalError: local variable 'isnum' referenced before assignment\n",
      "\n"
     ]
    },
    {
     "name": "stderr",
     "output_type": "stream",
     "text": [
      "======================================================================\n",
      "ERROR: runTest (mod.testing.test_pass.<locals>.TestKnown)\n",
      "----------------------------------------------------------------------\n",
      "Traceback (most recent call last):\n",
      "  File \"/Users/bernat/github_repo/lab-functions/mod/testing.py\", line 202, in runTest\n",
      "    self.assertEqual(fn(self.input), self.output, f\"Should be {self.output}\")\n",
      "  File \"/var/folders/7s/v9wty4qj3t1cw493y3p29dbc0000gn/T/ipykernel_23585/3032062949.py\", line 19, in check_pass\n",
      "    if isminus==True and ismayus==True and isnum==True and isspecial==True and count >=8:\n",
      "UnboundLocalError: local variable 'ismayus' referenced before assignment\n",
      "\n",
      "======================================================================\n",
      "ERROR: runTest (mod.testing.test_pass.<locals>.TestKnown)\n",
      "----------------------------------------------------------------------\n",
      "Traceback (most recent call last):\n",
      "  File \"/Users/bernat/github_repo/lab-functions/mod/testing.py\", line 202, in runTest\n",
      "    self.assertEqual(fn(self.input), self.output, f\"Should be {self.output}\")\n",
      "  File \"/var/folders/7s/v9wty4qj3t1cw493y3p29dbc0000gn/T/ipykernel_23585/3032062949.py\", line 19, in check_pass\n",
      "    if isminus==True and ismayus==True and isnum==True and isspecial==True and count >=8:\n",
      "UnboundLocalError: local variable 'isnum' referenced before assignment\n",
      "\n",
      "======================================================================\n",
      "ERROR: runTest (mod.testing.test_pass.<locals>.TestKnown)\n",
      "----------------------------------------------------------------------\n",
      "Traceback (most recent call last):\n",
      "  File \"/Users/bernat/github_repo/lab-functions/mod/testing.py\", line 202, in runTest\n",
      "    self.assertEqual(fn(self.input), self.output, f\"Should be {self.output}\")\n",
      "  File \"/var/folders/7s/v9wty4qj3t1cw493y3p29dbc0000gn/T/ipykernel_23585/3032062949.py\", line 19, in check_pass\n",
      "    if isminus==True and ismayus==True and isnum==True and isspecial==True and count >=8:\n",
      "UnboundLocalError: local variable 'ismayus' referenced before assignment\n",
      "\n",
      "======================================================================\n",
      "ERROR: runTest (mod.testing.test_pass.<locals>.TestKnown)\n",
      "----------------------------------------------------------------------\n",
      "Traceback (most recent call last):\n",
      "  File \"/Users/bernat/github_repo/lab-functions/mod/testing.py\", line 202, in runTest\n",
      "    self.assertEqual(fn(self.input), self.output, f\"Should be {self.output}\")\n",
      "  File \"/var/folders/7s/v9wty4qj3t1cw493y3p29dbc0000gn/T/ipykernel_23585/3032062949.py\", line 19, in check_pass\n",
      "    if isminus==True and ismayus==True and isnum==True and isspecial==True and count >=8:\n",
      "UnboundLocalError: local variable 'isnum' referenced before assignment\n",
      "\n",
      "======================================================================\n",
      "ERROR: runTest (mod.testing.test_pass.<locals>.TestKnown)\n",
      "----------------------------------------------------------------------\n",
      "Traceback (most recent call last):\n",
      "  File \"/Users/bernat/github_repo/lab-functions/mod/testing.py\", line 202, in runTest\n",
      "    self.assertEqual(fn(self.input), self.output, f\"Should be {self.output}\")\n",
      "  File \"/var/folders/7s/v9wty4qj3t1cw493y3p29dbc0000gn/T/ipykernel_23585/3032062949.py\", line 19, in check_pass\n",
      "    if isminus==True and ismayus==True and isnum==True and isspecial==True and count >=8:\n",
      "UnboundLocalError: local variable 'isnum' referenced before assignment\n",
      "\n",
      "======================================================================\n",
      "ERROR: runTest (mod.testing.test_pass.<locals>.TestKnown)\n",
      "----------------------------------------------------------------------\n",
      "Traceback (most recent call last):\n",
      "  File \"/Users/bernat/github_repo/lab-functions/mod/testing.py\", line 202, in runTest\n",
      "    self.assertEqual(fn(self.input), self.output, f\"Should be {self.output}\")\n",
      "  File \"/var/folders/7s/v9wty4qj3t1cw493y3p29dbc0000gn/T/ipykernel_23585/3032062949.py\", line 19, in check_pass\n",
      "    if isminus==True and ismayus==True and isnum==True and isspecial==True and count >=8:\n",
      "UnboundLocalError: local variable 'ismayus' referenced before assignment\n",
      "\n",
      "======================================================================\n",
      "ERROR: runTest (mod.testing.test_pass.<locals>.TestKnown)\n",
      "----------------------------------------------------------------------\n",
      "Traceback (most recent call last):\n",
      "  File \"/Users/bernat/github_repo/lab-functions/mod/testing.py\", line 202, in runTest\n",
      "    self.assertEqual(fn(self.input), self.output, f\"Should be {self.output}\")\n",
      "  File \"/var/folders/7s/v9wty4qj3t1cw493y3p29dbc0000gn/T/ipykernel_23585/3032062949.py\", line 19, in check_pass\n",
      "    if isminus==True and ismayus==True and isnum==True and isspecial==True and count >=8:\n",
      "UnboundLocalError: local variable 'isnum' referenced before assignment\n",
      "\n",
      "======================================================================\n",
      "ERROR: runTest (mod.testing.test_pass.<locals>.TestKnown)\n",
      "----------------------------------------------------------------------\n",
      "Traceback (most recent call last):\n",
      "  File \"/Users/bernat/github_repo/lab-functions/mod/testing.py\", line 202, in runTest\n",
      "    self.assertEqual(fn(self.input), self.output, f\"Should be {self.output}\")\n",
      "  File \"/var/folders/7s/v9wty4qj3t1cw493y3p29dbc0000gn/T/ipykernel_23585/3032062949.py\", line 19, in check_pass\n",
      "    if isminus==True and ismayus==True and isnum==True and isspecial==True and count >=8:\n",
      "UnboundLocalError: local variable 'isnum' referenced before assignment\n",
      "\n",
      "======================================================================\n",
      "ERROR: runTest (mod.testing.test_pass.<locals>.TestKnown)\n",
      "----------------------------------------------------------------------\n",
      "Traceback (most recent call last):\n",
      "  File \"/Users/bernat/github_repo/lab-functions/mod/testing.py\", line 202, in runTest\n",
      "    self.assertEqual(fn(self.input), self.output, f\"Should be {self.output}\")\n",
      "  File \"/var/folders/7s/v9wty4qj3t1cw493y3p29dbc0000gn/T/ipykernel_23585/3032062949.py\", line 19, in check_pass\n",
      "    if isminus==True and ismayus==True and isnum==True and isspecial==True and count >=8:\n",
      "UnboundLocalError: local variable 'isnum' referenced before assignment\n",
      "\n",
      "======================================================================\n",
      "ERROR: runTest (mod.testing.test_pass.<locals>.TestKnown)\n",
      "----------------------------------------------------------------------\n",
      "Traceback (most recent call last):\n",
      "  File \"/Users/bernat/github_repo/lab-functions/mod/testing.py\", line 202, in runTest\n",
      "    self.assertEqual(fn(self.input), self.output, f\"Should be {self.output}\")\n",
      "  File \"/var/folders/7s/v9wty4qj3t1cw493y3p29dbc0000gn/T/ipykernel_23585/3032062949.py\", line 19, in check_pass\n",
      "    if isminus==True and ismayus==True and isnum==True and isspecial==True and count >=8:\n",
      "UnboundLocalError: local variable 'isnum' referenced before assignment\n",
      "\n",
      "======================================================================\n",
      "ERROR: runTest (mod.testing.test_pass.<locals>.TestKnown)\n",
      "----------------------------------------------------------------------\n",
      "Traceback (most recent call last):\n",
      "  File \"/Users/bernat/github_repo/lab-functions/mod/testing.py\", line 202, in runTest\n",
      "    self.assertEqual(fn(self.input), self.output, f\"Should be {self.output}\")\n",
      "  File \"/var/folders/7s/v9wty4qj3t1cw493y3p29dbc0000gn/T/ipykernel_23585/3032062949.py\", line 19, in check_pass\n",
      "    if isminus==True and ismayus==True and isnum==True and isspecial==True and count >=8:\n",
      "UnboundLocalError: local variable 'ismayus' referenced before assignment\n",
      "\n",
      "======================================================================\n",
      "ERROR: runTest (mod.testing.test_pass.<locals>.TestKnown)\n",
      "----------------------------------------------------------------------\n",
      "Traceback (most recent call last):\n",
      "  File \"/Users/bernat/github_repo/lab-functions/mod/testing.py\", line 202, in runTest\n",
      "    self.assertEqual(fn(self.input), self.output, f\"Should be {self.output}\")\n",
      "  File \"/var/folders/7s/v9wty4qj3t1cw493y3p29dbc0000gn/T/ipykernel_23585/3032062949.py\", line 19, in check_pass\n",
      "    if isminus==True and ismayus==True and isnum==True and isspecial==True and count >=8:\n",
      "UnboundLocalError: local variable 'ismayus' referenced before assignment\n",
      "\n",
      "======================================================================\n",
      "ERROR: runTest (mod.testing.test_pass.<locals>.TestKnown)\n",
      "----------------------------------------------------------------------\n",
      "Traceback (most recent call last):\n",
      "  File \"/Users/bernat/github_repo/lab-functions/mod/testing.py\", line 202, in runTest\n",
      "    self.assertEqual(fn(self.input), self.output, f\"Should be {self.output}\")\n",
      "  File \"/var/folders/7s/v9wty4qj3t1cw493y3p29dbc0000gn/T/ipykernel_23585/3032062949.py\", line 19, in check_pass\n",
      "    if isminus==True and ismayus==True and isnum==True and isspecial==True and count >=8:\n",
      "UnboundLocalError: local variable 'isnum' referenced before assignment\n",
      "\n"
     ]
    },
    {
     "name": "stderr",
     "output_type": "stream",
     "text": [
      "======================================================================\n",
      "ERROR: runTest (mod.testing.test_pass.<locals>.TestKnown)\n",
      "----------------------------------------------------------------------\n",
      "Traceback (most recent call last):\n",
      "  File \"/Users/bernat/github_repo/lab-functions/mod/testing.py\", line 202, in runTest\n",
      "    self.assertEqual(fn(self.input), self.output, f\"Should be {self.output}\")\n",
      "  File \"/var/folders/7s/v9wty4qj3t1cw493y3p29dbc0000gn/T/ipykernel_23585/3032062949.py\", line 19, in check_pass\n",
      "    if isminus==True and ismayus==True and isnum==True and isspecial==True and count >=8:\n",
      "UnboundLocalError: local variable 'ismayus' referenced before assignment\n",
      "\n",
      "======================================================================\n",
      "ERROR: runTest (mod.testing.test_pass.<locals>.TestKnown)\n",
      "----------------------------------------------------------------------\n",
      "Traceback (most recent call last):\n",
      "  File \"/Users/bernat/github_repo/lab-functions/mod/testing.py\", line 202, in runTest\n",
      "    self.assertEqual(fn(self.input), self.output, f\"Should be {self.output}\")\n",
      "  File \"/var/folders/7s/v9wty4qj3t1cw493y3p29dbc0000gn/T/ipykernel_23585/3032062949.py\", line 19, in check_pass\n",
      "    if isminus==True and ismayus==True and isnum==True and isspecial==True and count >=8:\n",
      "UnboundLocalError: local variable 'ismayus' referenced before assignment\n",
      "\n",
      "======================================================================\n",
      "ERROR: runTest (mod.testing.test_pass.<locals>.TestKnown)\n",
      "----------------------------------------------------------------------\n",
      "Traceback (most recent call last):\n",
      "  File \"/Users/bernat/github_repo/lab-functions/mod/testing.py\", line 202, in runTest\n",
      "    self.assertEqual(fn(self.input), self.output, f\"Should be {self.output}\")\n",
      "  File \"/var/folders/7s/v9wty4qj3t1cw493y3p29dbc0000gn/T/ipykernel_23585/3032062949.py\", line 19, in check_pass\n",
      "    if isminus==True and ismayus==True and isnum==True and isspecial==True and count >=8:\n",
      "UnboundLocalError: local variable 'isspecial' referenced before assignment\n",
      "\n",
      "======================================================================\n",
      "ERROR: runTest (mod.testing.test_pass.<locals>.TestKnown)\n",
      "----------------------------------------------------------------------\n",
      "Traceback (most recent call last):\n",
      "  File \"/Users/bernat/github_repo/lab-functions/mod/testing.py\", line 202, in runTest\n",
      "    self.assertEqual(fn(self.input), self.output, f\"Should be {self.output}\")\n",
      "  File \"/var/folders/7s/v9wty4qj3t1cw493y3p29dbc0000gn/T/ipykernel_23585/3032062949.py\", line 19, in check_pass\n",
      "    if isminus==True and ismayus==True and isnum==True and isspecial==True and count >=8:\n",
      "UnboundLocalError: local variable 'ismayus' referenced before assignment\n",
      "\n",
      "======================================================================\n",
      "ERROR: runTest (mod.testing.test_pass.<locals>.TestKnown)\n",
      "----------------------------------------------------------------------\n",
      "Traceback (most recent call last):\n",
      "  File \"/Users/bernat/github_repo/lab-functions/mod/testing.py\", line 202, in runTest\n",
      "    self.assertEqual(fn(self.input), self.output, f\"Should be {self.output}\")\n",
      "  File \"/var/folders/7s/v9wty4qj3t1cw493y3p29dbc0000gn/T/ipykernel_23585/3032062949.py\", line 19, in check_pass\n",
      "    if isminus==True and ismayus==True and isnum==True and isspecial==True and count >=8:\n",
      "UnboundLocalError: local variable 'isnum' referenced before assignment\n",
      "\n",
      "======================================================================\n",
      "ERROR: runTest (mod.testing.test_pass.<locals>.TestKnown)\n",
      "----------------------------------------------------------------------\n",
      "Traceback (most recent call last):\n",
      "  File \"/Users/bernat/github_repo/lab-functions/mod/testing.py\", line 202, in runTest\n",
      "    self.assertEqual(fn(self.input), self.output, f\"Should be {self.output}\")\n",
      "  File \"/var/folders/7s/v9wty4qj3t1cw493y3p29dbc0000gn/T/ipykernel_23585/3032062949.py\", line 19, in check_pass\n",
      "    if isminus==True and ismayus==True and isnum==True and isspecial==True and count >=8:\n",
      "UnboundLocalError: local variable 'isnum' referenced before assignment\n",
      "\n",
      "======================================================================\n",
      "ERROR: runTest (mod.testing.test_pass.<locals>.TestKnown)\n",
      "----------------------------------------------------------------------\n",
      "Traceback (most recent call last):\n",
      "  File \"/Users/bernat/github_repo/lab-functions/mod/testing.py\", line 202, in runTest\n",
      "    self.assertEqual(fn(self.input), self.output, f\"Should be {self.output}\")\n",
      "  File \"/var/folders/7s/v9wty4qj3t1cw493y3p29dbc0000gn/T/ipykernel_23585/3032062949.py\", line 19, in check_pass\n",
      "    if isminus==True and ismayus==True and isnum==True and isspecial==True and count >=8:\n",
      "UnboundLocalError: local variable 'isnum' referenced before assignment\n",
      "\n",
      "======================================================================\n",
      "ERROR: runTest (mod.testing.test_pass.<locals>.TestKnown)\n",
      "----------------------------------------------------------------------\n",
      "Traceback (most recent call last):\n",
      "  File \"/Users/bernat/github_repo/lab-functions/mod/testing.py\", line 202, in runTest\n",
      "    self.assertEqual(fn(self.input), self.output, f\"Should be {self.output}\")\n",
      "  File \"/var/folders/7s/v9wty4qj3t1cw493y3p29dbc0000gn/T/ipykernel_23585/3032062949.py\", line 19, in check_pass\n",
      "    if isminus==True and ismayus==True and isnum==True and isspecial==True and count >=8:\n",
      "UnboundLocalError: local variable 'isnum' referenced before assignment\n",
      "\n",
      "======================================================================\n",
      "ERROR: runTest (mod.testing.test_pass.<locals>.TestKnown)\n",
      "----------------------------------------------------------------------\n",
      "Traceback (most recent call last):\n",
      "  File \"/Users/bernat/github_repo/lab-functions/mod/testing.py\", line 202, in runTest\n",
      "    self.assertEqual(fn(self.input), self.output, f\"Should be {self.output}\")\n",
      "  File \"/var/folders/7s/v9wty4qj3t1cw493y3p29dbc0000gn/T/ipykernel_23585/3032062949.py\", line 19, in check_pass\n",
      "    if isminus==True and ismayus==True and isnum==True and isspecial==True and count >=8:\n",
      "UnboundLocalError: local variable 'isnum' referenced before assignment\n",
      "\n",
      "======================================================================\n",
      "ERROR: runTest (mod.testing.test_pass.<locals>.TestKnown)\n",
      "----------------------------------------------------------------------\n",
      "Traceback (most recent call last):\n",
      "  File \"/Users/bernat/github_repo/lab-functions/mod/testing.py\", line 202, in runTest\n",
      "    self.assertEqual(fn(self.input), self.output, f\"Should be {self.output}\")\n",
      "  File \"/var/folders/7s/v9wty4qj3t1cw493y3p29dbc0000gn/T/ipykernel_23585/3032062949.py\", line 19, in check_pass\n",
      "    if isminus==True and ismayus==True and isnum==True and isspecial==True and count >=8:\n",
      "UnboundLocalError: local variable 'isnum' referenced before assignment\n",
      "\n",
      "======================================================================\n",
      "ERROR: runTest (mod.testing.test_pass.<locals>.TestKnown)\n",
      "----------------------------------------------------------------------\n",
      "Traceback (most recent call last):\n",
      "  File \"/Users/bernat/github_repo/lab-functions/mod/testing.py\", line 202, in runTest\n",
      "    self.assertEqual(fn(self.input), self.output, f\"Should be {self.output}\")\n",
      "  File \"/var/folders/7s/v9wty4qj3t1cw493y3p29dbc0000gn/T/ipykernel_23585/3032062949.py\", line 19, in check_pass\n",
      "    if isminus==True and ismayus==True and isnum==True and isspecial==True and count >=8:\n",
      "UnboundLocalError: local variable 'isnum' referenced before assignment\n",
      "\n",
      "======================================================================\n",
      "ERROR: runTest (mod.testing.test_pass.<locals>.TestKnown)\n",
      "----------------------------------------------------------------------\n",
      "Traceback (most recent call last):\n",
      "  File \"/Users/bernat/github_repo/lab-functions/mod/testing.py\", line 202, in runTest\n",
      "    self.assertEqual(fn(self.input), self.output, f\"Should be {self.output}\")\n",
      "  File \"/var/folders/7s/v9wty4qj3t1cw493y3p29dbc0000gn/T/ipykernel_23585/3032062949.py\", line 19, in check_pass\n",
      "    if isminus==True and ismayus==True and isnum==True and isspecial==True and count >=8:\n",
      "UnboundLocalError: local variable 'isnum' referenced before assignment\n",
      "\n",
      "======================================================================\n",
      "ERROR: runTest (mod.testing.test_pass.<locals>.TestKnown)\n",
      "----------------------------------------------------------------------\n",
      "Traceback (most recent call last):\n",
      "  File \"/Users/bernat/github_repo/lab-functions/mod/testing.py\", line 202, in runTest\n",
      "    self.assertEqual(fn(self.input), self.output, f\"Should be {self.output}\")\n",
      "  File \"/var/folders/7s/v9wty4qj3t1cw493y3p29dbc0000gn/T/ipykernel_23585/3032062949.py\", line 19, in check_pass\n",
      "    if isminus==True and ismayus==True and isnum==True and isspecial==True and count >=8:\n",
      "UnboundLocalError: local variable 'isnum' referenced before assignment\n",
      "\n"
     ]
    },
    {
     "name": "stderr",
     "output_type": "stream",
     "text": [
      "======================================================================\n",
      "ERROR: runTest (mod.testing.test_pass.<locals>.TestKnown)\n",
      "----------------------------------------------------------------------\n",
      "Traceback (most recent call last):\n",
      "  File \"/Users/bernat/github_repo/lab-functions/mod/testing.py\", line 202, in runTest\n",
      "    self.assertEqual(fn(self.input), self.output, f\"Should be {self.output}\")\n",
      "  File \"/var/folders/7s/v9wty4qj3t1cw493y3p29dbc0000gn/T/ipykernel_23585/3032062949.py\", line 19, in check_pass\n",
      "    if isminus==True and ismayus==True and isnum==True and isspecial==True and count >=8:\n",
      "UnboundLocalError: local variable 'isnum' referenced before assignment\n",
      "\n",
      "======================================================================\n",
      "ERROR: runTest (mod.testing.test_pass.<locals>.TestKnown)\n",
      "----------------------------------------------------------------------\n",
      "Traceback (most recent call last):\n",
      "  File \"/Users/bernat/github_repo/lab-functions/mod/testing.py\", line 202, in runTest\n",
      "    self.assertEqual(fn(self.input), self.output, f\"Should be {self.output}\")\n",
      "  File \"/var/folders/7s/v9wty4qj3t1cw493y3p29dbc0000gn/T/ipykernel_23585/3032062949.py\", line 19, in check_pass\n",
      "    if isminus==True and ismayus==True and isnum==True and isspecial==True and count >=8:\n",
      "UnboundLocalError: local variable 'isnum' referenced before assignment\n",
      "\n",
      "======================================================================\n",
      "ERROR: runTest (mod.testing.test_pass.<locals>.TestKnown)\n",
      "----------------------------------------------------------------------\n",
      "Traceback (most recent call last):\n",
      "  File \"/Users/bernat/github_repo/lab-functions/mod/testing.py\", line 202, in runTest\n",
      "    self.assertEqual(fn(self.input), self.output, f\"Should be {self.output}\")\n",
      "  File \"/var/folders/7s/v9wty4qj3t1cw493y3p29dbc0000gn/T/ipykernel_23585/3032062949.py\", line 19, in check_pass\n",
      "    if isminus==True and ismayus==True and isnum==True and isspecial==True and count >=8:\n",
      "UnboundLocalError: local variable 'ismayus' referenced before assignment\n",
      "\n",
      "======================================================================\n",
      "ERROR: runTest (mod.testing.test_pass.<locals>.TestKnown)\n",
      "----------------------------------------------------------------------\n",
      "Traceback (most recent call last):\n",
      "  File \"/Users/bernat/github_repo/lab-functions/mod/testing.py\", line 202, in runTest\n",
      "    self.assertEqual(fn(self.input), self.output, f\"Should be {self.output}\")\n",
      "  File \"/var/folders/7s/v9wty4qj3t1cw493y3p29dbc0000gn/T/ipykernel_23585/3032062949.py\", line 19, in check_pass\n",
      "    if isminus==True and ismayus==True and isnum==True and isspecial==True and count >=8:\n",
      "UnboundLocalError: local variable 'isspecial' referenced before assignment\n",
      "\n",
      "======================================================================\n",
      "ERROR: runTest (mod.testing.test_pass.<locals>.TestKnown)\n",
      "----------------------------------------------------------------------\n",
      "Traceback (most recent call last):\n",
      "  File \"/Users/bernat/github_repo/lab-functions/mod/testing.py\", line 202, in runTest\n",
      "    self.assertEqual(fn(self.input), self.output, f\"Should be {self.output}\")\n",
      "  File \"/var/folders/7s/v9wty4qj3t1cw493y3p29dbc0000gn/T/ipykernel_23585/3032062949.py\", line 19, in check_pass\n",
      "    if isminus==True and ismayus==True and isnum==True and isspecial==True and count >=8:\n",
      "UnboundLocalError: local variable 'isnum' referenced before assignment\n",
      "\n",
      "======================================================================\n",
      "ERROR: runTest (mod.testing.test_pass.<locals>.TestKnown)\n",
      "----------------------------------------------------------------------\n",
      "Traceback (most recent call last):\n",
      "  File \"/Users/bernat/github_repo/lab-functions/mod/testing.py\", line 202, in runTest\n",
      "    self.assertEqual(fn(self.input), self.output, f\"Should be {self.output}\")\n",
      "  File \"/var/folders/7s/v9wty4qj3t1cw493y3p29dbc0000gn/T/ipykernel_23585/3032062949.py\", line 19, in check_pass\n",
      "    if isminus==True and ismayus==True and isnum==True and isspecial==True and count >=8:\n",
      "UnboundLocalError: local variable 'isspecial' referenced before assignment\n",
      "\n",
      "======================================================================\n",
      "ERROR: runTest (mod.testing.test_pass.<locals>.TestKnown)\n",
      "----------------------------------------------------------------------\n",
      "Traceback (most recent call last):\n",
      "  File \"/Users/bernat/github_repo/lab-functions/mod/testing.py\", line 202, in runTest\n",
      "    self.assertEqual(fn(self.input), self.output, f\"Should be {self.output}\")\n",
      "  File \"/var/folders/7s/v9wty4qj3t1cw493y3p29dbc0000gn/T/ipykernel_23585/3032062949.py\", line 19, in check_pass\n",
      "    if isminus==True and ismayus==True and isnum==True and isspecial==True and count >=8:\n",
      "UnboundLocalError: local variable 'isnum' referenced before assignment\n",
      "\n",
      "======================================================================\n",
      "ERROR: runTest (mod.testing.test_pass.<locals>.TestKnown)\n",
      "----------------------------------------------------------------------\n",
      "Traceback (most recent call last):\n",
      "  File \"/Users/bernat/github_repo/lab-functions/mod/testing.py\", line 202, in runTest\n",
      "    self.assertEqual(fn(self.input), self.output, f\"Should be {self.output}\")\n",
      "  File \"/var/folders/7s/v9wty4qj3t1cw493y3p29dbc0000gn/T/ipykernel_23585/3032062949.py\", line 19, in check_pass\n",
      "    if isminus==True and ismayus==True and isnum==True and isspecial==True and count >=8:\n",
      "UnboundLocalError: local variable 'isnum' referenced before assignment\n",
      "\n",
      "======================================================================\n",
      "ERROR: runTest (mod.testing.test_pass.<locals>.TestKnown)\n",
      "----------------------------------------------------------------------\n",
      "Traceback (most recent call last):\n",
      "  File \"/Users/bernat/github_repo/lab-functions/mod/testing.py\", line 202, in runTest\n",
      "    self.assertEqual(fn(self.input), self.output, f\"Should be {self.output}\")\n",
      "  File \"/var/folders/7s/v9wty4qj3t1cw493y3p29dbc0000gn/T/ipykernel_23585/3032062949.py\", line 19, in check_pass\n",
      "    if isminus==True and ismayus==True and isnum==True and isspecial==True and count >=8:\n",
      "UnboundLocalError: local variable 'isnum' referenced before assignment\n",
      "\n",
      "======================================================================\n",
      "ERROR: runTest (mod.testing.test_pass.<locals>.TestKnown)\n",
      "----------------------------------------------------------------------\n",
      "Traceback (most recent call last):\n",
      "  File \"/Users/bernat/github_repo/lab-functions/mod/testing.py\", line 202, in runTest\n",
      "    self.assertEqual(fn(self.input), self.output, f\"Should be {self.output}\")\n",
      "  File \"/var/folders/7s/v9wty4qj3t1cw493y3p29dbc0000gn/T/ipykernel_23585/3032062949.py\", line 19, in check_pass\n",
      "    if isminus==True and ismayus==True and isnum==True and isspecial==True and count >=8:\n",
      "UnboundLocalError: local variable 'ismayus' referenced before assignment\n",
      "\n",
      "======================================================================\n",
      "ERROR: runTest (mod.testing.test_pass.<locals>.TestKnown)\n",
      "----------------------------------------------------------------------\n",
      "Traceback (most recent call last):\n",
      "  File \"/Users/bernat/github_repo/lab-functions/mod/testing.py\", line 202, in runTest\n",
      "    self.assertEqual(fn(self.input), self.output, f\"Should be {self.output}\")\n",
      "  File \"/var/folders/7s/v9wty4qj3t1cw493y3p29dbc0000gn/T/ipykernel_23585/3032062949.py\", line 19, in check_pass\n",
      "    if isminus==True and ismayus==True and isnum==True and isspecial==True and count >=8:\n",
      "UnboundLocalError: local variable 'isspecial' referenced before assignment\n",
      "\n",
      "======================================================================\n",
      "ERROR: runTest (mod.testing.test_pass.<locals>.TestKnown)\n",
      "----------------------------------------------------------------------\n",
      "Traceback (most recent call last):\n",
      "  File \"/Users/bernat/github_repo/lab-functions/mod/testing.py\", line 202, in runTest\n",
      "    self.assertEqual(fn(self.input), self.output, f\"Should be {self.output}\")\n",
      "  File \"/var/folders/7s/v9wty4qj3t1cw493y3p29dbc0000gn/T/ipykernel_23585/3032062949.py\", line 19, in check_pass\n",
      "    if isminus==True and ismayus==True and isnum==True and isspecial==True and count >=8:\n",
      "UnboundLocalError: local variable 'isspecial' referenced before assignment\n",
      "\n",
      "======================================================================\n",
      "ERROR: runTest (mod.testing.test_pass.<locals>.TestKnown)\n",
      "----------------------------------------------------------------------\n",
      "Traceback (most recent call last):\n",
      "  File \"/Users/bernat/github_repo/lab-functions/mod/testing.py\", line 202, in runTest\n",
      "    self.assertEqual(fn(self.input), self.output, f\"Should be {self.output}\")\n",
      "  File \"/var/folders/7s/v9wty4qj3t1cw493y3p29dbc0000gn/T/ipykernel_23585/3032062949.py\", line 19, in check_pass\n",
      "    if isminus==True and ismayus==True and isnum==True and isspecial==True and count >=8:\n",
      "UnboundLocalError: local variable 'isnum' referenced before assignment\n",
      "\n"
     ]
    },
    {
     "name": "stderr",
     "output_type": "stream",
     "text": [
      "======================================================================\n",
      "ERROR: runTest (mod.testing.test_pass.<locals>.TestKnown)\n",
      "----------------------------------------------------------------------\n",
      "Traceback (most recent call last):\n",
      "  File \"/Users/bernat/github_repo/lab-functions/mod/testing.py\", line 202, in runTest\n",
      "    self.assertEqual(fn(self.input), self.output, f\"Should be {self.output}\")\n",
      "  File \"/var/folders/7s/v9wty4qj3t1cw493y3p29dbc0000gn/T/ipykernel_23585/3032062949.py\", line 19, in check_pass\n",
      "    if isminus==True and ismayus==True and isnum==True and isspecial==True and count >=8:\n",
      "UnboundLocalError: local variable 'isnum' referenced before assignment\n",
      "\n",
      "======================================================================\n",
      "ERROR: runTest (mod.testing.test_pass.<locals>.TestKnown)\n",
      "----------------------------------------------------------------------\n",
      "Traceback (most recent call last):\n",
      "  File \"/Users/bernat/github_repo/lab-functions/mod/testing.py\", line 202, in runTest\n",
      "    self.assertEqual(fn(self.input), self.output, f\"Should be {self.output}\")\n",
      "  File \"/var/folders/7s/v9wty4qj3t1cw493y3p29dbc0000gn/T/ipykernel_23585/3032062949.py\", line 19, in check_pass\n",
      "    if isminus==True and ismayus==True and isnum==True and isspecial==True and count >=8:\n",
      "UnboundLocalError: local variable 'isnum' referenced before assignment\n",
      "\n",
      "======================================================================\n",
      "ERROR: runTest (mod.testing.test_pass.<locals>.TestKnown)\n",
      "----------------------------------------------------------------------\n",
      "Traceback (most recent call last):\n",
      "  File \"/Users/bernat/github_repo/lab-functions/mod/testing.py\", line 202, in runTest\n",
      "    self.assertEqual(fn(self.input), self.output, f\"Should be {self.output}\")\n",
      "  File \"/var/folders/7s/v9wty4qj3t1cw493y3p29dbc0000gn/T/ipykernel_23585/3032062949.py\", line 19, in check_pass\n",
      "    if isminus==True and ismayus==True and isnum==True and isspecial==True and count >=8:\n",
      "UnboundLocalError: local variable 'isnum' referenced before assignment\n",
      "\n",
      "======================================================================\n",
      "ERROR: runTest (mod.testing.test_pass.<locals>.TestKnown)\n",
      "----------------------------------------------------------------------\n",
      "Traceback (most recent call last):\n",
      "  File \"/Users/bernat/github_repo/lab-functions/mod/testing.py\", line 202, in runTest\n",
      "    self.assertEqual(fn(self.input), self.output, f\"Should be {self.output}\")\n",
      "  File \"/var/folders/7s/v9wty4qj3t1cw493y3p29dbc0000gn/T/ipykernel_23585/3032062949.py\", line 19, in check_pass\n",
      "    if isminus==True and ismayus==True and isnum==True and isspecial==True and count >=8:\n",
      "UnboundLocalError: local variable 'isspecial' referenced before assignment\n",
      "\n",
      "======================================================================\n",
      "ERROR: runTest (mod.testing.test_pass.<locals>.TestKnown)\n",
      "----------------------------------------------------------------------\n",
      "Traceback (most recent call last):\n",
      "  File \"/Users/bernat/github_repo/lab-functions/mod/testing.py\", line 202, in runTest\n",
      "    self.assertEqual(fn(self.input), self.output, f\"Should be {self.output}\")\n",
      "  File \"/var/folders/7s/v9wty4qj3t1cw493y3p29dbc0000gn/T/ipykernel_23585/3032062949.py\", line 19, in check_pass\n",
      "    if isminus==True and ismayus==True and isnum==True and isspecial==True and count >=8:\n",
      "UnboundLocalError: local variable 'ismayus' referenced before assignment\n",
      "\n",
      "======================================================================\n",
      "ERROR: runTest (mod.testing.test_pass.<locals>.TestKnown)\n",
      "----------------------------------------------------------------------\n",
      "Traceback (most recent call last):\n",
      "  File \"/Users/bernat/github_repo/lab-functions/mod/testing.py\", line 202, in runTest\n",
      "    self.assertEqual(fn(self.input), self.output, f\"Should be {self.output}\")\n",
      "  File \"/var/folders/7s/v9wty4qj3t1cw493y3p29dbc0000gn/T/ipykernel_23585/3032062949.py\", line 19, in check_pass\n",
      "    if isminus==True and ismayus==True and isnum==True and isspecial==True and count >=8:\n",
      "UnboundLocalError: local variable 'isspecial' referenced before assignment\n",
      "\n",
      "======================================================================\n",
      "ERROR: runTest (mod.testing.test_pass.<locals>.TestKnown)\n",
      "----------------------------------------------------------------------\n",
      "Traceback (most recent call last):\n",
      "  File \"/Users/bernat/github_repo/lab-functions/mod/testing.py\", line 202, in runTest\n",
      "    self.assertEqual(fn(self.input), self.output, f\"Should be {self.output}\")\n",
      "  File \"/var/folders/7s/v9wty4qj3t1cw493y3p29dbc0000gn/T/ipykernel_23585/3032062949.py\", line 19, in check_pass\n",
      "    if isminus==True and ismayus==True and isnum==True and isspecial==True and count >=8:\n",
      "UnboundLocalError: local variable 'isspecial' referenced before assignment\n",
      "\n",
      "======================================================================\n",
      "ERROR: runTest (mod.testing.test_pass.<locals>.TestKnown)\n",
      "----------------------------------------------------------------------\n",
      "Traceback (most recent call last):\n",
      "  File \"/Users/bernat/github_repo/lab-functions/mod/testing.py\", line 202, in runTest\n",
      "    self.assertEqual(fn(self.input), self.output, f\"Should be {self.output}\")\n",
      "  File \"/var/folders/7s/v9wty4qj3t1cw493y3p29dbc0000gn/T/ipykernel_23585/3032062949.py\", line 19, in check_pass\n",
      "    if isminus==True and ismayus==True and isnum==True and isspecial==True and count >=8:\n",
      "UnboundLocalError: local variable 'isnum' referenced before assignment\n",
      "\n",
      "======================================================================\n",
      "ERROR: runTest (mod.testing.test_pass.<locals>.TestKnown)\n",
      "----------------------------------------------------------------------\n",
      "Traceback (most recent call last):\n",
      "  File \"/Users/bernat/github_repo/lab-functions/mod/testing.py\", line 202, in runTest\n",
      "    self.assertEqual(fn(self.input), self.output, f\"Should be {self.output}\")\n",
      "  File \"/var/folders/7s/v9wty4qj3t1cw493y3p29dbc0000gn/T/ipykernel_23585/3032062949.py\", line 19, in check_pass\n",
      "    if isminus==True and ismayus==True and isnum==True and isspecial==True and count >=8:\n",
      "UnboundLocalError: local variable 'isnum' referenced before assignment\n",
      "\n",
      "----------------------------------------------------------------------\n",
      "Ran 100 tests in 0.067s\n",
      "\n",
      "FAILED (errors=74)\n"
     ]
    }
   ],
   "source": [
    "# This will test your function \n",
    "test_pass(check_pass)"
   ]
  },
  {
   "cell_type": "code",
   "execution_count": null,
   "metadata": {},
   "outputs": [],
   "source": []
  }
 ],
 "metadata": {
  "kernelspec": {
   "display_name": "Python 3 (ipykernel)",
   "language": "python",
   "name": "python3"
  },
  "language_info": {
   "codemirror_mode": {
    "name": "ipython",
    "version": 3
   },
   "file_extension": ".py",
   "mimetype": "text/x-python",
   "name": "python",
   "nbconvert_exporter": "python",
   "pygments_lexer": "ipython3",
   "version": "3.9.13"
  }
 },
 "nbformat": 4,
 "nbformat_minor": 4
}
