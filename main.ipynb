{
 "cells": [
  {
   "cell_type": "markdown",
   "metadata": {},
   "source": [
    "# Functions"
   ]
  },
  {
   "cell_type": "markdown",
   "metadata": {},
   "source": [
    "On this lab we will put to practice some of the concepts we have learned on this past few days.\n",
    "\n",
    "`NOTE: On this lab you should try to write all the functions yourself using only the most basic of python syntax and without functions such as len, count, sum, max, min, in, etc. Give it a try. 🧑🏻‍💻👩🏻‍💻`\n",
    "\n",
    "The cell after each exercise contains a few tests to check if your function works as expected."
   ]
  },
  {
   "cell_type": "code",
   "execution_count": 1,
   "metadata": {},
   "outputs": [],
   "source": [
    "from mod.testing import *\n",
    "import unittest"
   ]
  },
  {
   "cell_type": "markdown",
   "metadata": {},
   "source": [
    "## 1. Write a function that returns the greater of two numbers"
   ]
  },
  {
   "cell_type": "code",
   "execution_count": 11,
   "metadata": {},
   "outputs": [],
   "source": [
    "def greater(a,b):\n",
    "    if a > b:\n",
    "        return a\n",
    "    elif b > a:\n",
    "        return b\n",
    "    else:\n",
    "        return (f\"a and b are the same value, which is {a}\")"
   ]
  },
  {
   "cell_type": "code",
   "execution_count": 12,
   "metadata": {},
   "outputs": [
    {
     "name": "stderr",
     "output_type": "stream",
     "text": [
      "....................................................................................................\n",
      "----------------------------------------------------------------------\n",
      "Ran 100 tests in 0.091s\n",
      "\n",
      "OK\n"
     ]
    }
   ],
   "source": [
    "# This will test your function \n",
    "test_greater(greater)"
   ]
  },
  {
   "cell_type": "markdown",
   "metadata": {},
   "source": [
    "## 2. Now write a function that returns the largest element on a list"
   ]
  },
  {
   "cell_type": "code",
   "execution_count": 28,
   "metadata": {},
   "outputs": [],
   "source": [
    "def greatest(arr):\n",
    "    max_ = arr[0]\n",
    "    for i in arr:\n",
    "        if max_ < i:\n",
    "            max_ = i\n",
    "    return max_"
   ]
  },
  {
   "cell_type": "code",
   "execution_count": 29,
   "metadata": {},
   "outputs": [
    {
     "data": {
      "text/plain": [
       "20"
      ]
     },
     "execution_count": 29,
     "metadata": {},
     "output_type": "execute_result"
    }
   ],
   "source": [
    "greatest([7, 20, 5, 6])"
   ]
  },
  {
   "cell_type": "code",
   "execution_count": 16,
   "metadata": {},
   "outputs": [
    {
     "name": "stderr",
     "output_type": "stream",
     "text": [
      "....................................................................................................\n",
      "----------------------------------------------------------------------\n",
      "Ran 100 tests in 0.102s\n",
      "\n",
      "OK\n"
     ]
    }
   ],
   "source": [
    "# This will test your function \n",
    "test_greatest(greatest)"
   ]
  },
  {
   "cell_type": "markdown",
   "metadata": {},
   "source": [
    "## 3. Write a function that sums all the elements on a list"
   ]
  },
  {
   "cell_type": "code",
   "execution_count": 42,
   "metadata": {},
   "outputs": [],
   "source": [
    "def sum_all(arr):\n",
    "    sum_ = 0\n",
    "    for i in arr:\n",
    "        sum_ += i\n",
    "    return sum_"
   ]
  },
  {
   "cell_type": "code",
   "execution_count": 43,
   "metadata": {},
   "outputs": [
    {
     "name": "stderr",
     "output_type": "stream",
     "text": [
      "....................................................................................................\n",
      "----------------------------------------------------------------------\n",
      "Ran 100 tests in 0.094s\n",
      "\n",
      "OK\n"
     ]
    }
   ],
   "source": [
    "# This will test your function \n",
    "test_sum(sum_all)"
   ]
  },
  {
   "cell_type": "code",
   "execution_count": 44,
   "metadata": {},
   "outputs": [
    {
     "data": {
      "text/plain": [
       "38"
      ]
     },
     "execution_count": 44,
     "metadata": {},
     "output_type": "execute_result"
    }
   ],
   "source": [
    "sum_all([7, 20, 5, 6])"
   ]
  },
  {
   "cell_type": "markdown",
   "metadata": {},
   "source": [
    "## 4. Write another function that multiplies all the elements on a list"
   ]
  },
  {
   "cell_type": "code",
   "execution_count": 48,
   "metadata": {},
   "outputs": [],
   "source": [
    "def mult_all(arr):\n",
    "    mult_ = 1\n",
    "    for i in arr:\n",
    "        mult_ *= i\n",
    "    return mult_"
   ]
  },
  {
   "cell_type": "code",
   "execution_count": 49,
   "metadata": {},
   "outputs": [
    {
     "name": "stderr",
     "output_type": "stream",
     "text": [
      "....................................................................................................\n",
      "----------------------------------------------------------------------\n",
      "Ran 100 tests in 0.084s\n",
      "\n",
      "OK\n"
     ]
    }
   ],
   "source": [
    "# This will test your function \n",
    "test_mult(mult_all)"
   ]
  },
  {
   "cell_type": "code",
   "execution_count": 50,
   "metadata": {},
   "outputs": [
    {
     "data": {
      "text/plain": [
       "140"
      ]
     },
     "execution_count": 50,
     "metadata": {},
     "output_type": "execute_result"
    }
   ],
   "source": [
    "mult_all([7, 20])"
   ]
  },
  {
   "cell_type": "markdown",
   "metadata": {},
   "source": [
    "## 5. Now combine those two ideas and write a function that receives a list and either \"+\" or \"*\" and outputs acordingly"
   ]
  },
  {
   "cell_type": "code",
   "execution_count": 58,
   "metadata": {},
   "outputs": [],
   "source": [
    "def oper_all(arr, oper):\n",
    "    sum_ = 0\n",
    "    mult_ = 1\n",
    "    if oper == '+':\n",
    "        for i in arr:\n",
    "            sum_ += i\n",
    "        return sum_\n",
    "    elif oper == '*':\n",
    "        for i in arr:\n",
    "            mult_ *= i\n",
    "        return mult_\n",
    "    else:\n",
    "        pass"
   ]
  },
  {
   "cell_type": "code",
   "execution_count": 59,
   "metadata": {},
   "outputs": [
    {
     "name": "stderr",
     "output_type": "stream",
     "text": [
      "....................................................................................................\n",
      "----------------------------------------------------------------------\n",
      "Ran 100 tests in 0.096s\n",
      "\n",
      "OK\n"
     ]
    }
   ],
   "source": [
    "# This will test your function \n",
    "test_operations(oper_all)"
   ]
  },
  {
   "cell_type": "code",
   "execution_count": 61,
   "metadata": {},
   "outputs": [
    {
     "data": {
      "text/plain": [
       "140"
      ]
     },
     "execution_count": 61,
     "metadata": {},
     "output_type": "execute_result"
    }
   ],
   "source": [
    "oper_all([7, 20], '*')"
   ]
  },
  {
   "cell_type": "markdown",
   "metadata": {},
   "source": [
    "## 6. Write a function that returns the factorial of a number."
   ]
  },
  {
   "cell_type": "code",
   "execution_count": 70,
   "metadata": {},
   "outputs": [],
   "source": [
    "def factorial(n):\n",
    "    fact = 1\n",
    "    for i in range(1,n+1):\n",
    "        fact *= i\n",
    "    return fact"
   ]
  },
  {
   "cell_type": "code",
   "execution_count": 71,
   "metadata": {
    "scrolled": true
   },
   "outputs": [
    {
     "name": "stderr",
     "output_type": "stream",
     "text": [
      "....................................................................................................\n",
      "----------------------------------------------------------------------\n",
      "Ran 100 tests in 0.093s\n",
      "\n",
      "OK\n"
     ]
    }
   ],
   "source": [
    "# This will test your function \n",
    "test_factorial(factorial)"
   ]
  },
  {
   "cell_type": "code",
   "execution_count": 73,
   "metadata": {},
   "outputs": [
    {
     "data": {
      "text/plain": [
       "6"
      ]
     },
     "execution_count": 73,
     "metadata": {},
     "output_type": "execute_result"
    }
   ],
   "source": [
    "factorial(3)"
   ]
  },
  {
   "cell_type": "markdown",
   "metadata": {},
   "source": [
    "## 7. Write a function that takes a list and returns a list of the unique values.\n",
    "\n",
    "`NOTE: You cannot use set. 🤔`"
   ]
  },
  {
   "cell_type": "code",
   "execution_count": 78,
   "metadata": {},
   "outputs": [],
   "source": [
    "def unique(arr):\n",
    "    my_unique = []\n",
    "    for i in arr:\n",
    "        if i not in my_unique:\n",
    "            my_unique.append(i)\n",
    "        else: \n",
    "            pass     \n",
    "    return my_unique\n",
    "    "
   ]
  },
  {
   "cell_type": "code",
   "execution_count": 79,
   "metadata": {},
   "outputs": [
    {
     "name": "stderr",
     "output_type": "stream",
     "text": [
      "....................................................................................................\n",
      "----------------------------------------------------------------------\n",
      "Ran 100 tests in 0.198s\n",
      "\n",
      "OK\n"
     ]
    }
   ],
   "source": [
    "# This will test your function \n",
    "test_unique(unique)"
   ]
  },
  {
   "cell_type": "code",
   "execution_count": 81,
   "metadata": {},
   "outputs": [
    {
     "data": {
      "text/plain": [
       "[10, 20, 30, 40]"
      ]
     },
     "execution_count": 81,
     "metadata": {},
     "output_type": "execute_result"
    }
   ],
   "source": [
    "unique([10, 20, 10, 30, 40, 40, 10, 10])"
   ]
  },
  {
   "cell_type": "markdown",
   "metadata": {},
   "source": [
    "## 8. Write a function that returns the mode of a list, i.e.: the element that appears the most times.\n",
    "`NOTE: You should not use count... 🧐`"
   ]
  },
  {
   "cell_type": "code",
   "execution_count": 100,
   "metadata": {},
   "outputs": [],
   "source": [
    "def mode_counter(arr):\n",
    "    counter = 0\n",
    "    counter_max = 0\n",
    "    mode = 0\n",
    "    for i in arr:\n",
    "        #print('i = ', i)\n",
    "        for element in arr:\n",
    "            #print('element = ', element)\n",
    "            if i == element:\n",
    "                counter += 1\n",
    "                #print('counter = ', counter)\n",
    "        if counter > counter_max:\n",
    "            counter_max = counter\n",
    "            mode = i\n",
    "            #print('counter_max = ', counter_max)\n",
    "            #print('mode = ', mode)\n",
    "        counter = 0\n",
    "    return mode"
   ]
  },
  {
   "cell_type": "code",
   "execution_count": 101,
   "metadata": {},
   "outputs": [
    {
     "data": {
      "text/plain": [
       "1"
      ]
     },
     "execution_count": 101,
     "metadata": {},
     "output_type": "execute_result"
    }
   ],
   "source": [
    "mode_counter([1,2,3,1,2,1])"
   ]
  },
  {
   "cell_type": "code",
   "execution_count": 102,
   "metadata": {},
   "outputs": [
    {
     "name": "stderr",
     "output_type": "stream",
     "text": [
      "....................................................................................................\n",
      "----------------------------------------------------------------------\n",
      "Ran 100 tests in 0.244s\n",
      "\n",
      "OK\n"
     ]
    }
   ],
   "source": [
    "# This will test your function \n",
    "test_mode(mode_counter)"
   ]
  },
  {
   "cell_type": "markdown",
   "metadata": {},
   "source": [
    "## 9. Write a function that calculates the standard deviation of a list.\n",
    "`NOTE: Do not use any libraries or already built functions. 😉`"
   ]
  },
  {
   "cell_type": "code",
   "execution_count": null,
   "metadata": {},
   "outputs": [],
   "source": [
    "from statistics import stdev\n",
    "def st_dev(arr):\n",
    "    pass"
   ]
  },
  {
   "cell_type": "code",
   "execution_count": null,
   "metadata": {},
   "outputs": [],
   "source": [
    "# This will test your function - That one is the one we don´t need to do?\n",
    "test_stdev(st_dev)"
   ]
  },
  {
   "cell_type": "markdown",
   "metadata": {},
   "source": [
    "## 10. Write a function to check if a string is a pangram, i.e.: if it contains all the letters of the alphabet at least once. Mind that the strings may contain characters that are not letters."
   ]
  },
  {
   "cell_type": "code",
   "execution_count": 205,
   "metadata": {},
   "outputs": [],
   "source": [
    "def pangram(string):\n",
    "    alphabet = [\"a\",\"b\",\"c\",\"d\",\"e\",\"f\",\"g\",\"h\",\"i\",\"j\",\"k\",\"l\",\"m\",\"n\",\"o\",\"p\",\"q\",\"r\",\"s\",\"t\",\"u\",\"v\",\"w\",\"x\",\"y\",\"z\"]\n",
    "    empty_list = []\n",
    "    string = string.lower()\n",
    "    for let in string:\n",
    "        for i, v in enumerate(alphabet):\n",
    "            if v == let:\n",
    "                alphabet.pop(i)\n",
    "    result = empty_list == alphabet\n",
    "    if result == True:\n",
    "        return result\n",
    "    else:\n",
    "        return False\n"
   ]
  },
  {
   "cell_type": "code",
   "execution_count": 206,
   "metadata": {
    "scrolled": false
   },
   "outputs": [
    {
     "name": "stderr",
     "output_type": "stream",
     "text": [
      "..............................\n",
      "----------------------------------------------------------------------\n",
      "Ran 30 tests in 0.033s\n",
      "\n",
      "OK\n"
     ]
    }
   ],
   "source": [
    "# This will test your function \n",
    "test_pangram(pangram)"
   ]
  },
  {
   "cell_type": "markdown",
   "metadata": {},
   "source": [
    "## 11. Write a function that receives a string of comma separated words and returns a string of comma separated words sorted alphabetically.\n",
    "\n",
    "`NOTE: You may use sorted but not split and definitely no join! 🤪`"
   ]
  },
  {
   "cell_type": "code",
   "execution_count": 185,
   "metadata": {},
   "outputs": [],
   "source": [
    "def sort_alpha(string):\n",
    "#convert the string into a list\n",
    "#sort the list alphabetically\n",
    "#Add commas within the words (?)\n",
    "#Convert the final list into a string again\n",
    "    my_list_alpha = []\n",
    "    my_new_str = \"\"\n",
    "\n",
    "    for i in sort_alpha:\n",
    "        my_list_alpha.append(i)\n",
    "    my_list_alpha = sorted(my_list_alpha)\n",
    "#print(my_list_alpha)\n",
    "    \n",
    "    for i in my_list_alpha:\n",
    "        my_new_str += i + ','\n",
    "    return(my_new_str[0:-1])"
   ]
  },
  {
   "cell_type": "code",
   "execution_count": 188,
   "metadata": {},
   "outputs": [
    {
     "name": "stdout",
     "output_type": "stream",
     "text": [
      "hello,is,my,name\n"
     ]
    }
   ],
   "source": [
    "sort_alpha = ('hello','my','name','is')\n",
    "my_list_alpha = []\n",
    "my_new_str = \"\"\n",
    "\n",
    "for i in sort_alpha:\n",
    "    my_list_alpha.append(i)\n",
    "my_list_alpha = sorted(my_list_alpha)\n",
    "#print(my_list_alpha)\n",
    "    \n",
    "for i in my_list_alpha:\n",
    "    my_new_str += i + ','\n",
    "print(my_new_str[0:-1])"
   ]
  },
  {
   "cell_type": "code",
   "execution_count": 189,
   "metadata": {
    "scrolled": false
   },
   "outputs": [
    {
     "name": "stderr",
     "output_type": "stream",
     "text": [
      "EEEEEEEEEEEEEEEEEEEEEEEEEEEEEEEEEEEEEEEEEEEEEEEEEEEEEEEEEEEEEEEEEEEEEEEEEEEEEEEEEEEEEEEEEEEEEEEEEEEE\n",
      "======================================================================\n",
      "ERROR: runTest (mod.testing.test_alpha.<locals>.TestKnown)\n",
      "----------------------------------------------------------------------\n",
      "Traceback (most recent call last):\n",
      "  File \"C:\\Users\\Marc\\Desktop\\lectures\\lab-functions\\mod\\testing.py\", line 187, in runTest\n",
      "    self.assertEqual(fn(self.input), self.output, f\"Should be {self.output}\")\n",
      "TypeError: 'tuple' object is not callable\n",
      "\n",
      "======================================================================\n",
      "ERROR: runTest (mod.testing.test_alpha.<locals>.TestKnown)\n",
      "----------------------------------------------------------------------\n",
      "Traceback (most recent call last):\n",
      "  File \"C:\\Users\\Marc\\Desktop\\lectures\\lab-functions\\mod\\testing.py\", line 187, in runTest\n",
      "    self.assertEqual(fn(self.input), self.output, f\"Should be {self.output}\")\n",
      "TypeError: 'tuple' object is not callable\n",
      "\n",
      "======================================================================\n",
      "ERROR: runTest (mod.testing.test_alpha.<locals>.TestKnown)\n",
      "----------------------------------------------------------------------\n",
      "Traceback (most recent call last):\n",
      "  File \"C:\\Users\\Marc\\Desktop\\lectures\\lab-functions\\mod\\testing.py\", line 187, in runTest\n",
      "    self.assertEqual(fn(self.input), self.output, f\"Should be {self.output}\")\n",
      "TypeError: 'tuple' object is not callable\n",
      "\n",
      "======================================================================\n",
      "ERROR: runTest (mod.testing.test_alpha.<locals>.TestKnown)\n",
      "----------------------------------------------------------------------\n",
      "Traceback (most recent call last):\n",
      "  File \"C:\\Users\\Marc\\Desktop\\lectures\\lab-functions\\mod\\testing.py\", line 187, in runTest\n",
      "    self.assertEqual(fn(self.input), self.output, f\"Should be {self.output}\")\n",
      "TypeError: 'tuple' object is not callable\n",
      "\n",
      "======================================================================\n",
      "ERROR: runTest (mod.testing.test_alpha.<locals>.TestKnown)\n",
      "----------------------------------------------------------------------\n",
      "Traceback (most recent call last):\n",
      "  File \"C:\\Users\\Marc\\Desktop\\lectures\\lab-functions\\mod\\testing.py\", line 187, in runTest\n",
      "    self.assertEqual(fn(self.input), self.output, f\"Should be {self.output}\")\n",
      "TypeError: 'tuple' object is not callable\n",
      "\n",
      "======================================================================\n",
      "ERROR: runTest (mod.testing.test_alpha.<locals>.TestKnown)\n",
      "----------------------------------------------------------------------\n",
      "Traceback (most recent call last):\n",
      "  File \"C:\\Users\\Marc\\Desktop\\lectures\\lab-functions\\mod\\testing.py\", line 187, in runTest\n",
      "    self.assertEqual(fn(self.input), self.output, f\"Should be {self.output}\")\n",
      "TypeError: 'tuple' object is not callable\n",
      "\n",
      "======================================================================\n",
      "ERROR: runTest (mod.testing.test_alpha.<locals>.TestKnown)\n",
      "----------------------------------------------------------------------\n",
      "Traceback (most recent call last):\n",
      "  File \"C:\\Users\\Marc\\Desktop\\lectures\\lab-functions\\mod\\testing.py\", line 187, in runTest\n",
      "    self.assertEqual(fn(self.input), self.output, f\"Should be {self.output}\")\n",
      "TypeError: 'tuple' object is not callable\n",
      "\n",
      "======================================================================\n",
      "ERROR: runTest (mod.testing.test_alpha.<locals>.TestKnown)\n",
      "----------------------------------------------------------------------\n",
      "Traceback (most recent call last):\n",
      "  File \"C:\\Users\\Marc\\Desktop\\lectures\\lab-functions\\mod\\testing.py\", line 187, in runTest\n",
      "    self.assertEqual(fn(self.input), self.output, f\"Should be {self.output}\")\n",
      "TypeError: 'tuple' object is not callable\n",
      "\n",
      "======================================================================\n",
      "ERROR: runTest (mod.testing.test_alpha.<locals>.TestKnown)\n",
      "----------------------------------------------------------------------\n",
      "Traceback (most recent call last):\n",
      "  File \"C:\\Users\\Marc\\Desktop\\lectures\\lab-functions\\mod\\testing.py\", line 187, in runTest\n",
      "    self.assertEqual(fn(self.input), self.output, f\"Should be {self.output}\")\n",
      "TypeError: 'tuple' object is not callable\n",
      "\n",
      "======================================================================\n",
      "ERROR: runTest (mod.testing.test_alpha.<locals>.TestKnown)\n",
      "----------------------------------------------------------------------\n",
      "Traceback (most recent call last):\n",
      "  File \"C:\\Users\\Marc\\Desktop\\lectures\\lab-functions\\mod\\testing.py\", line 187, in runTest\n",
      "    self.assertEqual(fn(self.input), self.output, f\"Should be {self.output}\")\n",
      "TypeError: 'tuple' object is not callable\n",
      "\n",
      "======================================================================\n",
      "ERROR: runTest (mod.testing.test_alpha.<locals>.TestKnown)\n",
      "----------------------------------------------------------------------\n",
      "Traceback (most recent call last):\n",
      "  File \"C:\\Users\\Marc\\Desktop\\lectures\\lab-functions\\mod\\testing.py\", line 187, in runTest\n",
      "    self.assertEqual(fn(self.input), self.output, f\"Should be {self.output}\")\n",
      "TypeError: 'tuple' object is not callable\n",
      "\n",
      "======================================================================\n",
      "ERROR: runTest (mod.testing.test_alpha.<locals>.TestKnown)\n",
      "----------------------------------------------------------------------\n",
      "Traceback (most recent call last):\n",
      "  File \"C:\\Users\\Marc\\Desktop\\lectures\\lab-functions\\mod\\testing.py\", line 187, in runTest\n",
      "    self.assertEqual(fn(self.input), self.output, f\"Should be {self.output}\")\n",
      "TypeError: 'tuple' object is not callable\n",
      "\n",
      "======================================================================\n",
      "ERROR: runTest (mod.testing.test_alpha.<locals>.TestKnown)\n",
      "----------------------------------------------------------------------\n",
      "Traceback (most recent call last):\n",
      "  File \"C:\\Users\\Marc\\Desktop\\lectures\\lab-functions\\mod\\testing.py\", line 187, in runTest\n",
      "    self.assertEqual(fn(self.input), self.output, f\"Should be {self.output}\")\n",
      "TypeError: 'tuple' object is not callable\n",
      "\n",
      "======================================================================\n",
      "ERROR: runTest (mod.testing.test_alpha.<locals>.TestKnown)\n",
      "----------------------------------------------------------------------\n",
      "Traceback (most recent call last):\n",
      "  File \"C:\\Users\\Marc\\Desktop\\lectures\\lab-functions\\mod\\testing.py\", line 187, in runTest\n",
      "    self.assertEqual(fn(self.input), self.output, f\"Should be {self.output}\")\n",
      "TypeError: 'tuple' object is not callable\n",
      "\n",
      "======================================================================\n",
      "ERROR: runTest (mod.testing.test_alpha.<locals>.TestKnown)\n",
      "----------------------------------------------------------------------\n",
      "Traceback (most recent call last):\n",
      "  File \"C:\\Users\\Marc\\Desktop\\lectures\\lab-functions\\mod\\testing.py\", line 187, in runTest\n",
      "    self.assertEqual(fn(self.input), self.output, f\"Should be {self.output}\")\n",
      "TypeError: 'tuple' object is not callable\n",
      "\n",
      "======================================================================\n",
      "ERROR: runTest (mod.testing.test_alpha.<locals>.TestKnown)\n",
      "----------------------------------------------------------------------\n",
      "Traceback (most recent call last):\n",
      "  File \"C:\\Users\\Marc\\Desktop\\lectures\\lab-functions\\mod\\testing.py\", line 187, in runTest\n",
      "    self.assertEqual(fn(self.input), self.output, f\"Should be {self.output}\")\n",
      "TypeError: 'tuple' object is not callable\n",
      "\n",
      "======================================================================\n",
      "ERROR: runTest (mod.testing.test_alpha.<locals>.TestKnown)\n",
      "----------------------------------------------------------------------\n",
      "Traceback (most recent call last):\n",
      "  File \"C:\\Users\\Marc\\Desktop\\lectures\\lab-functions\\mod\\testing.py\", line 187, in runTest\n",
      "    self.assertEqual(fn(self.input), self.output, f\"Should be {self.output}\")\n",
      "TypeError: 'tuple' object is not callable\n",
      "\n",
      "======================================================================\n",
      "ERROR: runTest (mod.testing.test_alpha.<locals>.TestKnown)\n",
      "----------------------------------------------------------------------\n",
      "Traceback (most recent call last):\n",
      "  File \"C:\\Users\\Marc\\Desktop\\lectures\\lab-functions\\mod\\testing.py\", line 187, in runTest\n",
      "    self.assertEqual(fn(self.input), self.output, f\"Should be {self.output}\")\n",
      "TypeError: 'tuple' object is not callable\n",
      "\n",
      "======================================================================\n",
      "ERROR: runTest (mod.testing.test_alpha.<locals>.TestKnown)\n",
      "----------------------------------------------------------------------\n",
      "Traceback (most recent call last):\n",
      "  File \"C:\\Users\\Marc\\Desktop\\lectures\\lab-functions\\mod\\testing.py\", line 187, in runTest\n",
      "    self.assertEqual(fn(self.input), self.output, f\"Should be {self.output}\")\n",
      "TypeError: 'tuple' object is not callable\n",
      "\n"
     ]
    },
    {
     "name": "stderr",
     "output_type": "stream",
     "text": [
      "======================================================================\n",
      "ERROR: runTest (mod.testing.test_alpha.<locals>.TestKnown)\n",
      "----------------------------------------------------------------------\n",
      "Traceback (most recent call last):\n",
      "  File \"C:\\Users\\Marc\\Desktop\\lectures\\lab-functions\\mod\\testing.py\", line 187, in runTest\n",
      "    self.assertEqual(fn(self.input), self.output, f\"Should be {self.output}\")\n",
      "TypeError: 'tuple' object is not callable\n",
      "\n",
      "======================================================================\n",
      "ERROR: runTest (mod.testing.test_alpha.<locals>.TestKnown)\n",
      "----------------------------------------------------------------------\n",
      "Traceback (most recent call last):\n",
      "  File \"C:\\Users\\Marc\\Desktop\\lectures\\lab-functions\\mod\\testing.py\", line 187, in runTest\n",
      "    self.assertEqual(fn(self.input), self.output, f\"Should be {self.output}\")\n",
      "TypeError: 'tuple' object is not callable\n",
      "\n",
      "======================================================================\n",
      "ERROR: runTest (mod.testing.test_alpha.<locals>.TestKnown)\n",
      "----------------------------------------------------------------------\n",
      "Traceback (most recent call last):\n",
      "  File \"C:\\Users\\Marc\\Desktop\\lectures\\lab-functions\\mod\\testing.py\", line 187, in runTest\n",
      "    self.assertEqual(fn(self.input), self.output, f\"Should be {self.output}\")\n",
      "TypeError: 'tuple' object is not callable\n",
      "\n",
      "======================================================================\n",
      "ERROR: runTest (mod.testing.test_alpha.<locals>.TestKnown)\n",
      "----------------------------------------------------------------------\n",
      "Traceback (most recent call last):\n",
      "  File \"C:\\Users\\Marc\\Desktop\\lectures\\lab-functions\\mod\\testing.py\", line 187, in runTest\n",
      "    self.assertEqual(fn(self.input), self.output, f\"Should be {self.output}\")\n",
      "TypeError: 'tuple' object is not callable\n",
      "\n",
      "======================================================================\n",
      "ERROR: runTest (mod.testing.test_alpha.<locals>.TestKnown)\n",
      "----------------------------------------------------------------------\n",
      "Traceback (most recent call last):\n",
      "  File \"C:\\Users\\Marc\\Desktop\\lectures\\lab-functions\\mod\\testing.py\", line 187, in runTest\n",
      "    self.assertEqual(fn(self.input), self.output, f\"Should be {self.output}\")\n",
      "TypeError: 'tuple' object is not callable\n",
      "\n",
      "======================================================================\n",
      "ERROR: runTest (mod.testing.test_alpha.<locals>.TestKnown)\n",
      "----------------------------------------------------------------------\n",
      "Traceback (most recent call last):\n",
      "  File \"C:\\Users\\Marc\\Desktop\\lectures\\lab-functions\\mod\\testing.py\", line 187, in runTest\n",
      "    self.assertEqual(fn(self.input), self.output, f\"Should be {self.output}\")\n",
      "TypeError: 'tuple' object is not callable\n",
      "\n",
      "======================================================================\n",
      "ERROR: runTest (mod.testing.test_alpha.<locals>.TestKnown)\n",
      "----------------------------------------------------------------------\n",
      "Traceback (most recent call last):\n",
      "  File \"C:\\Users\\Marc\\Desktop\\lectures\\lab-functions\\mod\\testing.py\", line 187, in runTest\n",
      "    self.assertEqual(fn(self.input), self.output, f\"Should be {self.output}\")\n",
      "TypeError: 'tuple' object is not callable\n",
      "\n",
      "======================================================================\n",
      "ERROR: runTest (mod.testing.test_alpha.<locals>.TestKnown)\n",
      "----------------------------------------------------------------------\n",
      "Traceback (most recent call last):\n",
      "  File \"C:\\Users\\Marc\\Desktop\\lectures\\lab-functions\\mod\\testing.py\", line 187, in runTest\n",
      "    self.assertEqual(fn(self.input), self.output, f\"Should be {self.output}\")\n",
      "TypeError: 'tuple' object is not callable\n",
      "\n",
      "======================================================================\n",
      "ERROR: runTest (mod.testing.test_alpha.<locals>.TestKnown)\n",
      "----------------------------------------------------------------------\n",
      "Traceback (most recent call last):\n",
      "  File \"C:\\Users\\Marc\\Desktop\\lectures\\lab-functions\\mod\\testing.py\", line 187, in runTest\n",
      "    self.assertEqual(fn(self.input), self.output, f\"Should be {self.output}\")\n",
      "TypeError: 'tuple' object is not callable\n",
      "\n",
      "======================================================================\n",
      "ERROR: runTest (mod.testing.test_alpha.<locals>.TestKnown)\n",
      "----------------------------------------------------------------------\n",
      "Traceback (most recent call last):\n",
      "  File \"C:\\Users\\Marc\\Desktop\\lectures\\lab-functions\\mod\\testing.py\", line 187, in runTest\n",
      "    self.assertEqual(fn(self.input), self.output, f\"Should be {self.output}\")\n",
      "TypeError: 'tuple' object is not callable\n",
      "\n",
      "======================================================================\n",
      "ERROR: runTest (mod.testing.test_alpha.<locals>.TestKnown)\n",
      "----------------------------------------------------------------------\n",
      "Traceback (most recent call last):\n",
      "  File \"C:\\Users\\Marc\\Desktop\\lectures\\lab-functions\\mod\\testing.py\", line 187, in runTest\n",
      "    self.assertEqual(fn(self.input), self.output, f\"Should be {self.output}\")\n",
      "TypeError: 'tuple' object is not callable\n",
      "\n",
      "======================================================================\n",
      "ERROR: runTest (mod.testing.test_alpha.<locals>.TestKnown)\n",
      "----------------------------------------------------------------------\n",
      "Traceback (most recent call last):\n",
      "  File \"C:\\Users\\Marc\\Desktop\\lectures\\lab-functions\\mod\\testing.py\", line 187, in runTest\n",
      "    self.assertEqual(fn(self.input), self.output, f\"Should be {self.output}\")\n",
      "TypeError: 'tuple' object is not callable\n",
      "\n",
      "======================================================================\n",
      "ERROR: runTest (mod.testing.test_alpha.<locals>.TestKnown)\n",
      "----------------------------------------------------------------------\n",
      "Traceback (most recent call last):\n",
      "  File \"C:\\Users\\Marc\\Desktop\\lectures\\lab-functions\\mod\\testing.py\", line 187, in runTest\n",
      "    self.assertEqual(fn(self.input), self.output, f\"Should be {self.output}\")\n",
      "TypeError: 'tuple' object is not callable\n",
      "\n",
      "======================================================================\n",
      "ERROR: runTest (mod.testing.test_alpha.<locals>.TestKnown)\n",
      "----------------------------------------------------------------------\n",
      "Traceback (most recent call last):\n",
      "  File \"C:\\Users\\Marc\\Desktop\\lectures\\lab-functions\\mod\\testing.py\", line 187, in runTest\n",
      "    self.assertEqual(fn(self.input), self.output, f\"Should be {self.output}\")\n",
      "TypeError: 'tuple' object is not callable\n",
      "\n",
      "======================================================================\n",
      "ERROR: runTest (mod.testing.test_alpha.<locals>.TestKnown)\n",
      "----------------------------------------------------------------------\n",
      "Traceback (most recent call last):\n",
      "  File \"C:\\Users\\Marc\\Desktop\\lectures\\lab-functions\\mod\\testing.py\", line 187, in runTest\n",
      "    self.assertEqual(fn(self.input), self.output, f\"Should be {self.output}\")\n",
      "TypeError: 'tuple' object is not callable\n",
      "\n",
      "======================================================================\n",
      "ERROR: runTest (mod.testing.test_alpha.<locals>.TestKnown)\n",
      "----------------------------------------------------------------------\n",
      "Traceback (most recent call last):\n",
      "  File \"C:\\Users\\Marc\\Desktop\\lectures\\lab-functions\\mod\\testing.py\", line 187, in runTest\n",
      "    self.assertEqual(fn(self.input), self.output, f\"Should be {self.output}\")\n",
      "TypeError: 'tuple' object is not callable\n",
      "\n",
      "======================================================================\n",
      "ERROR: runTest (mod.testing.test_alpha.<locals>.TestKnown)\n",
      "----------------------------------------------------------------------\n",
      "Traceback (most recent call last):\n",
      "  File \"C:\\Users\\Marc\\Desktop\\lectures\\lab-functions\\mod\\testing.py\", line 187, in runTest\n",
      "    self.assertEqual(fn(self.input), self.output, f\"Should be {self.output}\")\n",
      "TypeError: 'tuple' object is not callable\n",
      "\n",
      "======================================================================\n",
      "ERROR: runTest (mod.testing.test_alpha.<locals>.TestKnown)\n",
      "----------------------------------------------------------------------\n",
      "Traceback (most recent call last):\n",
      "  File \"C:\\Users\\Marc\\Desktop\\lectures\\lab-functions\\mod\\testing.py\", line 187, in runTest\n",
      "    self.assertEqual(fn(self.input), self.output, f\"Should be {self.output}\")\n",
      "TypeError: 'tuple' object is not callable\n",
      "\n",
      "======================================================================\n",
      "ERROR: runTest (mod.testing.test_alpha.<locals>.TestKnown)\n",
      "----------------------------------------------------------------------\n",
      "Traceback (most recent call last):\n",
      "  File \"C:\\Users\\Marc\\Desktop\\lectures\\lab-functions\\mod\\testing.py\", line 187, in runTest\n",
      "    self.assertEqual(fn(self.input), self.output, f\"Should be {self.output}\")\n",
      "TypeError: 'tuple' object is not callable\n",
      "\n"
     ]
    },
    {
     "name": "stderr",
     "output_type": "stream",
     "text": [
      "======================================================================\n",
      "ERROR: runTest (mod.testing.test_alpha.<locals>.TestKnown)\n",
      "----------------------------------------------------------------------\n",
      "Traceback (most recent call last):\n",
      "  File \"C:\\Users\\Marc\\Desktop\\lectures\\lab-functions\\mod\\testing.py\", line 187, in runTest\n",
      "    self.assertEqual(fn(self.input), self.output, f\"Should be {self.output}\")\n",
      "TypeError: 'tuple' object is not callable\n",
      "\n",
      "======================================================================\n",
      "ERROR: runTest (mod.testing.test_alpha.<locals>.TestKnown)\n",
      "----------------------------------------------------------------------\n",
      "Traceback (most recent call last):\n",
      "  File \"C:\\Users\\Marc\\Desktop\\lectures\\lab-functions\\mod\\testing.py\", line 187, in runTest\n",
      "    self.assertEqual(fn(self.input), self.output, f\"Should be {self.output}\")\n",
      "TypeError: 'tuple' object is not callable\n",
      "\n",
      "======================================================================\n",
      "ERROR: runTest (mod.testing.test_alpha.<locals>.TestKnown)\n",
      "----------------------------------------------------------------------\n",
      "Traceback (most recent call last):\n",
      "  File \"C:\\Users\\Marc\\Desktop\\lectures\\lab-functions\\mod\\testing.py\", line 187, in runTest\n",
      "    self.assertEqual(fn(self.input), self.output, f\"Should be {self.output}\")\n",
      "TypeError: 'tuple' object is not callable\n",
      "\n",
      "======================================================================\n",
      "ERROR: runTest (mod.testing.test_alpha.<locals>.TestKnown)\n",
      "----------------------------------------------------------------------\n",
      "Traceback (most recent call last):\n",
      "  File \"C:\\Users\\Marc\\Desktop\\lectures\\lab-functions\\mod\\testing.py\", line 187, in runTest\n",
      "    self.assertEqual(fn(self.input), self.output, f\"Should be {self.output}\")\n",
      "TypeError: 'tuple' object is not callable\n",
      "\n",
      "======================================================================\n",
      "ERROR: runTest (mod.testing.test_alpha.<locals>.TestKnown)\n",
      "----------------------------------------------------------------------\n",
      "Traceback (most recent call last):\n",
      "  File \"C:\\Users\\Marc\\Desktop\\lectures\\lab-functions\\mod\\testing.py\", line 187, in runTest\n",
      "    self.assertEqual(fn(self.input), self.output, f\"Should be {self.output}\")\n",
      "TypeError: 'tuple' object is not callable\n",
      "\n",
      "======================================================================\n",
      "ERROR: runTest (mod.testing.test_alpha.<locals>.TestKnown)\n",
      "----------------------------------------------------------------------\n",
      "Traceback (most recent call last):\n",
      "  File \"C:\\Users\\Marc\\Desktop\\lectures\\lab-functions\\mod\\testing.py\", line 187, in runTest\n",
      "    self.assertEqual(fn(self.input), self.output, f\"Should be {self.output}\")\n",
      "TypeError: 'tuple' object is not callable\n",
      "\n",
      "======================================================================\n",
      "ERROR: runTest (mod.testing.test_alpha.<locals>.TestKnown)\n",
      "----------------------------------------------------------------------\n",
      "Traceback (most recent call last):\n",
      "  File \"C:\\Users\\Marc\\Desktop\\lectures\\lab-functions\\mod\\testing.py\", line 187, in runTest\n",
      "    self.assertEqual(fn(self.input), self.output, f\"Should be {self.output}\")\n",
      "TypeError: 'tuple' object is not callable\n",
      "\n",
      "======================================================================\n",
      "ERROR: runTest (mod.testing.test_alpha.<locals>.TestKnown)\n",
      "----------------------------------------------------------------------\n",
      "Traceback (most recent call last):\n",
      "  File \"C:\\Users\\Marc\\Desktop\\lectures\\lab-functions\\mod\\testing.py\", line 187, in runTest\n",
      "    self.assertEqual(fn(self.input), self.output, f\"Should be {self.output}\")\n",
      "TypeError: 'tuple' object is not callable\n",
      "\n",
      "======================================================================\n",
      "ERROR: runTest (mod.testing.test_alpha.<locals>.TestKnown)\n",
      "----------------------------------------------------------------------\n",
      "Traceback (most recent call last):\n",
      "  File \"C:\\Users\\Marc\\Desktop\\lectures\\lab-functions\\mod\\testing.py\", line 187, in runTest\n",
      "    self.assertEqual(fn(self.input), self.output, f\"Should be {self.output}\")\n",
      "TypeError: 'tuple' object is not callable\n",
      "\n",
      "======================================================================\n",
      "ERROR: runTest (mod.testing.test_alpha.<locals>.TestKnown)\n",
      "----------------------------------------------------------------------\n",
      "Traceback (most recent call last):\n",
      "  File \"C:\\Users\\Marc\\Desktop\\lectures\\lab-functions\\mod\\testing.py\", line 187, in runTest\n",
      "    self.assertEqual(fn(self.input), self.output, f\"Should be {self.output}\")\n",
      "TypeError: 'tuple' object is not callable\n",
      "\n",
      "======================================================================\n",
      "ERROR: runTest (mod.testing.test_alpha.<locals>.TestKnown)\n",
      "----------------------------------------------------------------------\n",
      "Traceback (most recent call last):\n",
      "  File \"C:\\Users\\Marc\\Desktop\\lectures\\lab-functions\\mod\\testing.py\", line 187, in runTest\n",
      "    self.assertEqual(fn(self.input), self.output, f\"Should be {self.output}\")\n",
      "TypeError: 'tuple' object is not callable\n",
      "\n",
      "======================================================================\n",
      "ERROR: runTest (mod.testing.test_alpha.<locals>.TestKnown)\n",
      "----------------------------------------------------------------------\n",
      "Traceback (most recent call last):\n",
      "  File \"C:\\Users\\Marc\\Desktop\\lectures\\lab-functions\\mod\\testing.py\", line 187, in runTest\n",
      "    self.assertEqual(fn(self.input), self.output, f\"Should be {self.output}\")\n",
      "TypeError: 'tuple' object is not callable\n",
      "\n",
      "======================================================================\n",
      "ERROR: runTest (mod.testing.test_alpha.<locals>.TestKnown)\n",
      "----------------------------------------------------------------------\n",
      "Traceback (most recent call last):\n",
      "  File \"C:\\Users\\Marc\\Desktop\\lectures\\lab-functions\\mod\\testing.py\", line 187, in runTest\n",
      "    self.assertEqual(fn(self.input), self.output, f\"Should be {self.output}\")\n",
      "TypeError: 'tuple' object is not callable\n",
      "\n",
      "======================================================================\n",
      "ERROR: runTest (mod.testing.test_alpha.<locals>.TestKnown)\n",
      "----------------------------------------------------------------------\n",
      "Traceback (most recent call last):\n",
      "  File \"C:\\Users\\Marc\\Desktop\\lectures\\lab-functions\\mod\\testing.py\", line 187, in runTest\n",
      "    self.assertEqual(fn(self.input), self.output, f\"Should be {self.output}\")\n",
      "TypeError: 'tuple' object is not callable\n",
      "\n",
      "======================================================================\n",
      "ERROR: runTest (mod.testing.test_alpha.<locals>.TestKnown)\n",
      "----------------------------------------------------------------------\n",
      "Traceback (most recent call last):\n",
      "  File \"C:\\Users\\Marc\\Desktop\\lectures\\lab-functions\\mod\\testing.py\", line 187, in runTest\n",
      "    self.assertEqual(fn(self.input), self.output, f\"Should be {self.output}\")\n",
      "TypeError: 'tuple' object is not callable\n",
      "\n",
      "======================================================================\n",
      "ERROR: runTest (mod.testing.test_alpha.<locals>.TestKnown)\n",
      "----------------------------------------------------------------------\n",
      "Traceback (most recent call last):\n",
      "  File \"C:\\Users\\Marc\\Desktop\\lectures\\lab-functions\\mod\\testing.py\", line 187, in runTest\n",
      "    self.assertEqual(fn(self.input), self.output, f\"Should be {self.output}\")\n",
      "TypeError: 'tuple' object is not callable\n",
      "\n",
      "======================================================================\n",
      "ERROR: runTest (mod.testing.test_alpha.<locals>.TestKnown)\n",
      "----------------------------------------------------------------------\n",
      "Traceback (most recent call last):\n",
      "  File \"C:\\Users\\Marc\\Desktop\\lectures\\lab-functions\\mod\\testing.py\", line 187, in runTest\n",
      "    self.assertEqual(fn(self.input), self.output, f\"Should be {self.output}\")\n",
      "TypeError: 'tuple' object is not callable\n",
      "\n",
      "======================================================================\n",
      "ERROR: runTest (mod.testing.test_alpha.<locals>.TestKnown)\n",
      "----------------------------------------------------------------------\n",
      "Traceback (most recent call last):\n",
      "  File \"C:\\Users\\Marc\\Desktop\\lectures\\lab-functions\\mod\\testing.py\", line 187, in runTest\n",
      "    self.assertEqual(fn(self.input), self.output, f\"Should be {self.output}\")\n",
      "TypeError: 'tuple' object is not callable\n",
      "\n",
      "======================================================================\n",
      "ERROR: runTest (mod.testing.test_alpha.<locals>.TestKnown)\n",
      "----------------------------------------------------------------------\n",
      "Traceback (most recent call last):\n",
      "  File \"C:\\Users\\Marc\\Desktop\\lectures\\lab-functions\\mod\\testing.py\", line 187, in runTest\n",
      "    self.assertEqual(fn(self.input), self.output, f\"Should be {self.output}\")\n",
      "TypeError: 'tuple' object is not callable\n",
      "\n"
     ]
    },
    {
     "name": "stderr",
     "output_type": "stream",
     "text": [
      "======================================================================\n",
      "ERROR: runTest (mod.testing.test_alpha.<locals>.TestKnown)\n",
      "----------------------------------------------------------------------\n",
      "Traceback (most recent call last):\n",
      "  File \"C:\\Users\\Marc\\Desktop\\lectures\\lab-functions\\mod\\testing.py\", line 187, in runTest\n",
      "    self.assertEqual(fn(self.input), self.output, f\"Should be {self.output}\")\n",
      "TypeError: 'tuple' object is not callable\n",
      "\n",
      "======================================================================\n",
      "ERROR: runTest (mod.testing.test_alpha.<locals>.TestKnown)\n",
      "----------------------------------------------------------------------\n",
      "Traceback (most recent call last):\n",
      "  File \"C:\\Users\\Marc\\Desktop\\lectures\\lab-functions\\mod\\testing.py\", line 187, in runTest\n",
      "    self.assertEqual(fn(self.input), self.output, f\"Should be {self.output}\")\n",
      "TypeError: 'tuple' object is not callable\n",
      "\n",
      "======================================================================\n",
      "ERROR: runTest (mod.testing.test_alpha.<locals>.TestKnown)\n",
      "----------------------------------------------------------------------\n",
      "Traceback (most recent call last):\n",
      "  File \"C:\\Users\\Marc\\Desktop\\lectures\\lab-functions\\mod\\testing.py\", line 187, in runTest\n",
      "    self.assertEqual(fn(self.input), self.output, f\"Should be {self.output}\")\n",
      "TypeError: 'tuple' object is not callable\n",
      "\n",
      "======================================================================\n",
      "ERROR: runTest (mod.testing.test_alpha.<locals>.TestKnown)\n",
      "----------------------------------------------------------------------\n",
      "Traceback (most recent call last):\n",
      "  File \"C:\\Users\\Marc\\Desktop\\lectures\\lab-functions\\mod\\testing.py\", line 187, in runTest\n",
      "    self.assertEqual(fn(self.input), self.output, f\"Should be {self.output}\")\n",
      "TypeError: 'tuple' object is not callable\n",
      "\n",
      "======================================================================\n",
      "ERROR: runTest (mod.testing.test_alpha.<locals>.TestKnown)\n",
      "----------------------------------------------------------------------\n",
      "Traceback (most recent call last):\n",
      "  File \"C:\\Users\\Marc\\Desktop\\lectures\\lab-functions\\mod\\testing.py\", line 187, in runTest\n",
      "    self.assertEqual(fn(self.input), self.output, f\"Should be {self.output}\")\n",
      "TypeError: 'tuple' object is not callable\n",
      "\n",
      "======================================================================\n",
      "ERROR: runTest (mod.testing.test_alpha.<locals>.TestKnown)\n",
      "----------------------------------------------------------------------\n",
      "Traceback (most recent call last):\n",
      "  File \"C:\\Users\\Marc\\Desktop\\lectures\\lab-functions\\mod\\testing.py\", line 187, in runTest\n",
      "    self.assertEqual(fn(self.input), self.output, f\"Should be {self.output}\")\n",
      "TypeError: 'tuple' object is not callable\n",
      "\n",
      "======================================================================\n",
      "ERROR: runTest (mod.testing.test_alpha.<locals>.TestKnown)\n",
      "----------------------------------------------------------------------\n",
      "Traceback (most recent call last):\n",
      "  File \"C:\\Users\\Marc\\Desktop\\lectures\\lab-functions\\mod\\testing.py\", line 187, in runTest\n",
      "    self.assertEqual(fn(self.input), self.output, f\"Should be {self.output}\")\n",
      "TypeError: 'tuple' object is not callable\n",
      "\n",
      "======================================================================\n",
      "ERROR: runTest (mod.testing.test_alpha.<locals>.TestKnown)\n",
      "----------------------------------------------------------------------\n",
      "Traceback (most recent call last):\n",
      "  File \"C:\\Users\\Marc\\Desktop\\lectures\\lab-functions\\mod\\testing.py\", line 187, in runTest\n",
      "    self.assertEqual(fn(self.input), self.output, f\"Should be {self.output}\")\n",
      "TypeError: 'tuple' object is not callable\n",
      "\n",
      "======================================================================\n",
      "ERROR: runTest (mod.testing.test_alpha.<locals>.TestKnown)\n",
      "----------------------------------------------------------------------\n",
      "Traceback (most recent call last):\n",
      "  File \"C:\\Users\\Marc\\Desktop\\lectures\\lab-functions\\mod\\testing.py\", line 187, in runTest\n",
      "    self.assertEqual(fn(self.input), self.output, f\"Should be {self.output}\")\n",
      "TypeError: 'tuple' object is not callable\n",
      "\n",
      "======================================================================\n",
      "ERROR: runTest (mod.testing.test_alpha.<locals>.TestKnown)\n",
      "----------------------------------------------------------------------\n",
      "Traceback (most recent call last):\n",
      "  File \"C:\\Users\\Marc\\Desktop\\lectures\\lab-functions\\mod\\testing.py\", line 187, in runTest\n",
      "    self.assertEqual(fn(self.input), self.output, f\"Should be {self.output}\")\n",
      "TypeError: 'tuple' object is not callable\n",
      "\n",
      "======================================================================\n",
      "ERROR: runTest (mod.testing.test_alpha.<locals>.TestKnown)\n",
      "----------------------------------------------------------------------\n",
      "Traceback (most recent call last):\n",
      "  File \"C:\\Users\\Marc\\Desktop\\lectures\\lab-functions\\mod\\testing.py\", line 187, in runTest\n",
      "    self.assertEqual(fn(self.input), self.output, f\"Should be {self.output}\")\n",
      "TypeError: 'tuple' object is not callable\n",
      "\n",
      "======================================================================\n",
      "ERROR: runTest (mod.testing.test_alpha.<locals>.TestKnown)\n",
      "----------------------------------------------------------------------\n",
      "Traceback (most recent call last):\n",
      "  File \"C:\\Users\\Marc\\Desktop\\lectures\\lab-functions\\mod\\testing.py\", line 187, in runTest\n",
      "    self.assertEqual(fn(self.input), self.output, f\"Should be {self.output}\")\n",
      "TypeError: 'tuple' object is not callable\n",
      "\n",
      "======================================================================\n",
      "ERROR: runTest (mod.testing.test_alpha.<locals>.TestKnown)\n",
      "----------------------------------------------------------------------\n",
      "Traceback (most recent call last):\n",
      "  File \"C:\\Users\\Marc\\Desktop\\lectures\\lab-functions\\mod\\testing.py\", line 187, in runTest\n",
      "    self.assertEqual(fn(self.input), self.output, f\"Should be {self.output}\")\n",
      "TypeError: 'tuple' object is not callable\n",
      "\n",
      "======================================================================\n",
      "ERROR: runTest (mod.testing.test_alpha.<locals>.TestKnown)\n",
      "----------------------------------------------------------------------\n",
      "Traceback (most recent call last):\n",
      "  File \"C:\\Users\\Marc\\Desktop\\lectures\\lab-functions\\mod\\testing.py\", line 187, in runTest\n",
      "    self.assertEqual(fn(self.input), self.output, f\"Should be {self.output}\")\n",
      "TypeError: 'tuple' object is not callable\n",
      "\n",
      "======================================================================\n",
      "ERROR: runTest (mod.testing.test_alpha.<locals>.TestKnown)\n",
      "----------------------------------------------------------------------\n",
      "Traceback (most recent call last):\n",
      "  File \"C:\\Users\\Marc\\Desktop\\lectures\\lab-functions\\mod\\testing.py\", line 187, in runTest\n",
      "    self.assertEqual(fn(self.input), self.output, f\"Should be {self.output}\")\n",
      "TypeError: 'tuple' object is not callable\n",
      "\n",
      "======================================================================\n",
      "ERROR: runTest (mod.testing.test_alpha.<locals>.TestKnown)\n",
      "----------------------------------------------------------------------\n",
      "Traceback (most recent call last):\n",
      "  File \"C:\\Users\\Marc\\Desktop\\lectures\\lab-functions\\mod\\testing.py\", line 187, in runTest\n",
      "    self.assertEqual(fn(self.input), self.output, f\"Should be {self.output}\")\n",
      "TypeError: 'tuple' object is not callable\n",
      "\n",
      "======================================================================\n",
      "ERROR: runTest (mod.testing.test_alpha.<locals>.TestKnown)\n",
      "----------------------------------------------------------------------\n",
      "Traceback (most recent call last):\n",
      "  File \"C:\\Users\\Marc\\Desktop\\lectures\\lab-functions\\mod\\testing.py\", line 187, in runTest\n",
      "    self.assertEqual(fn(self.input), self.output, f\"Should be {self.output}\")\n",
      "TypeError: 'tuple' object is not callable\n",
      "\n",
      "======================================================================\n",
      "ERROR: runTest (mod.testing.test_alpha.<locals>.TestKnown)\n",
      "----------------------------------------------------------------------\n",
      "Traceback (most recent call last):\n",
      "  File \"C:\\Users\\Marc\\Desktop\\lectures\\lab-functions\\mod\\testing.py\", line 187, in runTest\n",
      "    self.assertEqual(fn(self.input), self.output, f\"Should be {self.output}\")\n",
      "TypeError: 'tuple' object is not callable\n",
      "\n",
      "======================================================================\n",
      "ERROR: runTest (mod.testing.test_alpha.<locals>.TestKnown)\n",
      "----------------------------------------------------------------------\n",
      "Traceback (most recent call last):\n",
      "  File \"C:\\Users\\Marc\\Desktop\\lectures\\lab-functions\\mod\\testing.py\", line 187, in runTest\n",
      "    self.assertEqual(fn(self.input), self.output, f\"Should be {self.output}\")\n",
      "TypeError: 'tuple' object is not callable\n",
      "\n"
     ]
    },
    {
     "name": "stderr",
     "output_type": "stream",
     "text": [
      "======================================================================\n",
      "ERROR: runTest (mod.testing.test_alpha.<locals>.TestKnown)\n",
      "----------------------------------------------------------------------\n",
      "Traceback (most recent call last):\n",
      "  File \"C:\\Users\\Marc\\Desktop\\lectures\\lab-functions\\mod\\testing.py\", line 187, in runTest\n",
      "    self.assertEqual(fn(self.input), self.output, f\"Should be {self.output}\")\n",
      "TypeError: 'tuple' object is not callable\n",
      "\n",
      "======================================================================\n",
      "ERROR: runTest (mod.testing.test_alpha.<locals>.TestKnown)\n",
      "----------------------------------------------------------------------\n",
      "Traceback (most recent call last):\n",
      "  File \"C:\\Users\\Marc\\Desktop\\lectures\\lab-functions\\mod\\testing.py\", line 187, in runTest\n",
      "    self.assertEqual(fn(self.input), self.output, f\"Should be {self.output}\")\n",
      "TypeError: 'tuple' object is not callable\n",
      "\n",
      "======================================================================\n",
      "ERROR: runTest (mod.testing.test_alpha.<locals>.TestKnown)\n",
      "----------------------------------------------------------------------\n",
      "Traceback (most recent call last):\n",
      "  File \"C:\\Users\\Marc\\Desktop\\lectures\\lab-functions\\mod\\testing.py\", line 187, in runTest\n",
      "    self.assertEqual(fn(self.input), self.output, f\"Should be {self.output}\")\n",
      "TypeError: 'tuple' object is not callable\n",
      "\n",
      "======================================================================\n",
      "ERROR: runTest (mod.testing.test_alpha.<locals>.TestKnown)\n",
      "----------------------------------------------------------------------\n",
      "Traceback (most recent call last):\n",
      "  File \"C:\\Users\\Marc\\Desktop\\lectures\\lab-functions\\mod\\testing.py\", line 187, in runTest\n",
      "    self.assertEqual(fn(self.input), self.output, f\"Should be {self.output}\")\n",
      "TypeError: 'tuple' object is not callable\n",
      "\n",
      "======================================================================\n",
      "ERROR: runTest (mod.testing.test_alpha.<locals>.TestKnown)\n",
      "----------------------------------------------------------------------\n",
      "Traceback (most recent call last):\n",
      "  File \"C:\\Users\\Marc\\Desktop\\lectures\\lab-functions\\mod\\testing.py\", line 187, in runTest\n",
      "    self.assertEqual(fn(self.input), self.output, f\"Should be {self.output}\")\n",
      "TypeError: 'tuple' object is not callable\n",
      "\n",
      "======================================================================\n",
      "ERROR: runTest (mod.testing.test_alpha.<locals>.TestKnown)\n",
      "----------------------------------------------------------------------\n",
      "Traceback (most recent call last):\n",
      "  File \"C:\\Users\\Marc\\Desktop\\lectures\\lab-functions\\mod\\testing.py\", line 187, in runTest\n",
      "    self.assertEqual(fn(self.input), self.output, f\"Should be {self.output}\")\n",
      "TypeError: 'tuple' object is not callable\n",
      "\n",
      "======================================================================\n",
      "ERROR: runTest (mod.testing.test_alpha.<locals>.TestKnown)\n",
      "----------------------------------------------------------------------\n",
      "Traceback (most recent call last):\n",
      "  File \"C:\\Users\\Marc\\Desktop\\lectures\\lab-functions\\mod\\testing.py\", line 187, in runTest\n",
      "    self.assertEqual(fn(self.input), self.output, f\"Should be {self.output}\")\n",
      "TypeError: 'tuple' object is not callable\n",
      "\n",
      "======================================================================\n",
      "ERROR: runTest (mod.testing.test_alpha.<locals>.TestKnown)\n",
      "----------------------------------------------------------------------\n",
      "Traceback (most recent call last):\n",
      "  File \"C:\\Users\\Marc\\Desktop\\lectures\\lab-functions\\mod\\testing.py\", line 187, in runTest\n",
      "    self.assertEqual(fn(self.input), self.output, f\"Should be {self.output}\")\n",
      "TypeError: 'tuple' object is not callable\n",
      "\n",
      "======================================================================\n",
      "ERROR: runTest (mod.testing.test_alpha.<locals>.TestKnown)\n",
      "----------------------------------------------------------------------\n",
      "Traceback (most recent call last):\n",
      "  File \"C:\\Users\\Marc\\Desktop\\lectures\\lab-functions\\mod\\testing.py\", line 187, in runTest\n",
      "    self.assertEqual(fn(self.input), self.output, f\"Should be {self.output}\")\n",
      "TypeError: 'tuple' object is not callable\n",
      "\n",
      "======================================================================\n",
      "ERROR: runTest (mod.testing.test_alpha.<locals>.TestKnown)\n",
      "----------------------------------------------------------------------\n",
      "Traceback (most recent call last):\n",
      "  File \"C:\\Users\\Marc\\Desktop\\lectures\\lab-functions\\mod\\testing.py\", line 187, in runTest\n",
      "    self.assertEqual(fn(self.input), self.output, f\"Should be {self.output}\")\n",
      "TypeError: 'tuple' object is not callable\n",
      "\n",
      "======================================================================\n",
      "ERROR: runTest (mod.testing.test_alpha.<locals>.TestKnown)\n",
      "----------------------------------------------------------------------\n",
      "Traceback (most recent call last):\n",
      "  File \"C:\\Users\\Marc\\Desktop\\lectures\\lab-functions\\mod\\testing.py\", line 187, in runTest\n",
      "    self.assertEqual(fn(self.input), self.output, f\"Should be {self.output}\")\n",
      "TypeError: 'tuple' object is not callable\n",
      "\n",
      "======================================================================\n",
      "ERROR: runTest (mod.testing.test_alpha.<locals>.TestKnown)\n",
      "----------------------------------------------------------------------\n",
      "Traceback (most recent call last):\n",
      "  File \"C:\\Users\\Marc\\Desktop\\lectures\\lab-functions\\mod\\testing.py\", line 187, in runTest\n",
      "    self.assertEqual(fn(self.input), self.output, f\"Should be {self.output}\")\n",
      "TypeError: 'tuple' object is not callable\n",
      "\n",
      "======================================================================\n",
      "ERROR: runTest (mod.testing.test_alpha.<locals>.TestKnown)\n",
      "----------------------------------------------------------------------\n",
      "Traceback (most recent call last):\n",
      "  File \"C:\\Users\\Marc\\Desktop\\lectures\\lab-functions\\mod\\testing.py\", line 187, in runTest\n",
      "    self.assertEqual(fn(self.input), self.output, f\"Should be {self.output}\")\n",
      "TypeError: 'tuple' object is not callable\n",
      "\n",
      "======================================================================\n",
      "ERROR: runTest (mod.testing.test_alpha.<locals>.TestKnown)\n",
      "----------------------------------------------------------------------\n",
      "Traceback (most recent call last):\n",
      "  File \"C:\\Users\\Marc\\Desktop\\lectures\\lab-functions\\mod\\testing.py\", line 187, in runTest\n",
      "    self.assertEqual(fn(self.input), self.output, f\"Should be {self.output}\")\n",
      "TypeError: 'tuple' object is not callable\n",
      "\n",
      "======================================================================\n",
      "ERROR: runTest (mod.testing.test_alpha.<locals>.TestKnown)\n",
      "----------------------------------------------------------------------\n",
      "Traceback (most recent call last):\n",
      "  File \"C:\\Users\\Marc\\Desktop\\lectures\\lab-functions\\mod\\testing.py\", line 187, in runTest\n",
      "    self.assertEqual(fn(self.input), self.output, f\"Should be {self.output}\")\n",
      "TypeError: 'tuple' object is not callable\n",
      "\n",
      "======================================================================\n",
      "ERROR: runTest (mod.testing.test_alpha.<locals>.TestKnown)\n",
      "----------------------------------------------------------------------\n",
      "Traceback (most recent call last):\n",
      "  File \"C:\\Users\\Marc\\Desktop\\lectures\\lab-functions\\mod\\testing.py\", line 187, in runTest\n",
      "    self.assertEqual(fn(self.input), self.output, f\"Should be {self.output}\")\n",
      "TypeError: 'tuple' object is not callable\n",
      "\n",
      "======================================================================\n",
      "ERROR: runTest (mod.testing.test_alpha.<locals>.TestKnown)\n",
      "----------------------------------------------------------------------\n",
      "Traceback (most recent call last):\n",
      "  File \"C:\\Users\\Marc\\Desktop\\lectures\\lab-functions\\mod\\testing.py\", line 187, in runTest\n",
      "    self.assertEqual(fn(self.input), self.output, f\"Should be {self.output}\")\n",
      "TypeError: 'tuple' object is not callable\n",
      "\n",
      "======================================================================\n",
      "ERROR: runTest (mod.testing.test_alpha.<locals>.TestKnown)\n",
      "----------------------------------------------------------------------\n",
      "Traceback (most recent call last):\n",
      "  File \"C:\\Users\\Marc\\Desktop\\lectures\\lab-functions\\mod\\testing.py\", line 187, in runTest\n",
      "    self.assertEqual(fn(self.input), self.output, f\"Should be {self.output}\")\n",
      "TypeError: 'tuple' object is not callable\n",
      "\n",
      "======================================================================\n",
      "ERROR: runTest (mod.testing.test_alpha.<locals>.TestKnown)\n",
      "----------------------------------------------------------------------\n",
      "Traceback (most recent call last):\n",
      "  File \"C:\\Users\\Marc\\Desktop\\lectures\\lab-functions\\mod\\testing.py\", line 187, in runTest\n",
      "    self.assertEqual(fn(self.input), self.output, f\"Should be {self.output}\")\n",
      "TypeError: 'tuple' object is not callable\n",
      "\n"
     ]
    },
    {
     "name": "stderr",
     "output_type": "stream",
     "text": [
      "======================================================================\n",
      "ERROR: runTest (mod.testing.test_alpha.<locals>.TestKnown)\n",
      "----------------------------------------------------------------------\n",
      "Traceback (most recent call last):\n",
      "  File \"C:\\Users\\Marc\\Desktop\\lectures\\lab-functions\\mod\\testing.py\", line 187, in runTest\n",
      "    self.assertEqual(fn(self.input), self.output, f\"Should be {self.output}\")\n",
      "TypeError: 'tuple' object is not callable\n",
      "\n",
      "======================================================================\n",
      "ERROR: runTest (mod.testing.test_alpha.<locals>.TestKnown)\n",
      "----------------------------------------------------------------------\n",
      "Traceback (most recent call last):\n",
      "  File \"C:\\Users\\Marc\\Desktop\\lectures\\lab-functions\\mod\\testing.py\", line 187, in runTest\n",
      "    self.assertEqual(fn(self.input), self.output, f\"Should be {self.output}\")\n",
      "TypeError: 'tuple' object is not callable\n",
      "\n",
      "======================================================================\n",
      "ERROR: runTest (mod.testing.test_alpha.<locals>.TestKnown)\n",
      "----------------------------------------------------------------------\n",
      "Traceback (most recent call last):\n",
      "  File \"C:\\Users\\Marc\\Desktop\\lectures\\lab-functions\\mod\\testing.py\", line 187, in runTest\n",
      "    self.assertEqual(fn(self.input), self.output, f\"Should be {self.output}\")\n",
      "TypeError: 'tuple' object is not callable\n",
      "\n",
      "======================================================================\n",
      "ERROR: runTest (mod.testing.test_alpha.<locals>.TestKnown)\n",
      "----------------------------------------------------------------------\n",
      "Traceback (most recent call last):\n",
      "  File \"C:\\Users\\Marc\\Desktop\\lectures\\lab-functions\\mod\\testing.py\", line 187, in runTest\n",
      "    self.assertEqual(fn(self.input), self.output, f\"Should be {self.output}\")\n",
      "TypeError: 'tuple' object is not callable\n",
      "\n",
      "======================================================================\n",
      "ERROR: runTest (mod.testing.test_alpha.<locals>.TestKnown)\n",
      "----------------------------------------------------------------------\n",
      "Traceback (most recent call last):\n",
      "  File \"C:\\Users\\Marc\\Desktop\\lectures\\lab-functions\\mod\\testing.py\", line 187, in runTest\n",
      "    self.assertEqual(fn(self.input), self.output, f\"Should be {self.output}\")\n",
      "TypeError: 'tuple' object is not callable\n",
      "\n",
      "----------------------------------------------------------------------\n",
      "Ran 100 tests in 0.071s\n",
      "\n",
      "FAILED (errors=100)\n"
     ]
    }
   ],
   "source": [
    "# This will test your function - It does not work, however if I call the function it works\n",
    "test_alpha(sort_alpha)"
   ]
  },
  {
   "cell_type": "code",
   "execution_count": 187,
   "metadata": {},
   "outputs": [
    {
     "name": "stdout",
     "output_type": "stream",
     "text": [
      "hello,is,my,name\n"
     ]
    }
   ],
   "source": [
    "sort_alpha = ('hello','my','name','is')\n",
    "my_list_alpha = []\n",
    "my_new_str = \"\"\n",
    "\n",
    "for i in sort_alpha:\n",
    "    my_list_alpha.append(i)\n",
    "my_list_alpha = sorted(my_list_alpha)\n",
    "#print(my_list_alpha)\n",
    "    \n",
    "for i in my_list_alpha:\n",
    "    my_new_str += i + ','\n",
    "print(my_new_str[0:-1])"
   ]
  },
  {
   "cell_type": "markdown",
   "metadata": {},
   "source": [
    "## 12. Write a function to check if a given password is strong (at least 8 characters, at least one lower case, at least one upper case, at least one number and at least one special character). It should output True if strong and False if not.\n",
    "`Valid special characters: # @ ! $ % & ( ) ^ * [ ] { }`"
   ]
  },
  {
   "cell_type": "code",
   "execution_count": 195,
   "metadata": {},
   "outputs": [],
   "source": [
    "def check_pass(string):\n",
    "    count_lowercase = 0\n",
    "    count_uppercase = 0\n",
    "    count_special_character = 0\n",
    "    count_number = 0\n",
    "    \n",
    "    lowercase = \"abcdefghijklmnopqrstuvwxyz\"\n",
    "    uppercase = 'ABCDEFGHIJKLMNOPQRSTUVWXYZ'\n",
    "    special_character = \"#@!$%&()^*[]{}\"\n",
    "    number = '1234567890'\n",
    "    \n",
    "    for i in string:\n",
    "        if i in lowercase:\n",
    "            count_lowercase += 1\n",
    "        elif i in uppercase:\n",
    "            count_uppercase += 1\n",
    "        elif i in special_character:\n",
    "            count_special_character += 1\n",
    "        elif i in number:\n",
    "            count_number += 1\n",
    "        else:\n",
    "            return False\n",
    "            \n",
    "    return count_lowercase >= 1 and count_uppercase >= 1 and count_special_character >= 1 and count_number >= 1 and len(string) >= 8"
   ]
  },
  {
   "cell_type": "code",
   "execution_count": 196,
   "metadata": {},
   "outputs": [
    {
     "name": "stderr",
     "output_type": "stream",
     "text": [
      "....................................................................................................\n",
      "----------------------------------------------------------------------\n",
      "Ran 100 tests in 0.045s\n",
      "\n",
      "OK\n"
     ]
    }
   ],
   "source": [
    "# This will test your function \n",
    "test_pass(check_pass)"
   ]
  },
  {
   "cell_type": "code",
   "execution_count": 199,
   "metadata": {},
   "outputs": [
    {
     "data": {
      "text/plain": [
       "True"
      ]
     },
     "execution_count": 199,
     "metadata": {},
     "output_type": "execute_result"
    }
   ],
   "source": [
    "check_pass('aS@123456789')"
   ]
  }
 ],
 "metadata": {
  "kernelspec": {
   "display_name": "Python 3 (ipykernel)",
   "language": "python",
   "name": "python3"
  },
  "language_info": {
   "codemirror_mode": {
    "name": "ipython",
    "version": 3
   },
   "file_extension": ".py",
   "mimetype": "text/x-python",
   "name": "python",
   "nbconvert_exporter": "python",
   "pygments_lexer": "ipython3",
   "version": "3.9.13"
  }
 },
 "nbformat": 4,
 "nbformat_minor": 4
}
