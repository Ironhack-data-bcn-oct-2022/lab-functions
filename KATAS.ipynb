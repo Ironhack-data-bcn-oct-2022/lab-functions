{
 "cells": [
  {
   "cell_type": "code",
   "execution_count": null,
   "id": "aefbbb3f",
   "metadata": {},
   "outputs": [],
   "source": [
    "def elevator(left, right, call):\n",
    "    return 'right' if abs(call-right)<=abs(call-left) else 'left'\n",
    "elevator(1,2,0)"
   ]
  },
  {
   "cell_type": "code",
   "execution_count": null,
   "id": "2b390e9c",
   "metadata": {},
   "outputs": [],
   "source": [
    "def quarter_of(month):\n",
    "    if month<=3:\n",
    "        return 'first quarter'\n",
    "    elif month>=4 and month<7:\n",
    "        return 'second quarter'\n",
    "    elif month>6 and month<10:\n",
    "        return 'third quarter'\n",
    "    elif month>=10 and month<=12:\n",
    "        return 'forth quarter'\n",
    "quarter_of(12)"
   ]
  },
  {
   "cell_type": "code",
   "execution_count": null,
   "id": "3bbcb142",
   "metadata": {},
   "outputs": [],
   "source": [
    "def quarter_of(month):\n",
    "    if month in range(1, 4):\n",
    "        return 1\n",
    "    elif month in range(4, 7):\n",
    "        return 2\n",
    "    elif month in range(7, 10):\n",
    "        return 3\n",
    "    elif month in range(10, 13):\n",
    "        return 4"
   ]
  },
  {
   "cell_type": "code",
   "execution_count": null,
   "id": "5522941f",
   "metadata": {},
   "outputs": [],
   "source": [
    "def quarter_of(month):\n",
    "    return (month//3) + (month%3>0)\n"
   ]
  },
  {
   "cell_type": "code",
   "execution_count": null,
   "id": "8942a157",
   "metadata": {},
   "outputs": [],
   "source": [
    "month=11\n",
    "print(month//3)"
   ]
  },
  {
   "cell_type": "code",
   "execution_count": null,
   "id": "3bc1aabe",
   "metadata": {},
   "outputs": [],
   "source": [
    "print(month%3)"
   ]
  },
  {
   "cell_type": "code",
   "execution_count": null,
   "id": "df1da2d2",
   "metadata": {},
   "outputs": [],
   "source": [
    "def mode_counter(*arr):\n",
    "    counter=0\n",
    "    for item in arr:\n",
    "        if i==i:\n",
    "            counter=+1\n",
    "    return i\n",
    "mode_counter(2,3,4)"
   ]
  },
  {
   "cell_type": "code",
   "execution_count": null,
   "id": "de0ecd11",
   "metadata": {},
   "outputs": [],
   "source": [
    "def mode_counter(*arr):\n",
    "    counter=0\n",
    "    for item in arr:\n",
    "        if item in arr:    \n",
    "            counter=+1\n",
    "    return item\n",
    "mode_counter(1,2,3,4,1,9)"
   ]
  },
  {
   "cell_type": "code",
   "execution_count": null,
   "id": "2ddd5ba4",
   "metadata": {},
   "outputs": [],
   "source": [
    "def pangram(string):\n",
    "    alphabet = \"abcdefghijklmnopqrstuvwxyz\"\n",
    "    for i in alphabet:\n",
    "        if i in string.lower():\n",
    "            return True\n",
    "pangram(\"abcdefghijklmnopqrstuvwxyz\")"
   ]
  },
  {
   "cell_type": "code",
   "execution_count": null,
   "id": "e5a57354",
   "metadata": {},
   "outputs": [],
   "source": [
    "def pangram(string):\n",
    "    alphabet = \"abcdefghijklmnopqrstuvwxyz\"\n",
    "    for i in alphabet:\n",
    "        if i in string.lower():\n",
    "            return True"
   ]
  },
  {
   "cell_type": "code",
   "execution_count": null,
   "id": "90082e82",
   "metadata": {},
   "outputs": [],
   "source": [
    "pangram(\"asdFoasj2dkfjasdhlf\")"
   ]
  },
  {
   "cell_type": "code",
   "execution_count": null,
   "id": "a09f8471",
   "metadata": {},
   "outputs": [],
   "source": [
    "def pangram(string):\n",
    "    alphabet = \"abcdefghijklmnopqrstuvwxyz\"\n",
    "    for i in alphabet:\n",
    "        if i not in string.lower():\n",
    "          \n"
   ]
  },
  {
   "cell_type": "code",
   "execution_count": null,
   "id": "7cd529c3",
   "metadata": {},
   "outputs": [],
   "source": [
    "pangram(\"asdFoasj2dkfjasdhlf\")"
   ]
  },
  {
   "cell_type": "code",
   "execution_count": null,
   "id": "b9faaab4",
   "metadata": {},
   "outputs": [],
   "source": [
    "string='a.b.c.d'\n",
    "sorted_list=[]\n",
    "for i in string:\n",
    "    if i.isalpha():\n",
    "        sorted_list.append(i)\n",
    "print(sorted_list)\n",
    "        "
   ]
  },
  {
   "cell_type": "code",
   "execution_count": null,
   "id": "7da1e621",
   "metadata": {},
   "outputs": [],
   "source": [
    "def sort_alpha(string):\n",
    "    sorted_list=[]\n",
    "    for i in string:\n",
    "        if i.isalpha():\n",
    "            sorted(sorted_list.append(i))\n",
    "    return sort_alpha\n",
    "     \n",
    "sort_alpha('a')   "
   ]
  },
  {
   "cell_type": "code",
   "execution_count": null,
   "id": "26afb4dc",
   "metadata": {},
   "outputs": [],
   "source": [
    "from statistics import stdev\n",
    "def st_dev(arr):\n",
    "    mean=sum(a)\n",
    "    mean = sum(arr) / len(arr)  \n",
    "    var  = sum(pow(arr-mean,2) for x in arr) / len(arr) \n",
    "    std  = math.sqrt(var)\n"
   ]
  },
  {
   "cell_type": "code",
   "execution_count": null,
   "id": "045aa481",
   "metadata": {},
   "outputs": [],
   "source": [
    "from statistics import stdev\n",
    "def st_dev(arr):\n",
    "    mean=float(sum(arr))\n",
    "    mean =(sum(arr) / len(arr))  \n",
    "    var  =float(sum(pow(arr-mean,2) for x in arr) / len(arr))\n",
    "    std  =float(math.sqrt(var))  \n",
    "\n",
    "  "
   ]
  },
  {
   "cell_type": "code",
   "execution_count": null,
   "id": "2fd1e4ea",
   "metadata": {},
   "outputs": [],
   "source": [
    " n= [11, 8, 8, 3, 4, 4, 5, 6, 6, 7, 8] \n",
    "\n",
    "mean =sum(n)/len(n)\n",
    "SUM= 0\n",
    "for i in n :\n",
    "    SUM +=(i-mean)**2\n",
    "stdeV = (SUM/(len(n)-1))**0.5 \n",
    "print(stdeV)"
   ]
  },
  {
   "cell_type": "code",
   "execution_count": null,
   "id": "e80b3501",
   "metadata": {},
   "outputs": [],
   "source": [
    "import math\n",
    "def st_dev(arr):\n",
    "    sum= 0\n",
    "    mean =sum(arr)/len(arr)    \n",
    "    for i in arr :\n",
    "        sum+=(i-mean)**2\n",
    "        stdev = (sum/(len(arr)-1))**0.5 \n",
    "    return stdev\n",
    "st_dev(78)"
   ]
  },
  {
   "cell_type": "code",
   "execution_count": null,
   "id": "39e74471",
   "metadata": {},
   "outputs": [],
   "source": [
    "string='a,z,b,1,2,g'\n",
    "sorted_list=[]\n",
    "for i in string:\n",
    "    if i.isalpha():\n",
    "        sorted_list.append(i)\n",
    "    sorted_list=sorted(sorted_list)\n",
    "\n",
    "print(sorted_list)"
   ]
  },
  {
   "cell_type": "code",
   "execution_count": 13,
   "id": "dc71e585",
   "metadata": {},
   "outputs": [
    {
     "data": {
      "text/plain": [
       "False"
      ]
     },
     "execution_count": 13,
     "metadata": {},
     "output_type": "execute_result"
    }
   ],
   "source": [
    "\n",
    "def check_pass(string):\n",
    "    counter=0\n",
    "    for letter in string:\n",
    "        if letter:\n",
    "            counter+=1\n",
    "        if counter<8:\n",
    "            return False\n",
    "        else:\n",
    "            return True\n",
    "check_pass('1msngl')\n",
    "            \n",
    "        "
   ]
  },
  {
   "cell_type": "code",
   "execution_count": 15,
   "id": "db72a94b",
   "metadata": {},
   "outputs": [
    {
     "name": "stdout",
     "output_type": "stream",
     "text": [
      "a, b, c, d, e, f, g, h, i, j, k, l, m, n, o, p, q, r, s, t, u, v, w, x, y, z\n"
     ]
    }
   ],
   "source": [
    "alpha='A, B, C, D, E, F, G, H, I, J, K, L, M, N, O, P, Q, R, S, T, U, V, W, X, Y, Z'.lower()\n",
    "print(alpha)"
   ]
  },
  {
   "cell_type": "code",
   "execution_count": 26,
   "id": "6329e6e4",
   "metadata": {},
   "outputs": [],
   "source": [
    "def check_pass(string):\n",
    "    counter=0\n",
    "    Alpha='A, B, C, D, E, F, G, H, I, J, K, L, M, N, O, P, Q, R, S, T, U, V, W, X, Y, Z'\n",
    "    alpha='a, b, c, d, e, f, g, h, i, j, k, l, m, n, o, p, q, r, s, t, u, v, w, x, y, z'\n",
    "    num='1,2,3,4,5,6,7,8,9'\n",
    "    codes='# @ ! $ % & ( ) ^ * [ ] { }'\n",
    "    Alpha=False\n",
    "    alpha=False\n",
    "    num=False\n",
    "    codes=False\n",
    "    for letter in string:\n",
    "        counter+=1\n",
    "        if letter in Alpha:\n",
    "            Alpha=True\n",
    "        elif letter in alpha:\n",
    "            alpha=True\n",
    "        elif letter in code:\n",
    "            code=True\n",
    "        elif letter in num:\n",
    "            num=True\n",
    "    if counter>=8:\n",
    "        counter=True\n",
    "        return (Alpha, alpha, num,codes)"
   ]
  },
  {
   "cell_type": "code",
   "execution_count": 37,
   "id": "46f4a89b",
   "metadata": {
    "scrolled": true
   },
   "outputs": [
    {
     "data": {
      "text/plain": [
       "True"
      ]
     },
     "execution_count": 37,
     "metadata": {},
     "output_type": "execute_result"
    }
   ],
   "source": [
    "def check_pass(string):\n",
    "    counter=0\n",
    "    Alpha='A, B, C, D, E, F, G, H, I, J, K, L, M, N, O, P, Q, R, S, T, U, V, W, X, Y, Z'\n",
    "    alpha='a, b, c, d, e, f, g, h, i, j, k, l, m, n, o, p, q, r, s, t, u, v, w, x, y, z'\n",
    "    num='1,2,3,4,5,6,7,8,9'\n",
    "    codes='# @ ! $ % & ( ) ^ * [ ] { }'\n",
    "    AlphaC=False\n",
    "    alphaC=False\n",
    "    numC=False\n",
    "    codesC=False\n",
    "    for letter in string:\n",
    "        counter+=1\n",
    "        if letter in Alpha:\n",
    "            AlphaC=True\n",
    "        elif letter in alpha:\n",
    "            alphaC=True\n",
    "        elif letter in codes:\n",
    "            codesC=True\n",
    "        elif letter in num:\n",
    "            numC=True\n",
    "        if counter>=8:\n",
    "            counter=True\n",
    "        return (True)\n",
    "check_pass('caminito1')"
   ]
  },
  {
   "cell_type": "code",
   "execution_count": null,
   "id": "a4765d1c",
   "metadata": {},
   "outputs": [],
   "source": []
  }
 ],
 "metadata": {
  "kernelspec": {
   "display_name": "Python 3 (ipykernel)",
   "language": "python",
   "name": "python3"
  },
  "language_info": {
   "codemirror_mode": {
    "name": "ipython",
    "version": 3
   },
   "file_extension": ".py",
   "mimetype": "text/x-python",
   "name": "python",
   "nbconvert_exporter": "python",
   "pygments_lexer": "ipython3",
   "version": "3.9.12"
  }
 },
 "nbformat": 4,
 "nbformat_minor": 5
}
